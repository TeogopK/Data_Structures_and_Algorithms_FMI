{
 "cells": [
  {
   "cell_type": "markdown",
   "metadata": {},
   "source": [
    "## **Code playground for SDA sem 13**"
   ]
  },
  {
   "cell_type": "markdown",
   "metadata": {},
   "source": [
    "# Shortest path in a Graph"
   ]
  },
  {
   "cell_type": "markdown",
   "metadata": {},
   "source": [
    "## Dijkstra's algorithm"
   ]
  },
  {
   "cell_type": "markdown",
   "metadata": {},
   "source": [
    "Lets consider the following weighted undirected graph."
   ]
  },
  {
   "cell_type": "code",
   "execution_count": 16,
   "metadata": {},
   "outputs": [],
   "source": [
    "undirected_graph = {\n",
    "    0: [(2, 7), (1, 1)],\n",
    "    1: [(0, 1), (2, 8), (3, 7), (4, 2)],\n",
    "    2: [(0, 7), (1, 8), (4, 3)],\n",
    "    3: [(1, 7), (4, 6)],\n",
    "    4: [(3, 6), (1, 2), (2, 3)]    \n",
    "}"
   ]
  },
  {
   "cell_type": "markdown",
   "metadata": {},
   "source": [
    "![Dijkstra undirected graph example](media/dijkstra_undirected_graph.png)"
   ]
  },
  {
   "cell_type": "markdown",
   "metadata": {},
   "source": [
    "Dijksta's algorithm can find the shortest distance from a given source vertex to all others:"
   ]
  },
  {
   "cell_type": "code",
   "execution_count": 17,
   "metadata": {},
   "outputs": [
    {
     "name": "stdout",
     "output_type": "stream",
     "text": [
      "[0, 1, 6, 8, 3]\n"
     ]
    }
   ],
   "source": [
    "from heapq import heappop, heappush\n",
    "\n",
    "INF = float('infinity')\n",
    "\n",
    "def dijkstra(start, V, graph):\n",
    "    distances = [INF] * V\n",
    "    distances[start] = 0\n",
    "\n",
    "    visited = set()\n",
    "    \n",
    "    pq = [(0, start)]\n",
    "    \n",
    "    while pq:\n",
    "        total_weight, current = heappop(pq)\n",
    "        \n",
    "        if current in visited:\n",
    "            continue\n",
    "        visited.add(current)\n",
    "        \n",
    "        for neighb, added_weight in graph[current]:\n",
    "            if neighb in visited:\n",
    "                continue\n",
    "                \n",
    "            new_weight = total_weight + added_weight\n",
    "            \n",
    "            if distances[neighb] == INF or new_weight < distances[neighb]:\n",
    "                distances[neighb] = new_weight\n",
    "                heappush(pq, (new_weight, neighb))\n",
    "    \n",
    "    return distances\n",
    "\n",
    "start = 0\n",
    "V = 5\n",
    "distances = dijkstra(start, V, undirected_graph)\n",
    "print(distances) # [0, 1, 6, 8, 3]"
   ]
  },
  {
   "cell_type": "markdown",
   "metadata": {},
   "source": [
    "Verbose version:"
   ]
  },
  {
   "cell_type": "code",
   "execution_count": 18,
   "metadata": {},
   "outputs": [
    {
     "name": "stdout",
     "output_type": "stream",
     "text": [
      "[0, inf, inf, inf, inf] Node: 0, distance = 0\n",
      "Check new distance to 2: 7 <? inf\n",
      "Check new distance to 1: 1 <? inf\n",
      "Priority Queue: [(1, 1), (7, 2)]\n",
      "\n",
      "[0, 1, 7, inf, inf] Node: 1, distance = 1\n",
      "Check new distance to 2: 9 <? 7\n",
      "Check new distance to 3: 8 <? inf\n",
      "Check new distance to 4: 3 <? inf\n",
      "Priority Queue: [(3, 4), (8, 3), (7, 2)]\n",
      "\n",
      "[0, 1, 7, 8, 3] Node: 4, distance = 3\n",
      "Check new distance to 3: 9 <? 8\n",
      "Check new distance to 2: 6 <? 7\n",
      "Priority Queue: [(6, 2), (8, 3), (7, 2)]\n",
      "\n",
      "[0, 1, 6, 8, 3] Node: 2, distance = 6\n",
      "Priority Queue: [(7, 2), (8, 3)]\n",
      "\n",
      "Node 2 has already been checked\n",
      "[0, 1, 6, 8, 3] Node: 3, distance = 8\n",
      "Priority Queue: []\n",
      "\n",
      "[0, 1, 6, 8, 3]\n"
     ]
    }
   ],
   "source": [
    "from heapq import heappop, heappush\n",
    "\n",
    "INF = float('infinity')\n",
    "\n",
    "def dijkstra_verbose(start, V, graph):\n",
    "    visited = set()\n",
    "\n",
    "    distances = [INF] * V\n",
    "    distances[start] = 0\n",
    "    \n",
    "    pq = [(0, start)]\n",
    "    \n",
    "    while pq:\n",
    "        total_weight, current = heappop(pq)\n",
    "\n",
    "        if current in visited:\n",
    "            print(f\"Node {current} has already been checked\")\n",
    "            continue\n",
    "        visited.add(current)\n",
    "\n",
    "        print(distances, f\"Node: {current}, distance = {total_weight}\")\n",
    "\n",
    "        for neighb, added_weight in graph[current]:\n",
    "            if neighb in visited:\n",
    "                continue\n",
    "            \n",
    "            new_weight = total_weight + added_weight\n",
    "            \n",
    "            print(f\"Check new distance to {neighb}: {new_weight} <? {distances[neighb]}\")\n",
    "            if distances[neighb] == INF or new_weight < distances[neighb]:\n",
    "                distances[neighb] = new_weight\n",
    "                heappush(pq, (new_weight, neighb))\n",
    "\n",
    "        print(\"Priority Queue:\", pq)\n",
    "        print()\n",
    "    \n",
    "    return distances\n",
    "\n",
    "start = 0\n",
    "V = 5\n",
    "distances = dijkstra_verbose(start, V, undirected_graph)\n",
    "print(distances) # [0, 1, 6, 8, 3]"
   ]
  },
  {
   "cell_type": "markdown",
   "metadata": {},
   "source": [
    "Note that after the third iteration the priority queue has the *vertex 2* two times. After the first *2* is popped from the priority queue, the optimal path to *vertex 2* was found. This means that each time we see the *vertex 2* being popped from the priority queue, the iteration can be skipped. Also there is no need to calculate a potential shorter path to an already visited vertex. That is where the visited array comes into play."
   ]
  },
  {
   "cell_type": "markdown",
   "metadata": {},
   "source": [
    "Dijkstra does not work for graph having a negative weight edge among positive ones:"
   ]
  },
  {
   "cell_type": "code",
   "execution_count": 19,
   "metadata": {},
   "outputs": [],
   "source": [
    "graph_negative_edge = {\n",
    "    0: [(1, 1), (2, 7), (3, 5)],\n",
    "    1: [(3, 1)],\n",
    "    2: [(1, -10)],\n",
    "    3: [],\n",
    "}"
   ]
  },
  {
   "cell_type": "markdown",
   "metadata": {},
   "source": [
    "![Dijkstra negative edge graph example](media/dijkstra_negative_edge_graph.png)"
   ]
  },
  {
   "cell_type": "markdown",
   "metadata": {},
   "source": [
    "The shortest path to *vertex 1* shall be *-3*, not *1*.\n",
    "Also the shortest path to *vertex 3* shall be *7 + (-10) + 1 = -2*. This is because *vertex 1* is popped from the priority queue first and no alternative paths are ever considered after that."
   ]
  },
  {
   "cell_type": "code",
   "execution_count": 20,
   "metadata": {},
   "outputs": [
    {
     "data": {
      "text/plain": [
       "[0, 1, 7, 2]"
      ]
     },
     "execution_count": 20,
     "metadata": {},
     "output_type": "execute_result"
    }
   ],
   "source": [
    "start = 0\n",
    "V = 4\n",
    "dijkstra(start, V, graph_negative_edge) # [0, 1, 7, 2]"
   ]
  },
  {
   "cell_type": "markdown",
   "metadata": {},
   "source": [
    "Dijkstra can be modified so that a vertex may enter the priority queue multiple times - removing the *visited set*. The new algorithm will work with negative edges, but this is a controversial topic if it is still Dijkstra's algorithm and not something similar to Bellman-Ford's."
   ]
  },
  {
   "cell_type": "code",
   "execution_count": 21,
   "metadata": {},
   "outputs": [
    {
     "data": {
      "text/plain": [
       "[0, -3, 7, -2]"
      ]
     },
     "execution_count": 21,
     "metadata": {},
     "output_type": "execute_result"
    }
   ],
   "source": [
    "from heapq import heappop, heappush\n",
    "\n",
    "INF = float('infinity')\n",
    "\n",
    "def dijkstra_modified(start, V, graph):\n",
    "    distances = [INF] * V\n",
    "    distances[start] = 0\n",
    "    \n",
    "    pq = [(0, start)]\n",
    "    \n",
    "    while pq:\n",
    "        total_weight, current = heappop(pq)\n",
    "        \n",
    "        for neighb, added_weight in graph[current]:\n",
    "            new_weight = total_weight + added_weight\n",
    "            \n",
    "            if distances[neighb] == INF or new_weight < distances[neighb]:\n",
    "                distances[neighb] = new_weight\n",
    "                heappush(pq, (new_weight, neighb))\n",
    "    \n",
    "    return distances\n",
    "\n",
    "start = 0\n",
    "V = 4\n",
    "dijkstra_modified(start, V, graph_negative_edge) # [0, -3, 7, -2]"
   ]
  },
  {
   "cell_type": "markdown",
   "metadata": {},
   "source": [
    "## Bellman-Ford algorithm"
   ]
  },
  {
   "cell_type": "markdown",
   "metadata": {},
   "source": [
    "Lets search for the shortest path in the same graph from above:"
   ]
  },
  {
   "cell_type": "code",
   "execution_count": 22,
   "metadata": {},
   "outputs": [],
   "source": [
    "graph_negative_edge = {\n",
    "    0: [(1, 1), (2, 7), (3, 5)],\n",
    "    1: [(3, 1)],\n",
    "    2: [(1, -10)],\n",
    "    3: [],\n",
    "}"
   ]
  },
  {
   "cell_type": "markdown",
   "metadata": {},
   "source": [
    "![Dijkstra negative edge graph example](media/dijkstra_negative_edge_graph.png)"
   ]
  },
  {
   "cell_type": "code",
   "execution_count": 23,
   "metadata": {},
   "outputs": [
    {
     "data": {
      "text/plain": [
       "[0, -3, 7, -2]"
      ]
     },
     "execution_count": 23,
     "metadata": {},
     "output_type": "execute_result"
    }
   ],
   "source": [
    "INF = float('infinity')\n",
    "\n",
    "def bellman_ford(start, V, graph):\n",
    "    distances = [INF] * V\n",
    "    distances[start] = 0\n",
    "    \n",
    "    for _ in range(V - 1):\n",
    "        for v in range(V):\n",
    "            for child, weight in graph[v]:\n",
    "                distances[child] = min(distances[child], distances[v] + weight)\n",
    "    \n",
    "    return distances\n",
    "\n",
    "start = 0\n",
    "V = 4\n",
    "bellman_ford(start, V, graph_negative_edge) # [0, -3, 7, -2]"
   ]
  },
  {
   "cell_type": "markdown",
   "metadata": {},
   "source": [
    "Note that the graph can be represented using list of edges:"
   ]
  },
  {
   "cell_type": "code",
   "execution_count": 24,
   "metadata": {},
   "outputs": [],
   "source": [
    "graph_list_of_edges = [\n",
    "    (0, 1, 1), (0, 2, 7), (0, 3, 5), (1, 3, 1), (2, 1, -10),\n",
    "]"
   ]
  },
  {
   "cell_type": "code",
   "execution_count": 25,
   "metadata": {},
   "outputs": [
    {
     "data": {
      "text/plain": [
       "[0, -3, 7, -2]"
      ]
     },
     "execution_count": 25,
     "metadata": {},
     "output_type": "execute_result"
    }
   ],
   "source": [
    "INF = float('infinity')\n",
    "\n",
    "def bellman_ford_edges(start, V, graph):\n",
    "    distances = [INF] * V\n",
    "    distances[start] = 0\n",
    "    \n",
    "    for _ in range(V - 1):\n",
    "        for x, y, w in graph: # O(E)\n",
    "            distances[y] = min(distances[y], distances[x] + w)\n",
    "\n",
    "    return distances\n",
    "\n",
    "start = 0\n",
    "V = 4\n",
    "bellman_ford_edges(start, V, graph_list_of_edges) # [0, -3, 7, -2]"
   ]
  },
  {
   "cell_type": "markdown",
   "metadata": {},
   "source": [
    "Verbose version:"
   ]
  },
  {
   "cell_type": "code",
   "execution_count": 26,
   "metadata": {},
   "outputs": [
    {
     "name": "stdout",
     "output_type": "stream",
     "text": [
      "[0, inf, inf, inf]\n",
      "0 to 1 dist 1\n",
      "Check 0 + 1 <? inf\n",
      "0 to 2 dist 7\n",
      "Check 0 + 7 <? inf\n",
      "0 to 3 dist 5\n",
      "Check 0 + 5 <? inf\n",
      "1 to 3 dist 1\n",
      "Check 1 + 1 <? 5\n",
      "2 to 1 dist -10\n",
      "Check 7 + -10 <? 1\n",
      "\n",
      "[0, -3, 7, 2]\n",
      "0 to 1 dist 1\n",
      "Check 0 + 1 <? -3\n",
      "0 to 2 dist 7\n",
      "Check 0 + 7 <? 7\n",
      "0 to 3 dist 5\n",
      "Check 0 + 5 <? 2\n",
      "1 to 3 dist 1\n",
      "Check -3 + 1 <? 2\n",
      "2 to 1 dist -10\n",
      "Check 7 + -10 <? -3\n",
      "\n",
      "[0, -3, 7, -2]\n",
      "0 to 1 dist 1\n",
      "Check 0 + 1 <? -3\n",
      "0 to 2 dist 7\n",
      "Check 0 + 7 <? 7\n",
      "0 to 3 dist 5\n",
      "Check 0 + 5 <? -2\n",
      "1 to 3 dist 1\n",
      "Check -3 + 1 <? -2\n",
      "2 to 1 dist -10\n",
      "Check 7 + -10 <? -3\n",
      "\n"
     ]
    },
    {
     "data": {
      "text/plain": [
       "[0, -3, 7, -2]"
      ]
     },
     "execution_count": 26,
     "metadata": {},
     "output_type": "execute_result"
    }
   ],
   "source": [
    "INF = float('infinity')\n",
    "\n",
    "def bellman_ford_verbose(start, V, graph):\n",
    "    distances = [INF] * V\n",
    "    distances[start] = 0\n",
    "    \n",
    "    for _ in range(V - 1):\n",
    "        print(distances)\n",
    "\n",
    "        for x, y, w in graph: # O(E)\n",
    "            print(x, \"to\", y, \"dist\", w)\n",
    "            print(f\"Check {distances[x]} + {w} <? {distances[y]}\")\n",
    "            distances[y] = min(distances[y], distances[x] + w)\n",
    "        print()\n",
    "    return distances\n",
    "\n",
    "start = 0\n",
    "V = 4\n",
    "bellman_ford_verbose(start, V, graph_list_of_edges) # [0, -3, 7, -2]"
   ]
  },
  {
   "cell_type": "markdown",
   "metadata": {},
   "source": [
    "Add the check if the graph has negative weight cycle:"
   ]
  },
  {
   "cell_type": "code",
   "execution_count": 27,
   "metadata": {},
   "outputs": [
    {
     "data": {
      "text/plain": [
       "[0, -3, 7, -2]"
      ]
     },
     "execution_count": 27,
     "metadata": {},
     "output_type": "execute_result"
    }
   ],
   "source": [
    "INF = float('infinity')\n",
    "\n",
    "def bellman_ford_check(start, V, graph):\n",
    "    distances = [INF] * V\n",
    "    distances[start] = 0\n",
    "    \n",
    "    for _ in range(V - 1):\n",
    "        for x, y, w in graph: # O(E)\n",
    "            distances[y] = min(distances[y], distances[x] + w)\n",
    "\n",
    "    for x, y, w in graph: \n",
    "        if distances[x] + w < distances[y]:\n",
    "            raise Exception(\"Graph has a negative cycle\")\n",
    "\n",
    "    return distances\n",
    "\n",
    "start = 0\n",
    "V = 4\n",
    "bellman_ford_check(start, V, graph_list_of_edges) # [0, -3, 7, -2]"
   ]
  },
  {
   "cell_type": "markdown",
   "metadata": {},
   "source": [
    "For a graph with negative cycle:"
   ]
  },
  {
   "cell_type": "code",
   "execution_count": 28,
   "metadata": {},
   "outputs": [],
   "source": [
    "graph_negative_cycle = [\n",
    "    (1, 0, 1), (0, 2, 7), (0, 3, 5), (1, 3, 1), (2, 1, -10),\n",
    "]"
   ]
  },
  {
   "cell_type": "code",
   "execution_count": 29,
   "metadata": {},
   "outputs": [
    {
     "ename": "Exception",
     "evalue": "Graph has a negative cycle",
     "output_type": "error",
     "traceback": [
      "\u001b[1;31m---------------------------------------------------------------------------\u001b[0m",
      "\u001b[1;31mException\u001b[0m                                 Traceback (most recent call last)",
      "Cell \u001b[1;32mIn[29], line 4\u001b[0m\n\u001b[0;32m      1\u001b[0m start \u001b[38;5;241m=\u001b[39m \u001b[38;5;241m0\u001b[39m\n\u001b[0;32m      2\u001b[0m V \u001b[38;5;241m=\u001b[39m \u001b[38;5;241m4\u001b[39m\n\u001b[1;32m----> 4\u001b[0m \u001b[43mbellman_ford_check\u001b[49m\u001b[43m(\u001b[49m\u001b[43mstart\u001b[49m\u001b[43m,\u001b[49m\u001b[43m \u001b[49m\u001b[43mV\u001b[49m\u001b[43m,\u001b[49m\u001b[43m \u001b[49m\u001b[43mgraph_negative_cycle\u001b[49m\u001b[43m)\u001b[49m\n",
      "Cell \u001b[1;32mIn[27], line 13\u001b[0m, in \u001b[0;36mbellman_ford_check\u001b[1;34m(start, V, graph)\u001b[0m\n\u001b[0;32m     11\u001b[0m \u001b[38;5;28;01mfor\u001b[39;00m x, y, w \u001b[38;5;129;01min\u001b[39;00m graph: \n\u001b[0;32m     12\u001b[0m     \u001b[38;5;28;01mif\u001b[39;00m distances[x] \u001b[38;5;241m+\u001b[39m w \u001b[38;5;241m<\u001b[39m distances[y]:\n\u001b[1;32m---> 13\u001b[0m         \u001b[38;5;28;01mraise\u001b[39;00m \u001b[38;5;167;01mException\u001b[39;00m(\u001b[38;5;124m\"\u001b[39m\u001b[38;5;124mGraph has a negative cycle\u001b[39m\u001b[38;5;124m\"\u001b[39m)\n\u001b[0;32m     15\u001b[0m \u001b[38;5;28;01mreturn\u001b[39;00m distances\n",
      "\u001b[1;31mException\u001b[0m: Graph has a negative cycle"
     ]
    }
   ],
   "source": [
    "start = 0\n",
    "V = 4\n",
    "\n",
    "bellman_ford_check(start, V, graph_negative_cycle)"
   ]
  }
 ],
 "metadata": {
  "kernelspec": {
   "display_name": "Python 3",
   "language": "python",
   "name": "python3"
  },
  "language_info": {
   "codemirror_mode": {
    "name": "ipython",
    "version": 3
   },
   "file_extension": ".py",
   "mimetype": "text/x-python",
   "name": "python",
   "nbconvert_exporter": "python",
   "pygments_lexer": "ipython3",
   "version": "3.8.10"
  }
 },
 "nbformat": 4,
 "nbformat_minor": 2
}
