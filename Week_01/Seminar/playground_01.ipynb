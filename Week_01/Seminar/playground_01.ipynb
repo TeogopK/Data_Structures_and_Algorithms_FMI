{
 "cells": [
  {
   "cell_type": "markdown",
   "metadata": {},
   "source": [
    "## **Python code playground for SDA sem 1**"
   ]
  },
  {
   "cell_type": "markdown",
   "metadata": {},
   "source": [
    "### **Mutable vs Immutable objects.**"
   ]
  },
  {
   "cell_type": "markdown",
   "metadata": {},
   "source": [
    "Immutable objects. Note that the id changes:"
   ]
  },
  {
   "cell_type": "markdown",
   "metadata": {},
   "source": [
    "- numbers"
   ]
  },
  {
   "cell_type": "code",
   "execution_count": 1,
   "metadata": {},
   "outputs": [
    {
     "name": "stdout",
     "output_type": "stream",
     "text": [
      "1\n",
      "Id of the object: 1960049311984\n",
      "3\n",
      "Id of the object: 1960049312048\n"
     ]
    }
   ],
   "source": [
    "n = 1\n",
    "print(n)  # 1\n",
    "print(\"Id of the object:\", id(n))  # 2076829352176\n",
    "\n",
    "n += 2\n",
    "print(n)  # 3\n",
    "print(\"Id of the object:\", id(n))  # 2076829352240"
   ]
  },
  {
   "cell_type": "markdown",
   "metadata": {},
   "source": [
    "- tuples"
   ]
  },
  {
   "cell_type": "code",
   "execution_count": 2,
   "metadata": {},
   "outputs": [
    {
     "name": "stdout",
     "output_type": "stream",
     "text": [
      "(1, 2, 3)\n",
      "Id of the object: 1960129756608\n",
      "(1, 2, 3, 4, 5)\n",
      "Id of the object: 1960129461392\n"
     ]
    }
   ],
   "source": [
    "t = 1, 2, 3\n",
    "print(t)  # (1, 2, 3)\n",
    "print(\"Id of the object:\", id(t))  # 2076932109760\n",
    "\n",
    "t += 4, 5\n",
    "print(t)  # (1, 2, 3, 4, 5)\n",
    "print(\"Id of the object:\", id(t))  # 2076931006016"
   ]
  },
  {
   "cell_type": "markdown",
   "metadata": {},
   "source": [
    "- strings"
   ]
  },
  {
   "cell_type": "code",
   "execution_count": 3,
   "metadata": {},
   "outputs": [
    {
     "name": "stdout",
     "output_type": "stream",
     "text": [
      "abc\n",
      "Id of the object: 1960054808944\n",
      "abcxyz\n",
      "Id of the object: 1960129678768\n"
     ]
    }
   ],
   "source": [
    "s = \"abc\"\n",
    "print(s)  # abc\n",
    "print(\"Id of the object:\", id(s))  # 2076834978160\n",
    "\n",
    "s += \"xyz\"\n",
    "print(s)  # abcxyz\n",
    "print(\"Id of the object:\", id(s))  # 2076910065392"
   ]
  },
  {
   "cell_type": "markdown",
   "metadata": {},
   "source": [
    "Mutable objects. Note that the id remains the same:"
   ]
  },
  {
   "cell_type": "markdown",
   "metadata": {},
   "source": [
    "- lists"
   ]
  },
  {
   "cell_type": "code",
   "execution_count": 4,
   "metadata": {},
   "outputs": [
    {
     "name": "stdout",
     "output_type": "stream",
     "text": [
      "[1, 2, 3]\n",
      "Id of the object: 1960129640256\n",
      "[1, 2, 3, 4, 5]\n",
      "Id of the object: 1960129640256\n"
     ]
    }
   ],
   "source": [
    "arr = [1, 2, 3]\n",
    "print(arr)  # [1, 2, 3]\n",
    "print(\"Id of the object:\", id(arr))  # 2076931496320\n",
    "\n",
    "arr += [4, 5]\n",
    "print(arr)  # [1, 2, 3, 4, 5]\n",
    "print(\"Id of the object:\", id(arr))  # 2076931496320"
   ]
  },
  {
   "cell_type": "markdown",
   "metadata": {},
   "source": [
    "- sets"
   ]
  },
  {
   "cell_type": "code",
   "execution_count": 5,
   "metadata": {},
   "outputs": [
    {
     "name": "stdout",
     "output_type": "stream",
     "text": [
      "{1, 2, 3}\n",
      "Id of the object: 1960129372544\n",
      "{1, 2, 3, 4}\n",
      "Id of the object: 1960129372544\n"
     ]
    }
   ],
   "source": [
    "A = {1, 1, 2, 3}\n",
    "print(A)  # {1, 2, 3}\n",
    "print(\"Id of the object:\", id(A))  # 2076910498784\n",
    "\n",
    "A |= {1, 3, 4}\n",
    "print(A)  # {1, 2, 3, 4}\n",
    "print(\"Id of the object:\", id(A))  # 2076910498784"
   ]
  },
  {
   "cell_type": "markdown",
   "metadata": {},
   "source": [
    "- dictionaries"
   ]
  },
  {
   "cell_type": "code",
   "execution_count": 6,
   "metadata": {},
   "outputs": [
    {
     "name": "stdout",
     "output_type": "stream",
     "text": [
      "{6: 'Saturday', 7: 'Sunday'}\n",
      "Id of the object: 1960129749632\n",
      "{6: 'Saturday', 7: 'Воскресенье'}\n",
      "Id of the object: 1960129749632\n"
     ]
    }
   ],
   "source": [
    "D = {6: \"Saturday\", 7: \"Sunday\"}\n",
    "print(D)  # {6: 'Saturday', 7: 'Sunday'}\n",
    "print(\"Id of the object:\", id(D))  # 2076931815552\n",
    "\n",
    "D[7] = \"Воскресенье\"\n",
    "print(D)  # {6: 'Saturday', 7: 'Возкресение'}\n",
    "print(\"Id of the object:\", id(D))  # 2076931815552"
   ]
  },
  {
   "cell_type": "markdown",
   "metadata": {},
   "source": [
    "### **Passing objects in function**"
   ]
  },
  {
   "cell_type": "markdown",
   "metadata": {},
   "source": [
    "- numbers - immutable objects. Note that the id changes."
   ]
  },
  {
   "cell_type": "code",
   "execution_count": 7,
   "metadata": {},
   "outputs": [
    {
     "name": "stdout",
     "output_type": "stream",
     "text": [
      "1 1960049311984\n",
      "2 1960049312016\n",
      "1 1960049311984\n"
     ]
    }
   ],
   "source": [
    "n = 1\n",
    "print(n, id(n))  # 1 2076829352176\n",
    "\n",
    "\n",
    "def f(n):\n",
    "    n += 1\n",
    "    print(n, id(n))  # 2 2076829352208\n",
    "\n",
    "\n",
    "f(n)\n",
    "print(n, id(n))  # 1 2076829352176"
   ]
  },
  {
   "cell_type": "markdown",
   "metadata": {},
   "source": [
    "- lists - mutable object. Note that the id remains the same."
   ]
  },
  {
   "cell_type": "code",
   "execution_count": 8,
   "metadata": {},
   "outputs": [
    {
     "name": "stdout",
     "output_type": "stream",
     "text": [
      "[1, 2, 3] 1960129952768\n",
      "[1, 2, 3, 4] 1960129952768\n",
      "[1, 2, 3, 4] 1960129952768\n"
     ]
    }
   ],
   "source": [
    "arr = [1, 2, 3]\n",
    "print(arr, id(arr))  # [1, 2, 3] 2076931627264\n",
    "\n",
    "\n",
    "def func(arr):\n",
    "    arr.append(4)\n",
    "    print(arr, id(arr))  # [1, 2, 3, 4] 2076931627264\n",
    "\n",
    "\n",
    "func(arr)\n",
    "print(arr, id(arr))  # [1, 2, 3, 4] 2076931627264"
   ]
  },
  {
   "cell_type": "markdown",
   "metadata": {},
   "source": [
    "- string - immutable object"
   ]
  },
  {
   "cell_type": "code",
   "execution_count": 9,
   "metadata": {},
   "outputs": [
    {
     "name": "stdout",
     "output_type": "stream",
     "text": [
      "abc 1960054808944\n",
      "abcxyz 1960129917296\n",
      "abc 1960054808944\n"
     ]
    }
   ],
   "source": [
    "s = \"abc\"\n",
    "print(s, id(s))  # abc 2076834978160\n",
    "\n",
    "\n",
    "def func(s):\n",
    "    s += \"xyz\"\n",
    "    print(s, id(s))  # abcxyz 2076909883568\n",
    "\n",
    "\n",
    "func(s)\n",
    "print(s, id(s))  # abc 2076834978160"
   ]
  },
  {
   "cell_type": "markdown",
   "metadata": {},
   "source": [
    "Note id() function behavior:"
   ]
  },
  {
   "cell_type": "code",
   "execution_count": 10,
   "metadata": {},
   "outputs": [
    {
     "data": {
      "text/plain": [
       "True"
      ]
     },
     "execution_count": 10,
     "metadata": {},
     "output_type": "execute_result"
    }
   ],
   "source": [
    "a = 10\n",
    "id(a) == id(10)  # True"
   ]
  },
  {
   "cell_type": "markdown",
   "metadata": {},
   "source": [
    "### **Bigint**"
   ]
  },
  {
   "cell_type": "markdown",
   "metadata": {},
   "source": [
    "Small numbers are class int:"
   ]
  },
  {
   "cell_type": "code",
   "execution_count": 11,
   "metadata": {},
   "outputs": [
    {
     "name": "stdout",
     "output_type": "stream",
     "text": [
      "4\n",
      "<class 'int'>\n"
     ]
    }
   ],
   "source": [
    "a = 4\n",
    "print(a)  # 4\n",
    "print(type(a))  # <class 'int'>"
   ]
  },
  {
   "cell_type": "markdown",
   "metadata": {},
   "source": [
    "Big numbers are class int (since Python 3.0+):"
   ]
  },
  {
   "cell_type": "code",
   "execution_count": 12,
   "metadata": {},
   "outputs": [
    {
     "name": "stdout",
     "output_type": "stream",
     "text": [
      "179769313486231590772930519078902473361797697894230657273430081157732675805500963132708477322407536021120113879871393357658789768814416622492847430639474124377767893424865485276302219601246094119453082952085005768838150682342462881473913110540827237163350510684586298239947245938479716304835356329624224137216\n",
      "<class 'int'>\n"
     ]
    }
   ],
   "source": [
    "b = 2**1024\n",
    "print(b)  # 179769313486231... (309 digits)\n",
    "print(type(b))"
   ]
  },
  {
   "cell_type": "code",
   "execution_count": 13,
   "metadata": {},
   "outputs": [
    {
     "data": {
      "text/plain": [
       "309"
      ]
     },
     "execution_count": 13,
     "metadata": {},
     "output_type": "execute_result"
    }
   ],
   "source": [
    "len(\n",
    "    \"179769313486231590772930519078902473361797697894230657273430081157732675805500963132708477322407536021120113879871393357658789768814416622492847430639474124377767893424865485276302219601246094119453082952085005768838150682342462881473913110540827237163350510684586298239947245938479716304835356329624224137216\"\n",
    ")"
   ]
  },
  {
   "cell_type": "markdown",
   "metadata": {},
   "source": [
    "The size in bytes of each int varies:"
   ]
  },
  {
   "cell_type": "code",
   "execution_count": 14,
   "metadata": {},
   "outputs": [
    {
     "name": "stdout",
     "output_type": "stream",
     "text": [
      "28\n",
      "164\n"
     ]
    }
   ],
   "source": [
    "import sys\n",
    "\n",
    "a = 4\n",
    "print(sys.getsizeof(a))  # 28\n",
    "\n",
    "b = 2**1024\n",
    "print(sys.getsizeof(b))  # 124"
   ]
  },
  {
   "cell_type": "markdown",
   "metadata": {},
   "source": [
    "Python dynamically allocates the needed memory:"
   ]
  },
  {
   "cell_type": "code",
   "execution_count": 15,
   "metadata": {},
   "outputs": [
    {
     "name": "stdout",
     "output_type": "stream",
     "text": [
      "30825.471555991677\n",
      "13680\n"
     ]
    }
   ],
   "source": [
    "from math import log10\n",
    "\n",
    "c = (2**1024) ** 100\n",
    "\n",
    "print(log10(c))  # 30825.471555991677 (the digits of c)\n",
    "print(sys.getsizeof(c))  # 13680"
   ]
  },
  {
   "cell_type": "markdown",
   "metadata": {},
   "source": [
    "The maximum size an integer can be in bytes is:"
   ]
  },
  {
   "cell_type": "code",
   "execution_count": 16,
   "metadata": {},
   "outputs": [
    {
     "name": "stdout",
     "output_type": "stream",
     "text": [
      "9223372036854775807\n"
     ]
    }
   ],
   "source": [
    "print(sys.maxsize)  # 9223372036854775807"
   ]
  },
  {
   "cell_type": "markdown",
   "metadata": {},
   "source": [
    "### **List comprehension**"
   ]
  },
  {
   "cell_type": "markdown",
   "metadata": {},
   "source": [
    "The naive way:"
   ]
  },
  {
   "cell_type": "code",
   "execution_count": 17,
   "metadata": {},
   "outputs": [
    {
     "name": "stdout",
     "output_type": "stream",
     "text": [
      "[0, 2, 4, 6, 8]\n"
     ]
    }
   ],
   "source": [
    "arr = []\n",
    "\n",
    "for i in range(10):\n",
    "    if i % 2 == 0:\n",
    "        arr.append(i)\n",
    "\n",
    "print(arr)  # [0, 2, 4, 6, 8]"
   ]
  },
  {
   "cell_type": "markdown",
   "metadata": {},
   "source": [
    "The faster, more elegant way:"
   ]
  },
  {
   "cell_type": "code",
   "execution_count": 18,
   "metadata": {},
   "outputs": [
    {
     "name": "stdout",
     "output_type": "stream",
     "text": [
      "[0, 2, 4, 6, 8]\n"
     ]
    }
   ],
   "source": [
    "arr = [i for i in range(10) if i % 2 == 0]\n",
    "print(arr)  # [0, 2, 4, 6, 8]"
   ]
  },
  {
   "cell_type": "markdown",
   "metadata": {},
   "source": [
    "An else clause is also possible:"
   ]
  },
  {
   "cell_type": "code",
   "execution_count": 19,
   "metadata": {},
   "outputs": [
    {
     "name": "stdout",
     "output_type": "stream",
     "text": [
      "[0, -1, 4, -9, 16, -25, 36, -49, 64, -81]\n"
     ]
    }
   ],
   "source": [
    "arr = [i**2 if i % 2 == 0 else -(i**2) for i in range(10)]\n",
    "print(arr)  # [0, -1, 4, -9, 16, -25, 36, -49, 64, -81]"
   ]
  },
  {
   "cell_type": "markdown",
   "metadata": {},
   "source": [
    "Multiple fors are also possible:"
   ]
  },
  {
   "cell_type": "code",
   "execution_count": 20,
   "metadata": {},
   "outputs": [
    {
     "name": "stdout",
     "output_type": "stream",
     "text": [
      "[(0, 'X'), (0, 'Y'), (1, 'X'), (1, 'Y'), (2, 'X'), (2, 'Y')]\n"
     ]
    }
   ],
   "source": [
    "arr = [(i, j) for i in range(3) for j in \"XY\"]\n",
    "print(arr)  # [(0, 'X'), (0, 'Y'), (1, 'X'), (1, 'Y'), (2, 'X'), (2, 'Y')]"
   ]
  },
  {
   "cell_type": "markdown",
   "metadata": {},
   "source": [
    "### **Copy() vs Deepcopy()**"
   ]
  },
  {
   "cell_type": "markdown",
   "metadata": {},
   "source": [
    "Using *operator =*. Changes in *father*/ *child* **change both** *child* and *father*:"
   ]
  },
  {
   "cell_type": "code",
   "execution_count": 21,
   "metadata": {},
   "outputs": [
    {
     "name": "stdout",
     "output_type": "stream",
     "text": [
      "Father:  [0, 1, 99, 2, 3, 4]\n",
      "Child:  [0, 1, 99, 2, 3, 4]\n"
     ]
    }
   ],
   "source": [
    "father = [i for i in range(5)]\n",
    "child = father\n",
    "\n",
    "father.insert(2, 99)  # same with child.insert()\n",
    "\n",
    "print(\"Father: \", father)  # [0, 1, 99, 2, 3, 4]\n",
    "print(\"Child: \", child)  # [0, 1, 99, 2, 3, 4]"
   ]
  },
  {
   "cell_type": "markdown",
   "metadata": {},
   "source": [
    "Note that *child* and *father* **are both the same** object:"
   ]
  },
  {
   "cell_type": "code",
   "execution_count": 22,
   "metadata": {},
   "outputs": [
    {
     "name": "stdout",
     "output_type": "stream",
     "text": [
      "True\n"
     ]
    }
   ],
   "source": [
    "print(id(child) == id(father))  # True"
   ]
  },
  {
   "cell_type": "markdown",
   "metadata": {},
   "source": [
    "Using method *copy()*. Changes in *father* **do not affect** *child*:"
   ]
  },
  {
   "cell_type": "code",
   "execution_count": 23,
   "metadata": {},
   "outputs": [
    {
     "name": "stdout",
     "output_type": "stream",
     "text": [
      "Father:  [0, 1, 99, 2, 3, 4]\n",
      "Child:  [0, 1, 2, 3, 4]\n"
     ]
    }
   ],
   "source": [
    "father = [i for i in range(5)]\n",
    "child = father.copy()\n",
    "\n",
    "father.insert(2, 99)\n",
    "\n",
    "print(\"Father: \", father)  # [0, 1, 99, 2, 3, 4]\n",
    "print(\"Child: \", child)  # [0, 1, 2, 3, 4]"
   ]
  },
  {
   "cell_type": "markdown",
   "metadata": {},
   "source": [
    "Note that *child* and *father* **are different** objects:"
   ]
  },
  {
   "cell_type": "code",
   "execution_count": 24,
   "metadata": {},
   "outputs": [
    {
     "name": "stdout",
     "output_type": "stream",
     "text": [
      "True\n"
     ]
    }
   ],
   "source": [
    "print(id(child) != id(father))  # True"
   ]
  },
  {
   "cell_type": "markdown",
   "metadata": {},
   "source": [
    "Using *copy()* on compound object. Changes in the mutable object part of *father* (*inner_list*) **are seen** in *child* as well:"
   ]
  },
  {
   "cell_type": "code",
   "execution_count": 25,
   "metadata": {},
   "outputs": [
    {
     "name": "stdout",
     "output_type": "stream",
     "text": [
      "Father:  [1, 2, 3, [4, 5, 6]]\n",
      "Child:  [1, 2, 3, [4, 5, 6]]\n"
     ]
    }
   ],
   "source": [
    "from copy import copy\n",
    "\n",
    "inner_list = [4, 5]\n",
    "\n",
    "father = [1, 2, 3, inner_list]\n",
    "child = copy(father)\n",
    "\n",
    "father[3].append(6)  # equals inner_list.append(6)\n",
    "\n",
    "print(\"Father: \", father)  # [1, 2, 3, [4, 5, 6]]\n",
    "print(\"Child: \", child)  # [1, 2, 3, [4, 5, 6]]"
   ]
  },
  {
   "cell_type": "markdown",
   "metadata": {},
   "source": [
    "*Father* and *child* **are different** objects, but their **compound parts are the same**:"
   ]
  },
  {
   "cell_type": "code",
   "execution_count": 26,
   "metadata": {},
   "outputs": [
    {
     "name": "stdout",
     "output_type": "stream",
     "text": [
      "True\n",
      "True\n"
     ]
    }
   ],
   "source": [
    "print(id(child) != id(father))  # True\n",
    "print(id(child[3]) == id(father[3]))  # True"
   ]
  },
  {
   "cell_type": "markdown",
   "metadata": {},
   "source": [
    "Using *deepcopy()* on compound object. Changes in the mutable object part of *father* (*inner_list*) **do not affect** *child*:"
   ]
  },
  {
   "cell_type": "code",
   "execution_count": 27,
   "metadata": {},
   "outputs": [
    {
     "name": "stdout",
     "output_type": "stream",
     "text": [
      "Father:  [1, 2, 3, [4, 5, 6]]\n",
      "Child:  [1, 2, 3, [4, 5]]\n"
     ]
    }
   ],
   "source": [
    "from copy import deepcopy\n",
    "\n",
    "inner_list = [4, 5]\n",
    "\n",
    "father = [1, 2, 3, inner_list]\n",
    "child = deepcopy(father)\n",
    "\n",
    "father[3].append(6)\n",
    "\n",
    "print(\"Father: \", father)  # [1, 2, 3, [4, 5, 6]]\n",
    "print(\"Child: \", child)  # [1, 2, 3, [4, 5]"
   ]
  },
  {
   "cell_type": "markdown",
   "metadata": {},
   "source": [
    "*Father* and *child* **are different** objects, and their **compound parts are also different** objects:"
   ]
  },
  {
   "cell_type": "code",
   "execution_count": 28,
   "metadata": {},
   "outputs": [
    {
     "name": "stdout",
     "output_type": "stream",
     "text": [
      "True\n",
      "True\n"
     ]
    }
   ],
   "source": [
    "print(id(child) != id(father))  # True\n",
    "print(id(child[3]) != id(father[3]))  # True"
   ]
  },
  {
   "cell_type": "markdown",
   "metadata": {},
   "source": [
    "## Filter()"
   ]
  },
  {
   "cell_type": "markdown",
   "metadata": {},
   "source": [
    "Using defined function:"
   ]
  },
  {
   "cell_type": "code",
   "execution_count": 29,
   "metadata": {},
   "outputs": [
    {
     "name": "stdout",
     "output_type": "stream",
     "text": [
      "[0, 2, 4, 6, 8]\n"
     ]
    }
   ],
   "source": [
    "arr = [i for i in range(10)]\n",
    "\n",
    "\n",
    "def check_if_even(x):\n",
    "    return x % 2 == 0\n",
    "\n",
    "\n",
    "even_arr = list(filter(check_if_even, arr))\n",
    "print(even_arr)  # [0, 2, 4, 6, 8]"
   ]
  },
  {
   "cell_type": "markdown",
   "metadata": {},
   "source": [
    "Using anonymous function (lambda expression):"
   ]
  },
  {
   "cell_type": "code",
   "execution_count": 30,
   "metadata": {},
   "outputs": [
    {
     "name": "stdout",
     "output_type": "stream",
     "text": [
      "[0, 2, 4, 6, 8]\n"
     ]
    }
   ],
   "source": [
    "arr = [i for i in range(10)]\n",
    "\n",
    "even_arr = list(filter(lambda x: x % 2 == 0, arr))\n",
    "print(even_arr)  # [0, 2, 4, 6, 8]"
   ]
  },
  {
   "cell_type": "markdown",
   "metadata": {},
   "source": [
    "### **Time complexity**"
   ]
  },
  {
   "cell_type": "markdown",
   "metadata": {},
   "source": [
    "- *O(1)* - Returning a constant:"
   ]
  },
  {
   "cell_type": "code",
   "execution_count": 31,
   "metadata": {},
   "outputs": [
    {
     "name": "stdout",
     "output_type": "stream",
     "text": [
      "3.14\n"
     ]
    }
   ],
   "source": [
    "def get_Pi():\n",
    "    return 3.14\n",
    "\n",
    "\n",
    "print(get_Pi())"
   ]
  },
  {
   "cell_type": "markdown",
   "metadata": {},
   "source": [
    "- *O(1)* - Returning an element on a specific position in list:"
   ]
  },
  {
   "cell_type": "code",
   "execution_count": 32,
   "metadata": {},
   "outputs": [
    {
     "name": "stdout",
     "output_type": "stream",
     "text": [
      "25\n"
     ]
    }
   ],
   "source": [
    "def get_5th_element(arr):\n",
    "    return arr[5]\n",
    "\n",
    "\n",
    "arr = [i for i in range(0, 100, 5)]\n",
    "print(get_5th_element(arr))  # 25"
   ]
  },
  {
   "cell_type": "markdown",
   "metadata": {},
   "source": [
    "- *O(N)* - Looping once through an array of size N:"
   ]
  },
  {
   "cell_type": "code",
   "execution_count": 33,
   "metadata": {},
   "outputs": [
    {
     "name": "stdout",
     "output_type": "stream",
     "text": [
      "0\n",
      "5\n",
      "10\n",
      "15\n",
      "20\n",
      "25\n",
      "30\n",
      "35\n",
      "40\n",
      "45\n",
      "50\n",
      "55\n",
      "60\n",
      "65\n",
      "70\n",
      "75\n",
      "80\n",
      "85\n",
      "90\n",
      "95\n"
     ]
    }
   ],
   "source": [
    "for value in arr:\n",
    "    print(value)"
   ]
  },
  {
   "cell_type": "markdown",
   "metadata": {},
   "source": [
    "*O(N<sup>2</sup>)* - Looping through an array of size N N times (using inner loop)."
   ]
  },
  {
   "cell_type": "code",
   "execution_count": null,
   "metadata": {},
   "outputs": [],
   "source": [
    "N = 100\n",
    "\n",
    "for i in range(N):\n",
    "    for j in range(N):\n",
    "        print(i, j)"
   ]
  },
  {
   "cell_type": "markdown",
   "metadata": {},
   "source": [
    "*O(2<sup>N</sup>)* - Finding the N-th number in the Fibonacci sequence. Each call spawns two new calls."
   ]
  },
  {
   "cell_type": "code",
   "execution_count": 35,
   "metadata": {},
   "outputs": [
    {
     "name": "stdout",
     "output_type": "stream",
     "text": [
      "832040\n"
     ]
    }
   ],
   "source": [
    "def fibonacci(N):\n",
    "    if N <= 1:\n",
    "        return N\n",
    "    return fibonacci(N - 1) + fibonacci(N - 2)\n",
    "\n",
    "\n",
    "N = 30  # Do not try with bigger than 40\n",
    "print(fibonacci(N))"
   ]
  },
  {
   "cell_type": "markdown",
   "metadata": {},
   "source": [
    "*O(logN)* - Finding how many times can N be divided by two."
   ]
  },
  {
   "cell_type": "code",
   "execution_count": 36,
   "metadata": {},
   "outputs": [
    {
     "name": "stdout",
     "output_type": "stream",
     "text": [
      "6\n"
     ]
    }
   ],
   "source": [
    "def count_deuces(N, count=0):\n",
    "    if N <= 1:\n",
    "        return count\n",
    "\n",
    "    count += 1\n",
    "    return count_deuces(N // 2, count)\n",
    "\n",
    "\n",
    "print(count_deuces(100))  # 6 -> 2 ** 6 = 64"
   ]
  },
  {
   "cell_type": "code",
   "execution_count": 37,
   "metadata": {},
   "outputs": [
    {
     "name": "stdout",
     "output_type": "stream",
     "text": [
      "6\n"
     ]
    }
   ],
   "source": [
    "def count_deuces2(N):\n",
    "    if N <= 1:\n",
    "        return 0\n",
    "\n",
    "    return count_deuces2(N // 2) + 1\n",
    "\n",
    "\n",
    "print(count_deuces2(100))  # 6 -> 2 ** 6 = 64"
   ]
  },
  {
   "cell_type": "markdown",
   "metadata": {},
   "source": [
    "Variant without recursion:"
   ]
  },
  {
   "cell_type": "code",
   "execution_count": 38,
   "metadata": {},
   "outputs": [
    {
     "name": "stdout",
     "output_type": "stream",
     "text": [
      "6\n"
     ]
    }
   ],
   "source": [
    "def count_deuces_simple(N):\n",
    "    count = 0\n",
    "\n",
    "    while N > 1:\n",
    "        N //= 2\n",
    "        count += 1\n",
    "\n",
    "    return count\n",
    "\n",
    "\n",
    "print(count_deuces_simple(100))  # 6 -> 2 ** 6 = 64"
   ]
  },
  {
   "cell_type": "markdown",
   "metadata": {},
   "source": [
    "*O(N + M)* - Looping through two arrays, one of size N, and the other of size M."
   ]
  },
  {
   "cell_type": "code",
   "execution_count": null,
   "metadata": {},
   "outputs": [],
   "source": [
    "def brothers(N, M):\n",
    "    for i in range(N):\n",
    "        print(i)\n",
    "\n",
    "    for j in range(M):\n",
    "        print(j)\n",
    "\n",
    "\n",
    "brothers(10, 100)"
   ]
  }
 ],
 "metadata": {
  "kernelspec": {
   "display_name": "Python 3",
   "language": "python",
   "name": "python3"
  },
  "language_info": {
   "codemirror_mode": {
    "name": "ipython",
    "version": 3
   },
   "file_extension": ".py",
   "mimetype": "text/x-python",
   "name": "python",
   "nbconvert_exporter": "python",
   "pygments_lexer": "ipython3",
   "version": "3.10.11"
  },
  "orig_nbformat": 4
 },
 "nbformat": 4,
 "nbformat_minor": 2
}
