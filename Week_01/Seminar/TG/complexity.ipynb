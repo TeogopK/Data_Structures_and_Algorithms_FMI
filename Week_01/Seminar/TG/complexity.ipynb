{
 "cells": [
  {
   "cell_type": "code",
   "execution_count": 6,
   "metadata": {},
   "outputs": [],
   "source": [
    "# O(1)\n",
    "\n",
    "def get_element(value: list, index: int):\n",
    "    return value[index]"
   ]
  },
  {
   "cell_type": "code",
   "execution_count": null,
   "metadata": {},
   "outputs": [],
   "source": [
    "# O(1)\n",
    "# https://wiki.python.org/moin/TimeComplexity\n",
    "\n",
    "def foo(v: list):\n",
    "    v.pop()"
   ]
  },
  {
   "cell_type": "code",
   "execution_count": null,
   "metadata": {},
   "outputs": [],
   "source": [
    "# O(1), amortized\n",
    "# https://wiki.python.org/moin/TimeComplexity\n",
    "\n",
    "def foo(v: list):\n",
    "    v.append(1)"
   ]
  },
  {
   "cell_type": "code",
   "execution_count": null,
   "metadata": {},
   "outputs": [],
   "source": [
    "# O(n)\n",
    "# https://wiki.python.org/moin/TimeComplexity\n",
    "\n",
    "def foo(v: list):\n",
    "    v.insert(0, 1)"
   ]
  },
  {
   "cell_type": "code",
   "execution_count": null,
   "metadata": {},
   "outputs": [],
   "source": [
    "# O(n)\n",
    "# https://wiki.python.org/moin/TimeComplexity\n",
    "\n",
    "def foo(v: list):\n",
    "    v.pop(0)"
   ]
  },
  {
   "cell_type": "code",
   "execution_count": null,
   "metadata": {},
   "outputs": [],
   "source": [
    "# O(n)\n",
    "\n",
    "def max_element(numbers: list):\n",
    "    max = numbers[0]\n",
    "\n",
    "    for i in numbers:\n",
    "        if i > max:\n",
    "            max = i\n",
    "\n",
    "    return max"
   ]
  },
  {
   "cell_type": "code",
   "execution_count": 5,
   "metadata": {},
   "outputs": [],
   "source": [
    "# O(n³)\n",
    "\n",
    "def find_xyz(number_to_sum_to: int, max: int):\n",
    "    result = []\n",
    "\n",
    "    for x in range(max + 1):\n",
    "        for y in range(max + 1):\n",
    "            for z in range(max + 1):\n",
    "                if x + y + z == number_to_sum_to:\n",
    "                    result.append((x, y, z))\n",
    "\n",
    "    return result"
   ]
  },
  {
   "cell_type": "code",
   "execution_count": null,
   "metadata": {},
   "outputs": [],
   "source": [
    "# O(n²)\n",
    "\n",
    "def find_duplicate_dumb(v: list):\n",
    "    for i in range(len(v)):\n",
    "        for j in range(len(v)):\n",
    "            if v[i] == v[j] and i != j:\n",
    "                return v[i]\n",
    "\n",
    "    return None"
   ]
  },
  {
   "cell_type": "code",
   "execution_count": null,
   "metadata": {},
   "outputs": [],
   "source": [
    "# O(log n)\n",
    "\n",
    "def log_it(n: int):\n",
    "    i = n\n",
    "\n",
    "    while i > 0:\n",
    "        print(i)\n",
    "        i = i // 2"
   ]
  },
  {
   "cell_type": "code",
   "execution_count": 3,
   "metadata": {},
   "outputs": [],
   "source": [
    "# O(n * log n)\n",
    "\n",
    "def log_it_slow(n: int):\n",
    "    i = n\n",
    "\n",
    "    while i > 0:\n",
    "        j = n\n",
    "\n",
    "        while j > 0:\n",
    "            print(i)\n",
    "            j = j / 2\n",
    "\n",
    "        i -= 1"
   ]
  },
  {
   "cell_type": "code",
   "execution_count": 4,
   "metadata": {},
   "outputs": [],
   "source": [
    "# O(n!)\n",
    "\n",
    "# Why: The number of iterations is n = r - l.\n",
    "# permute(l, r) calls permute(l+1, r) n times, in other words permute(n) calls permute(n-1) n times.\n",
    "# This repeats until n=0, when permute does 1 operation (a print, which we assume to be constant).\n",
    "# permute(n) -> n * permute(n-1) -> n * (n - 1) * permute(n-2) -> n * (n - 1) * (n - 2) * permute(n-3) -> ... -> n!\n",
    "\n",
    "def permute(a: list, l: int, r: int):\n",
    "    if l == r:\n",
    "        print(a)\n",
    "    else:\n",
    "        for i in range(l, r + 1):\n",
    "            a[l], a[i] = a[i], a[l]\n",
    "            permute(a, l+1, r)\n",
    "            a[l], a[i] = a[i], a[l]"
   ]
  }
 ],
 "metadata": {
  "kernelspec": {
   "display_name": "pyspark",
   "language": "python",
   "name": "python3"
  },
  "language_info": {
   "codemirror_mode": {
    "name": "ipython",
    "version": 3
   },
   "file_extension": ".py",
   "mimetype": "text/x-python",
   "name": "python",
   "nbconvert_exporter": "python",
   "pygments_lexer": "ipython3",
   "version": "3.10.11"
  }
 },
 "nbformat": 4,
 "nbformat_minor": 2
}
