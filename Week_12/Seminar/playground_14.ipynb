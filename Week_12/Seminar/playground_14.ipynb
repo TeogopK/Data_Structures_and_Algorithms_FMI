{
 "cells": [
  {
   "cell_type": "markdown",
   "metadata": {},
   "source": [
    "## **Code playground for SDA sem 14**"
   ]
  },
  {
   "cell_type": "markdown",
   "metadata": {},
   "source": [
    "# Minimum spanning tree"
   ]
  },
  {
   "cell_type": "markdown",
   "metadata": {},
   "source": [
    "## Prim's algorithm"
   ]
  },
  {
   "cell_type": "markdown",
   "metadata": {},
   "source": [
    "Lets consider the following weighted undirected graph."
   ]
  },
  {
   "cell_type": "code",
   "execution_count": 1,
   "metadata": {},
   "outputs": [],
   "source": [
    "weighted_graph = {\n",
    "    1: [(2, 4), (4, 1)],\n",
    "    2: [(1, 4), (3, 3)],\n",
    "    3: [(2, 3), (4, 4)],\n",
    "    4: [(1, 1), (3, 4), (5, 5)],\n",
    "    5: [(4, 5)]   \n",
    "}"
   ]
  },
  {
   "cell_type": "markdown",
   "metadata": {},
   "source": [
    "![Weighted graph example](media/weighted_graph.png)"
   ]
  },
  {
   "cell_type": "markdown",
   "metadata": {},
   "source": [
    "Prim's algorithm finds a Minimum spanning tree in a weighted graph:"
   ]
  },
  {
   "cell_type": "code",
   "execution_count": 2,
   "metadata": {},
   "outputs": [
    {
     "name": "stdout",
     "output_type": "stream",
     "text": [
      "13\n"
     ]
    }
   ],
   "source": [
    "from heapq import heappush, heappop\n",
    "\n",
    "def prim(start, V, graph):\n",
    "    visited = set()\n",
    "    pq = [(0, start)]\n",
    "    mst_weight = 0\n",
    "    \n",
    "    while len(visited) != V:\n",
    "        current_weight, current_vertex = heappop(pq)\n",
    "        \n",
    "        if current_vertex in visited:\n",
    "            continue\n",
    "        \n",
    "        visited.add(current_vertex)\n",
    "        mst_weight += current_weight\n",
    "        \n",
    "        for neighb, weight in graph[current_vertex]:\n",
    "            if neighb in visited:\n",
    "                continue\n",
    "                            \n",
    "            heappush(pq, (weight, neighb))\n",
    "    \n",
    "    return mst_weight\n",
    "\n",
    "start = 5\n",
    "V = 5\n",
    "mst_weight = prim(start, V, weighted_graph)\n",
    "print(mst_weight)"
   ]
  },
  {
   "cell_type": "markdown",
   "metadata": {},
   "source": [
    "![Prim's algorithm creating a MST of a graph, step by step example.](media/prims_algorithm_example.png)"
   ]
  },
  {
   "cell_type": "markdown",
   "metadata": {},
   "source": [
    "Verbose version:"
   ]
  },
  {
   "cell_type": "code",
   "execution_count": 3,
   "metadata": {},
   "outputs": [
    {
     "name": "stdout",
     "output_type": "stream",
     "text": [
      "Edge with weight 0 to vertex 5 added to MST.\n",
      "Edge with weight 5 to vertex 4 added to MST.\n",
      "Edge with weight 1 to vertex 1 added to MST.\n",
      "Edge with weight 4 to vertex 2 added to MST.\n",
      "Edge with weight 3 to vertex 3 added to MST.\n",
      "Edges that are not used:  [(4, 3)]\n",
      "Total weight of MST = 13\n"
     ]
    }
   ],
   "source": [
    "from heapq import heappush, heappop\n",
    "\n",
    "def prim_verbose(start, V, graph):\n",
    "    visited = set()\n",
    "    pq = [(0, start)]\n",
    "    mst_weight = 0\n",
    "    \n",
    "    while len(visited) != V:\n",
    "        current_weight, current_vertex = heappop(pq)\n",
    "        \n",
    "        if current_vertex in visited:\n",
    "            print(f\"Skipping edge with weight {current_weight} to visited vertex {current_vertex}.\", visited)\n",
    "            continue\n",
    "        \n",
    "        print(f\"Edge with weight {current_weight} to vertex {current_vertex} added to MST.\")\n",
    "        visited.add(current_vertex)\n",
    "        mst_weight += current_weight\n",
    "        \n",
    "        for neighb, weight in graph[current_vertex]:\n",
    "            if neighb in visited:\n",
    "                continue\n",
    "                            \n",
    "            heappush(pq, (weight, neighb))\n",
    "    \n",
    "    print(\"Edges that are not used: \", pq)\n",
    "    return mst_weight\n",
    "\n",
    "start = 5\n",
    "V = 5\n",
    "mst_weight = prim_verbose(start, V, weighted_graph)\n",
    "print(\"Total weight of MST =\", mst_weight)"
   ]
  },
  {
   "cell_type": "markdown",
   "metadata": {},
   "source": [
    "Note that there might be edges that are still left in the priority queue. The algorithm can stop without iterating over them because the minimum spanning tree has been found when the tree has *V - 1* edges. The algorithm skips some edges that is why the while loop does not have a fixed amount of iterations (*V - 1*)."
   ]
  },
  {
   "cell_type": "markdown",
   "metadata": {},
   "source": [
    "Moreover, note that the edge with minimum weight on some iterations may not be used, because it will create a cycle."
   ]
  },
  {
   "cell_type": "code",
   "execution_count": 4,
   "metadata": {},
   "outputs": [
    {
     "name": "stdout",
     "output_type": "stream",
     "text": [
      "Edge with weight 0 to vertex 1 added to MST.\n",
      "Edge with weight 1 to vertex 4 added to MST.\n",
      "Edge with weight 4 to vertex 2 added to MST.\n",
      "Edge with weight 3 to vertex 3 added to MST.\n",
      "Skipping edge with weight 4 to visited vertex 3. {1, 2, 3, 4}\n",
      "Edge with weight 5 to vertex 5 added to MST.\n",
      "Edges that are not used:  []\n",
      "Total weight of MST = 13\n"
     ]
    }
   ],
   "source": [
    "start = 1\n",
    "V = 5\n",
    "mst_weight = prim_verbose(start, V, weighted_graph)\n",
    "print(\"Total weight of MST =\", mst_weight)"
   ]
  },
  {
   "cell_type": "markdown",
   "metadata": {},
   "source": [
    "## Disjoint-set data structure (Union-Find)"
   ]
  },
  {
   "cell_type": "markdown",
   "metadata": {},
   "source": [
    "The structure provides:\n",
    "- efficient searching - which set an element belongs to.\n",
    "- efficient union - uniting two sets of elements into one.\n"
   ]
  },
  {
   "cell_type": "markdown",
   "metadata": {},
   "source": [
    "### Simplest version\n",
    "The simplest implementation of Disjoint set looks like this:"
   ]
  },
  {
   "cell_type": "code",
   "execution_count": 5,
   "metadata": {},
   "outputs": [
    {
     "name": "stdout",
     "output_type": "stream",
     "text": [
      "[0, 1, 2, 3, 4, 5, 6, 7, 8, 9]\n",
      "[0, 1, 2, 3, 4, 5, 6, 7, 8, 9]\n"
     ]
    }
   ],
   "source": [
    "def find(x, parents):\n",
    "    if parents[x] == x:\n",
    "        return x\n",
    "    \n",
    "    return find(parents[x], parents)\n",
    "\n",
    "def union(x, y, parents):\n",
    "    x_root = find(x, parents)\n",
    "    y_root = find(y, parents)\n",
    "\n",
    "    parents[x_root] = y_root\n",
    "\n",
    "particles = [i for i in range(10)]\n",
    "parents = [i for i in particles]\n",
    "\n",
    "print(particles)\n",
    "print(parents)"
   ]
  },
  {
   "cell_type": "markdown",
   "metadata": {},
   "source": [
    "Now lets join the first three particles - 0, 1 and 2 together:"
   ]
  },
  {
   "cell_type": "code",
   "execution_count": 6,
   "metadata": {},
   "outputs": [
    {
     "name": "stdout",
     "output_type": "stream",
     "text": [
      "[0, 1, 0, 3, 4, 5, 6, 7, 8, 9]\n",
      "[0, 0, 0, 3, 4, 5, 6, 7, 8, 9]\n",
      "0\n",
      "0\n"
     ]
    }
   ],
   "source": [
    "union(2, 0, parents)\n",
    "print(parents)\n",
    "\n",
    "union(1, 0, parents)\n",
    "print(parents)\n",
    "\n",
    "print(find(1, parents))\n",
    "print(find(2, parents))"
   ]
  },
  {
   "cell_type": "markdown",
   "metadata": {},
   "source": [
    "Lets connect 3 and 4, and then add them to the first set as well:"
   ]
  },
  {
   "cell_type": "code",
   "execution_count": 7,
   "metadata": {},
   "outputs": [
    {
     "name": "stdout",
     "output_type": "stream",
     "text": [
      "0\n",
      "0\n",
      "[0, 0, 0, 4, 0, 5, 6, 7, 8, 9]\n"
     ]
    }
   ],
   "source": [
    "union(3, 4, parents)\n",
    "union(4, 1, parents)\n",
    "\n",
    "print(find(3, parents))\n",
    "print(find(4, parents))\n",
    "print(parents)"
   ]
  },
  {
   "cell_type": "markdown",
   "metadata": {},
   "source": [
    "Note that the immediate father of 3 is 4, but because the function is recursive, when called to find the father of 3 it returns 0. This gives us the required information that the elements 3 and 1 for example are in the same set because `find(1, parents) == find(3, parents)`"
   ]
  },
  {
   "cell_type": "code",
   "execution_count": 8,
   "metadata": {},
   "outputs": [
    {
     "name": "stdout",
     "output_type": "stream",
     "text": [
      "[0, 0, 0, 4, 0, 5, 6, 7, 8, 9]\n"
     ]
    }
   ],
   "source": [
    "find(3, parents) == find(4, parents)\n",
    "print(parents)"
   ]
  },
  {
   "cell_type": "markdown",
   "metadata": {},
   "source": [
    "Now consider the tree of parents having a linear depth (similar to the worst case for a binary search tree). All the nodes are connected (in one set) but finding this out takes a out of steps due to the recursion:"
   ]
  },
  {
   "cell_type": "code",
   "execution_count": 9,
   "metadata": {},
   "outputs": [
    {
     "name": "stdout",
     "output_type": "stream",
     "text": [
      "[0, 0, 0, 4, 0, 6, 7, 8, 9, 0]\n",
      "+ 1 step to find the parents of 3\n",
      "+ 1 step to find the parents of 4\n",
      "+ 1 step to find the parents of 5\n",
      "+ 1 step to find the parents of 6\n",
      "+ 1 step to find the parents of 7\n",
      "+ 1 step to find the parents of 8\n",
      "+ 1 step to find the parents of 9\n",
      "True\n",
      "+ 1 step to find the parents of 3\n",
      "+ 1 step to find the parents of 4\n",
      "+ 1 step to find the parents of 5\n",
      "+ 1 step to find the parents of 6\n",
      "+ 1 step to find the parents of 7\n",
      "+ 1 step to find the parents of 8\n",
      "+ 1 step to find the parents of 9\n",
      "True\n"
     ]
    }
   ],
   "source": [
    "def find_verbose(x, parents):\n",
    "    \"\"\"Adds print to the find() function\"\"\"\n",
    "    if parents[x] == x:\n",
    "        return x\n",
    "    \n",
    "    print(\"+ 1 step to find the parents of\", x)\n",
    "    return find_verbose(parents[x], parents)\n",
    "\n",
    "union(5, 6, parents)\n",
    "union(6, 7, parents)\n",
    "union(7, 8, parents)\n",
    "union(8, 9, parents)\n",
    "union(9, 0, parents)\n",
    "\n",
    "print(parents)\n",
    "print(find_verbose(3, parents) == find_verbose(5, parents))\n",
    "print(find_verbose(3, parents) == find_verbose(5, parents))"
   ]
  },
  {
   "cell_type": "markdown",
   "metadata": {},
   "source": [
    "### *find()* optimization\n",
    "Now consider the following improvement in the *find()* function:"
   ]
  },
  {
   "cell_type": "code",
   "execution_count": 10,
   "metadata": {},
   "outputs": [
    {
     "name": "stdout",
     "output_type": "stream",
     "text": [
      "[0, 1, 2, 3, 4, 5, 6, 7, 8, 9]\n"
     ]
    }
   ],
   "source": [
    "def find(x, parents):\n",
    "    if parents[x] == x:\n",
    "        return x\n",
    "    \n",
    "    furthest_parent = find(parents[x], parents)\n",
    "    parents[x] = furthest_parent\n",
    "\n",
    "    return furthest_parent\n",
    "\n",
    "def union(x, y, parents):\n",
    "    x_root = find(x, parents)\n",
    "    y_root = find(y, parents)\n",
    "\n",
    "    parents[x_root] = y_root\n",
    "\n",
    "parents = [i for i in particles]\n",
    "print(parents)"
   ]
  },
  {
   "cell_type": "markdown",
   "metadata": {},
   "source": [
    "Let's repeat the same steps as before:"
   ]
  },
  {
   "cell_type": "code",
   "execution_count": 11,
   "metadata": {},
   "outputs": [
    {
     "name": "stdout",
     "output_type": "stream",
     "text": [
      "[0, 1, 0, 3, 4, 5, 6, 7, 8, 9]\n",
      "[0, 0, 0, 3, 4, 5, 6, 7, 8, 9]\n",
      "[0, 0, 0, 4, 0, 5, 6, 7, 8, 9]\n"
     ]
    }
   ],
   "source": [
    "union(2, 0, parents)\n",
    "print(parents)\n",
    "\n",
    "union(1, 0, parents)\n",
    "print(parents)\n",
    "\n",
    "union(3, 4, parents)\n",
    "union(4, 1, parents)\n",
    "print(parents)"
   ]
  },
  {
   "cell_type": "markdown",
   "metadata": {},
   "source": [
    "And create the long tree:"
   ]
  },
  {
   "cell_type": "code",
   "execution_count": 12,
   "metadata": {},
   "outputs": [
    {
     "name": "stdout",
     "output_type": "stream",
     "text": [
      "[0, 0, 0, 4, 0, 6, 7, 8, 9, 0]\n",
      "+ 1 step to find the parent of 3\n",
      "+ 1 step to find the parent of 4\n",
      "+ 1 step to find the parent of 5\n",
      "+ 1 step to find the parent of 6\n",
      "+ 1 step to find the parent of 7\n",
      "+ 1 step to find the parent of 8\n",
      "+ 1 step to find the parent of 9\n",
      "True\n",
      "[0, 0, 0, 0, 0, 0, 0, 0, 0, 0]\n",
      "+ 1 step to find the parent of 3\n",
      "+ 1 step to find the parent of 5\n",
      "True\n"
     ]
    }
   ],
   "source": [
    "union(5, 6, parents)\n",
    "union(6, 7, parents)\n",
    "union(7, 8, parents)\n",
    "union(8, 9, parents)\n",
    "union(9, 0, parents)\n",
    "\n",
    "def find_verbose(x, parents):\n",
    "    \"\"\"Adds print to the find() function\"\"\"\n",
    "    if parents[x] == x:\n",
    "        return x\n",
    "    \n",
    "    print(\"+ 1 step to find the parent of\", x)\n",
    "    furthest_parent = find_verbose(parents[x], parents)\n",
    "    parents[x] = furthest_parent\n",
    "\n",
    "    return furthest_parent\n",
    "\n",
    "print(parents)\n",
    "print(find_verbose(3, parents) == find_verbose(5, parents))\n",
    "print(parents)\n",
    "print(find_verbose(3, parents) == find_verbose(5, parents))"
   ]
  },
  {
   "cell_type": "markdown",
   "metadata": {},
   "source": [
    "Notice how after the first search all parent values are updated. The next *find()* takes only 1 step to finish. This is because the parent for each node got updated with the starting node of the set. The long almost linear search happened once, but if called a second time the time complexity will be reduced."
   ]
  },
  {
   "cell_type": "markdown",
   "metadata": {},
   "source": [
    "### *union()* optimization\n",
    "There is way to avoid the linear tree stacking using the following optimization:"
   ]
  },
  {
   "cell_type": "code",
   "execution_count": 13,
   "metadata": {},
   "outputs": [],
   "source": [
    "def find(x, parents):\n",
    "    if parents[x] == x:\n",
    "        return x\n",
    "    \n",
    "    furthest_parent = find(parents[x], parents)\n",
    "    parents[x] = furthest_parent\n",
    "\n",
    "    return furthest_parent\n",
    "\n",
    "def union(x, y, parents, rank):\n",
    "    x_root = find(x, parents)\n",
    "    y_root = find(y, parents)\n",
    "\n",
    "    if rank[x_root] < rank[y_root]:\n",
    "        parents[x_root] = y_root\n",
    "    elif rank[x_root] > rank[y_root]:\n",
    "        parents[y_root] = x_root\n",
    "    else:\n",
    "        parents[x_root] = y_root\n",
    "        rank[y_root] += 1 # Only in this case the depth of the tree increases\n",
    "\n",
    "parents = [i for i in range(10)]\n",
    "rank = [0 for _ in range(10)]\n"
   ]
  },
  {
   "cell_type": "markdown",
   "metadata": {},
   "source": [
    "Let's repeat the same experiment a third time:"
   ]
  },
  {
   "cell_type": "code",
   "execution_count": 14,
   "metadata": {},
   "outputs": [
    {
     "name": "stdout",
     "output_type": "stream",
     "text": [
      "[0, 1, 0, 3, 4, 5, 6, 7, 8, 9]\n",
      "[0, 0, 0, 3, 4, 5, 6, 7, 8, 9]\n",
      "[0, 0, 0, 4, 0, 5, 6, 7, 8, 9]\n",
      "Ranks: [2, 0, 0, 0, 1, 0, 0, 0, 0, 0]\n"
     ]
    }
   ],
   "source": [
    "union(2, 0, parents, rank)\n",
    "print(parents)\n",
    "\n",
    "union(1, 0, parents, rank)\n",
    "print(parents)\n",
    "\n",
    "union(3, 4, parents, rank)\n",
    "union(4, 1, parents, rank)\n",
    "print(parents)\n",
    "print(\"Ranks:\", rank)"
   ]
  },
  {
   "cell_type": "markdown",
   "metadata": {},
   "source": [
    "And create the \"linear\" tree:"
   ]
  },
  {
   "cell_type": "code",
   "execution_count": 15,
   "metadata": {},
   "outputs": [
    {
     "name": "stdout",
     "output_type": "stream",
     "text": [
      "[0, 0, 0, 4, 0, 6, 0, 6, 6, 6]\n",
      "Ranks: [2, 0, 0, 0, 1, 0, 1, 0, 0, 0]\n"
     ]
    }
   ],
   "source": [
    "union(5, 6, parents, rank)\n",
    "union(6, 7, parents, rank)\n",
    "union(7, 8, parents, rank)\n",
    "union(8, 9, parents, rank)\n",
    "union(9, 0, parents, rank)\n",
    "\n",
    "print(parents)\n",
    "print(\"Ranks:\", rank)"
   ]
  },
  {
   "cell_type": "markdown",
   "metadata": {},
   "source": [
    " Notice that the maximum depth (rank) is 2:"
   ]
  },
  {
   "cell_type": "code",
   "execution_count": 16,
   "metadata": {},
   "outputs": [
    {
     "name": "stdout",
     "output_type": "stream",
     "text": [
      "[0, 0, 0, 4, 0, 6, 0, 6, 6, 6]\n",
      "+ 1 step to find the parent of 3\n",
      "+ 1 step to find the parent of 4\n",
      "+ 1 step to find the parent of 5\n",
      "+ 1 step to find the parent of 6\n",
      "True\n",
      "[0, 0, 0, 0, 0, 0, 0, 6, 6, 6]\n",
      "+ 1 step to find the parent of 3\n",
      "+ 1 step to find the parent of 5\n",
      "True\n",
      "[0, 0, 0, 0, 0, 0, 0, 6, 6, 6]\n"
     ]
    }
   ],
   "source": [
    "def find_verbose(x, parents):\n",
    "    \"\"\"Adds print to the find() function\"\"\"\n",
    "    if parents[x] == x:\n",
    "        return x\n",
    "    \n",
    "    print(\"+ 1 step to find the parent of\", x)\n",
    "    furthest_parent = find_verbose(parents[x], parents)\n",
    "    parents[x] = furthest_parent\n",
    "\n",
    "    return furthest_parent\n",
    "\n",
    "print(parents)\n",
    "print(find_verbose(3, parents) == find_verbose(5, parents))\n",
    "print(parents)\n",
    "print(find_verbose(3, parents) == find_verbose(5, parents))\n",
    "print(parents)"
   ]
  },
  {
   "cell_type": "markdown",
   "metadata": {},
   "source": [
    "Disjoint set can be used to solve multiple tasks like:\n",
    "- Finding a cycle in a graph.\n",
    "- Finding the connected components in a graph.\n",
    "- Finding the Minimum spanning tree of a graph."
   ]
  },
  {
   "cell_type": "markdown",
   "metadata": {},
   "source": [
    "Why Dijkstra algorithm does not necessary find the Minimum spanning tree consider the simple example starting from *vertex 1*:"
   ]
  },
  {
   "cell_type": "markdown",
   "metadata": {},
   "source": [
    "![Minimum spanning tree vs Dijkstra simple graph example](media/mst_vs_dijkstra.png)"
   ]
  },
  {
   "cell_type": "markdown",
   "metadata": {},
   "source": [
    "## Kruskal's algorithm"
   ]
  },
  {
   "cell_type": "markdown",
   "metadata": {},
   "source": [
    "Let's consider the same graph from Prim's algorithm but represented as list of edges:"
   ]
  },
  {
   "cell_type": "code",
   "execution_count": 17,
   "metadata": {},
   "outputs": [],
   "source": [
    "graph_list_of_edges = [\n",
    "    (1, 2, 4), (1, 4, 1),\n",
    "    (2, 1, 4), (2, 3, 3),\n",
    "    (3, 2, 3), (3, 4, 4),\n",
    "    (4, 1, 1), (4, 3, 4), (4, 5, 5),\n",
    "    (5, 4, 5)\n",
    "]"
   ]
  },
  {
   "cell_type": "markdown",
   "metadata": {},
   "source": [
    "![Weighted graph example](media/weighted_graph.png)"
   ]
  },
  {
   "cell_type": "markdown",
   "metadata": {},
   "source": [
    "Kruskal's algorithm utilizes the Disjoint set data structure to find a Minimum spanning tree in a graph:"
   ]
  },
  {
   "cell_type": "code",
   "execution_count": 18,
   "metadata": {},
   "outputs": [
    {
     "data": {
      "text/plain": [
       "13"
      ]
     },
     "execution_count": 18,
     "metadata": {},
     "output_type": "execute_result"
    }
   ],
   "source": [
    "def find(x, parents):\n",
    "    if parents[x] == x:\n",
    "        return x\n",
    "    \n",
    "    furthest_parent = find(parents[x], parents)\n",
    "    parents[x] = furthest_parent\n",
    "\n",
    "    return furthest_parent\n",
    "\n",
    "def union(x, y, parents, rank):\n",
    "    x_root = find(x, parents)\n",
    "    y_root = find(y, parents)\n",
    "\n",
    "    if rank[x_root] < rank[y_root]:\n",
    "        parents[x_root] = y_root\n",
    "    elif rank[x_root] > rank[y_root]:\n",
    "        parents[y_root] = x_root\n",
    "    else:\n",
    "        parents[x_root] = y_root\n",
    "        rank[y_root] += 1\n",
    "\n",
    "def kruskal(V, edges):\n",
    "    edges.sort(key=lambda x: x[2])  # Sorts edges by weight\n",
    "    parents = [i for i in range(V + 1)]\n",
    "    rank = [0] * (V + 1)\n",
    "    mst_weight = 0\n",
    "\n",
    "    for x, y, w in edges:\n",
    "        if find(x, parents) != find(y, parents):\n",
    "            mst_weight += w\n",
    "            union(x, y, parents, rank)\n",
    "\n",
    "    return mst_weight\n",
    "\n",
    "V = 5\n",
    "kruskal(V, graph_list_of_edges)"
   ]
  },
  {
   "cell_type": "markdown",
   "metadata": {},
   "source": [
    "![Kruskal's algorithm creating a MST of a graph, step by step example.](media/kruskals_algorithm_example.png)"
   ]
  },
  {
   "cell_type": "markdown",
   "metadata": {},
   "source": [
    "Verbose version:"
   ]
  },
  {
   "cell_type": "code",
   "execution_count": 19,
   "metadata": {},
   "outputs": [
    {
     "name": "stdout",
     "output_type": "stream",
     "text": [
      "[(1, 4, 1), (4, 1, 1), (2, 3, 3), (3, 2, 3), (1, 2, 4), (2, 1, 4), (3, 4, 4), (4, 3, 4), (4, 5, 5), (5, 4, 5)]\n",
      "[0, 1, 2, 3, 4, 5]\n",
      "Consider 1 to 4 for 1\n",
      "Joining 1 and 4... [0, 4, 2, 3, 4, 5]\n",
      "\n",
      "Consider 4 to 1 for 1\n",
      "Consider 2 to 3 for 3\n",
      "Joining 2 and 3... [0, 4, 3, 3, 4, 5]\n",
      "\n",
      "Consider 3 to 2 for 3\n",
      "Consider 1 to 2 for 4\n",
      "Joining 1 and 2... [0, 4, 3, 3, 3, 5]\n",
      "\n",
      "Consider 2 to 1 for 4\n",
      "Consider 3 to 4 for 4\n",
      "Consider 4 to 3 for 4\n",
      "Consider 4 to 5 for 5\n",
      "Joining 4 and 5... [0, 3, 3, 3, 3, 3]\n",
      "\n",
      "Consider 5 to 4 for 5\n"
     ]
    },
    {
     "data": {
      "text/plain": [
       "13"
      ]
     },
     "execution_count": 19,
     "metadata": {},
     "output_type": "execute_result"
    }
   ],
   "source": [
    "def kruskal_verbose(V, edges):\n",
    "    edges.sort(key=lambda x: x[2])\n",
    "    print(edges)\n",
    "\n",
    "    parents = [i for i in range(V + 1)]\n",
    "    rank = [0] * (V + 1)\n",
    "    mst_weight = 0\n",
    "\n",
    "    print(parents)\n",
    "\n",
    "    for x, y, w in edges:\n",
    "        print(f\"Consider {x} to {y} for {w}\")\n",
    "        if find(x, parents) != find(y, parents):\n",
    "            mst_weight += w\n",
    "            union(x, y, parents, rank)\n",
    "            print(f\"Joining {x} and {y}...\", parents)\n",
    "            print()\n",
    "\n",
    "    return mst_weight\n",
    "\n",
    "V = 5\n",
    "kruskal_verbose(V, graph_list_of_edges)"
   ]
  }
 ],
 "metadata": {
  "kernelspec": {
   "display_name": "Python 3",
   "language": "python",
   "name": "python3"
  },
  "language_info": {
   "codemirror_mode": {
    "name": "ipython",
    "version": 3
   },
   "file_extension": ".py",
   "mimetype": "text/x-python",
   "name": "python",
   "nbconvert_exporter": "python",
   "pygments_lexer": "ipython3",
   "version": "3.8.10"
  }
 },
 "nbformat": 4,
 "nbformat_minor": 2
}
