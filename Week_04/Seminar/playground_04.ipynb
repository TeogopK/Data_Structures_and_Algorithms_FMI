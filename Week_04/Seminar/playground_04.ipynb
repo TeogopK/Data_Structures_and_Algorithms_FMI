{
 "cells": [
  {
   "cell_type": "markdown",
   "metadata": {},
   "source": [
    "## **Code playground for SDA sem 4**"
   ]
  },
  {
   "cell_type": "markdown",
   "metadata": {},
   "source": [
    "### **Singly Linked List**"
   ]
  },
  {
   "cell_type": "markdown",
   "metadata": {},
   "source": [
    "Example implementation:"
   ]
  },
  {
   "cell_type": "code",
   "execution_count": 1,
   "metadata": {},
   "outputs": [],
   "source": [
    "class Node:\n",
    "    def __init__(self, data=0, next_=None):\n",
    "        self.data = data\n",
    "        self.next_ = next_\n",
    "\n",
    "\n",
    "class LinkedList:\n",
    "    def __init__(self, head=None, tail=None):\n",
    "        self.head = head\n",
    "        self.tail = tail\n",
    "\n",
    "    def push_front(self, data):\n",
    "        new_node = Node(data)\n",
    "\n",
    "        if not self.head:\n",
    "            self.head = self.tail = new_node\n",
    "        else:\n",
    "            new_node.next_ = self.head\n",
    "            self.head = new_node\n",
    "\n",
    "    def push_back(self, data):\n",
    "        new_node = Node(data)\n",
    "\n",
    "        if not self.head:\n",
    "            self.head = self.tail = new_node\n",
    "        else:\n",
    "            self.tail.next_ = new_node\n",
    "            self.tail = new_node\n",
    "\n",
    "    def pop_front(self):\n",
    "        if self.head == self.tail:\n",
    "            self.head = self.tail = None\n",
    "        else:\n",
    "            self.head = self.head.next_\n",
    "\n",
    "    def pop_back(self):\n",
    "        if self.head == self.tail:\n",
    "            self.head = self.tail = None\n",
    "        else:\n",
    "            current = self.head\n",
    "            while current.next_ != self.tail:\n",
    "                current = current.next_\n",
    "\n",
    "            current.next_ = None\n",
    "            self.tail = current\n",
    "\n",
    "    def front(self):\n",
    "        if self.head:\n",
    "            return self.head.data\n",
    "\n",
    "    def back(self):\n",
    "        if self.tail:\n",
    "            return self.tail.data\n",
    "\n",
    "    def print(self):\n",
    "        current = self.head\n",
    "\n",
    "        while current:\n",
    "            print(current.data, end=\" \")\n",
    "            current = current.next_\n",
    "\n",
    "        print()\n",
    "\n",
    "    def len(self):\n",
    "        length = 0\n",
    "        current = self.head\n",
    "\n",
    "        while current:\n",
    "            length += 1\n",
    "            current = current.next_\n",
    "\n",
    "        return length"
   ]
  },
  {
   "cell_type": "markdown",
   "metadata": {},
   "source": [
    "Adding elements at the back - *O(1)*:"
   ]
  },
  {
   "cell_type": "code",
   "execution_count": 2,
   "metadata": {},
   "outputs": [
    {
     "name": "stdout",
     "output_type": "stream",
     "text": [
      "1 2 3 \n"
     ]
    }
   ],
   "source": [
    "llist = LinkedList()\n",
    "\n",
    "llist.push_back(1)\n",
    "llist.push_back(2)\n",
    "llist.push_back(3)\n",
    "\n",
    "llist.print()"
   ]
  },
  {
   "cell_type": "markdown",
   "metadata": {},
   "source": [
    "Adding elements at the front - *O(1)*:"
   ]
  },
  {
   "cell_type": "code",
   "execution_count": 3,
   "metadata": {},
   "outputs": [
    {
     "name": "stdout",
     "output_type": "stream",
     "text": [
      "-3 -2 -1 \n"
     ]
    }
   ],
   "source": [
    "llist = LinkedList()\n",
    "\n",
    "llist.push_front(-1)\n",
    "llist.push_front(-2)\n",
    "llist.push_front(-3)\n",
    "\n",
    "llist.print()"
   ]
  },
  {
   "cell_type": "markdown",
   "metadata": {},
   "source": [
    "Removing elements at the front - *O(1)*:"
   ]
  },
  {
   "cell_type": "code",
   "execution_count": 4,
   "metadata": {},
   "outputs": [
    {
     "name": "stdout",
     "output_type": "stream",
     "text": [
      "1 2 3 \n"
     ]
    }
   ],
   "source": [
    "llist = LinkedList()\n",
    "\n",
    "llist.push_back(0)\n",
    "llist.push_back(1)\n",
    "llist.push_back(2)\n",
    "llist.push_back(3)\n",
    "\n",
    "llist.pop_front()\n",
    "\n",
    "llist.print()"
   ]
  },
  {
   "cell_type": "markdown",
   "metadata": {},
   "source": [
    "**Removing** elements **at the back** - *O(**N**)*:"
   ]
  },
  {
   "cell_type": "code",
   "execution_count": 5,
   "metadata": {},
   "outputs": [
    {
     "name": "stdout",
     "output_type": "stream",
     "text": [
      "0 1 2 3 4 5 6 7 8 9 10 11 12 13 14 15 16 17 18 19 20 21 22 23 24 25 26 27 28 29 30 31 32 33 34 35 36 37 38 39 40 41 42 43 44 45 46 47 48 49 50 51 52 53 54 55 56 57 58 59 60 61 62 63 64 65 66 67 68 69 70 71 72 73 74 75 76 77 78 79 80 81 82 83 84 85 86 87 88 89 90 91 92 93 94 95 96 97 98 99 \n"
     ]
    }
   ],
   "source": [
    "llist = LinkedList()\n",
    "\n",
    "for i in range(100):\n",
    "    llist.push_back(i)\n",
    "\n",
    "llist.push_back(-1)\n",
    "llist.pop_back()\n",
    "\n",
    "llist.print()"
   ]
  },
  {
   "cell_type": "markdown",
   "metadata": {},
   "source": [
    "Accessing the element at the front/ back - *O(1)*"
   ]
  },
  {
   "cell_type": "code",
   "execution_count": 6,
   "metadata": {},
   "outputs": [
    {
     "name": "stdout",
     "output_type": "stream",
     "text": [
      "0\n",
      "99\n"
     ]
    }
   ],
   "source": [
    "print(llist.front())\n",
    "print(llist.back())"
   ]
  },
  {
   "cell_type": "markdown",
   "metadata": {},
   "source": [
    "### **Doubly Linked List**"
   ]
  },
  {
   "cell_type": "markdown",
   "metadata": {},
   "source": [
    "Example implementation:"
   ]
  },
  {
   "cell_type": "code",
   "execution_count": 7,
   "metadata": {},
   "outputs": [],
   "source": [
    "class Node:\n",
    "    def __init__(self, data=0, next_=None, prev=None):\n",
    "        self.data = data\n",
    "        self.next_ = next_\n",
    "        self.prev = prev\n",
    "\n",
    "\n",
    "class DoublyLinkedList:\n",
    "    def __init__(self, head=None, tail=None):\n",
    "        self.head = head\n",
    "        self.tail = tail\n",
    "\n",
    "    def push_front(self, data):\n",
    "        new_node = Node(data)\n",
    "\n",
    "        if not self.head:\n",
    "            self.head = self.tail = new_node\n",
    "        else:\n",
    "            new_node.next_ = self.head\n",
    "            self.head.prev = new_node\n",
    "            self.head = new_node\n",
    "\n",
    "    def push_back(self, data):\n",
    "        new_node = Node(data)\n",
    "\n",
    "        if not self.head:\n",
    "            self.head = self.tail = new_node\n",
    "        else:\n",
    "            self.tail.next_ = new_node\n",
    "            new_node.prev = self.tail\n",
    "            self.tail = new_node\n",
    "\n",
    "    def pop_front(self):\n",
    "        if self.head == self.tail:\n",
    "            self.head = self.tail = None\n",
    "        else:\n",
    "            self.head = self.head.next_\n",
    "            self.head.prev = None\n",
    "\n",
    "    def pop_back(self):\n",
    "        if self.head == self.tail:\n",
    "            self.head = self.tail = None\n",
    "        else:\n",
    "            self.tail = self.tail.prev\n",
    "            self.tail.next_ = None\n",
    "\n",
    "    def front(self):\n",
    "        if self.head:\n",
    "            return self.head.data\n",
    "\n",
    "    def back(self):\n",
    "        if self.tail:\n",
    "            return self.tail.data\n",
    "\n",
    "    def print(self):\n",
    "        current = self.head\n",
    "\n",
    "        while current:\n",
    "            print(current.data, end=\" \")\n",
    "            current = current.next_\n",
    "\n",
    "        print()\n",
    "\n",
    "    def print_reverse(self):\n",
    "        current = self.tail\n",
    "\n",
    "        while current:\n",
    "            print(current.data, end=\" \")\n",
    "            current = current.prev\n",
    "\n",
    "        print()\n",
    "\n",
    "    def len(self):\n",
    "        length = 0\n",
    "        current = self.head\n",
    "\n",
    "        while current:\n",
    "            length += 1\n",
    "            current = current.next_\n",
    "\n",
    "        return length"
   ]
  },
  {
   "cell_type": "markdown",
   "metadata": {},
   "source": [
    "Adding elements at the back - *O(1)*:"
   ]
  },
  {
   "cell_type": "code",
   "execution_count": 8,
   "metadata": {},
   "outputs": [
    {
     "name": "stdout",
     "output_type": "stream",
     "text": [
      "1 2 3 \n"
     ]
    }
   ],
   "source": [
    "dlist = DoublyLinkedList()\n",
    "\n",
    "dlist.push_back(1)\n",
    "dlist.push_back(2)\n",
    "dlist.push_back(3)\n",
    "\n",
    "dlist.print()"
   ]
  },
  {
   "cell_type": "markdown",
   "metadata": {},
   "source": [
    "Adding elements at the front - *O(1)*:"
   ]
  },
  {
   "cell_type": "code",
   "execution_count": 9,
   "metadata": {},
   "outputs": [
    {
     "name": "stdout",
     "output_type": "stream",
     "text": [
      "-3 -2 -1 \n"
     ]
    }
   ],
   "source": [
    "dlist = DoublyLinkedList()\n",
    "\n",
    "dlist.push_front(-1)\n",
    "dlist.push_front(-2)\n",
    "dlist.push_front(-3)\n",
    "\n",
    "dlist.print()"
   ]
  },
  {
   "cell_type": "markdown",
   "metadata": {},
   "source": [
    "Removing elements at the front - *O(1)*:"
   ]
  },
  {
   "cell_type": "code",
   "execution_count": 10,
   "metadata": {},
   "outputs": [
    {
     "name": "stdout",
     "output_type": "stream",
     "text": [
      "1 2 3 \n"
     ]
    }
   ],
   "source": [
    "dlist = DoublyLinkedList()\n",
    "\n",
    "dlist.push_back(0)\n",
    "dlist.push_back(1)\n",
    "dlist.push_back(2)\n",
    "dlist.push_back(3)\n",
    "\n",
    "dlist.pop_front()\n",
    "\n",
    "dlist.print()"
   ]
  },
  {
   "cell_type": "markdown",
   "metadata": {},
   "source": [
    "**Removing** elements **at the back** - *O(**1**)*:"
   ]
  },
  {
   "cell_type": "code",
   "execution_count": 11,
   "metadata": {},
   "outputs": [
    {
     "name": "stdout",
     "output_type": "stream",
     "text": [
      "0 1 2 3 4 5 6 7 8 9 10 11 12 13 14 15 16 17 18 19 20 21 22 23 24 25 26 27 28 29 30 31 32 33 34 35 36 37 38 39 40 41 42 43 44 45 46 47 48 49 50 51 52 53 54 55 56 57 58 59 60 61 62 63 64 65 66 67 68 69 70 71 72 73 74 75 76 77 78 79 80 81 82 83 84 85 86 87 88 89 90 91 92 93 94 95 96 97 98 99 \n"
     ]
    }
   ],
   "source": [
    "dlist = DoublyLinkedList()\n",
    "\n",
    "for i in range(100):\n",
    "    dlist.push_back(i)\n",
    "\n",
    "dlist.push_back(-1)\n",
    "dlist.pop_back()\n",
    "\n",
    "dlist.print()"
   ]
  },
  {
   "cell_type": "markdown",
   "metadata": {},
   "source": [
    "Accessing the element at the front/ back - *O(1)*"
   ]
  },
  {
   "cell_type": "code",
   "execution_count": 12,
   "metadata": {},
   "outputs": [
    {
     "name": "stdout",
     "output_type": "stream",
     "text": [
      "0\n",
      "99\n"
     ]
    }
   ],
   "source": [
    "print(dlist.front())\n",
    "print(dlist.back())"
   ]
  },
  {
   "cell_type": "markdown",
   "metadata": {},
   "source": [
    "### **Python Linked Lists**"
   ]
  },
  {
   "cell_type": "markdown",
   "metadata": {},
   "source": [
    "- **List** - Can be used as a *Singly Linked List*"
   ]
  },
  {
   "cell_type": "code",
   "execution_count": 13,
   "metadata": {},
   "outputs": [
    {
     "data": {
      "text/plain": [
       "[1, 2, 3, 4, 5, 6, 66, 7, 8, 99]"
      ]
     },
     "execution_count": 13,
     "metadata": {},
     "output_type": "execute_result"
    }
   ],
   "source": [
    "llist = [i for i in range(1, 9)]\n",
    "\n",
    "llist.append(99)\n",
    "llist.insert(6, 66)\n",
    "\n",
    "llist  # [1, 2, 3, 4, 5, 6, 66, 7, 8, 99]"
   ]
  },
  {
   "cell_type": "markdown",
   "metadata": {},
   "source": [
    "- **Deque** - A powerful *Doubly Linked List* from the *collections* library module."
   ]
  },
  {
   "cell_type": "code",
   "execution_count": 14,
   "metadata": {},
   "outputs": [
    {
     "name": "stdout",
     "output_type": "stream",
     "text": [
      "deque([-1, 2, 33])\n",
      "2\n"
     ]
    }
   ],
   "source": [
    "from collections import deque\n",
    "\n",
    "dlist = deque([1, 2, 3])\n",
    "\n",
    "dlist.pop()\n",
    "dlist.append(33)\n",
    "\n",
    "dlist.popleft()\n",
    "dlist.appendleft(-1)\n",
    "\n",
    "print(dlist)  # deque([-1, 2, 33])\n",
    "print(dlist[1])  # 2"
   ]
  },
  {
   "cell_type": "markdown",
   "metadata": {},
   "source": [
    "### **Deque**"
   ]
  },
  {
   "cell_type": "markdown",
   "metadata": {},
   "source": [
    "Adding elements at the front/ back - *O(1)*:"
   ]
  },
  {
   "cell_type": "code",
   "execution_count": 15,
   "metadata": {},
   "outputs": [
    {
     "name": "stdout",
     "output_type": "stream",
     "text": [
      "0 1 2 3 4\n"
     ]
    }
   ],
   "source": [
    "from collections import deque\n",
    "\n",
    "dlist = deque([1, 2, 3])\n",
    "\n",
    "dlist.append(4)  # O(1)\n",
    "dlist.appendleft(0)  # O(1)\n",
    "\n",
    "print(*dlist)"
   ]
  },
  {
   "cell_type": "markdown",
   "metadata": {},
   "source": [
    "Removing elements at the front/ back - *O(1)*:"
   ]
  },
  {
   "cell_type": "code",
   "execution_count": 16,
   "metadata": {},
   "outputs": [
    {
     "name": "stdout",
     "output_type": "stream",
     "text": [
      "1 2 3\n"
     ]
    }
   ],
   "source": [
    "dlist.pop()  # O(1)\n",
    "dlist.popleft()  # O(1)\n",
    "\n",
    "print(*dlist)"
   ]
  },
  {
   "cell_type": "markdown",
   "metadata": {},
   "source": [
    "Accessing the element at the front/ back - *O(1)*"
   ]
  },
  {
   "cell_type": "code",
   "execution_count": 17,
   "metadata": {},
   "outputs": [
    {
     "name": "stdout",
     "output_type": "stream",
     "text": [
      "1 2 3\n",
      "1\n",
      "3\n"
     ]
    }
   ],
   "source": [
    "print(*dlist)\n",
    "\n",
    "print(dlist[0])  # O(1)\n",
    "print(dlist[-1])  # O(1)"
   ]
  },
  {
   "cell_type": "markdown",
   "metadata": {},
   "source": [
    "Removing/ Adding elements on a random position - *O(K)*"
   ]
  },
  {
   "cell_type": "code",
   "execution_count": 18,
   "metadata": {},
   "outputs": [
    {
     "name": "stdout",
     "output_type": "stream",
     "text": [
      "1 2 2.75 2.25 3\n"
     ]
    }
   ],
   "source": [
    "dlist = deque([1, 2, 3])\n",
    "\n",
    "dlist.insert(2, 2.25)  # O(K) N divided by a constant\n",
    "dlist.insert(2, 2.50)\n",
    "dlist.insert(2, 2.75)\n",
    "\n",
    "del dlist[3]  # O(K) N divided by a constant\n",
    "\n",
    "print(*dlist)"
   ]
  },
  {
   "cell_type": "markdown",
   "metadata": {},
   "source": [
    "Accessing a random element - *O(K)*"
   ]
  },
  {
   "cell_type": "code",
   "execution_count": 19,
   "metadata": {},
   "outputs": [
    {
     "name": "stdout",
     "output_type": "stream",
     "text": [
      "1 2 2.75 2.25 3\n",
      "2\n"
     ]
    }
   ],
   "source": [
    "print(*dlist)\n",
    "\n",
    "print(dlist[1])  # O(K) N divided by a constant"
   ]
  },
  {
   "cell_type": "markdown",
   "metadata": {},
   "source": [
    "Accessing a random element Deque vs Ordinary List"
   ]
  },
  {
   "cell_type": "code",
   "execution_count": 20,
   "metadata": {},
   "outputs": [],
   "source": [
    "import random\n",
    "\n",
    "LIST_SIZE = 1_000_000"
   ]
  },
  {
   "cell_type": "code",
   "execution_count": 21,
   "metadata": {},
   "outputs": [],
   "source": [
    "dlist = deque([i for i in range(int(LIST_SIZE))])"
   ]
  },
  {
   "cell_type": "code",
   "execution_count": 22,
   "metadata": {},
   "outputs": [
    {
     "name": "stdout",
     "output_type": "stream",
     "text": [
      "48.3 µs ± 3.91 µs per loop (mean ± std. dev. of 7 runs, 10,000 loops each)\n"
     ]
    }
   ],
   "source": [
    "%timeit dlist[random.randint(0, int(LIST_SIZE) - 1)]\n"
   ]
  },
  {
   "cell_type": "code",
   "execution_count": 23,
   "metadata": {},
   "outputs": [],
   "source": [
    "mylist = [i for i in range(int(LIST_SIZE))]"
   ]
  },
  {
   "cell_type": "code",
   "execution_count": 24,
   "metadata": {},
   "outputs": [
    {
     "name": "stdout",
     "output_type": "stream",
     "text": [
      "1.26 µs ± 46 ns per loop (mean ± std. dev. of 7 runs, 1,000,000 loops each)\n"
     ]
    }
   ],
   "source": [
    "%timeit mylist[random.randint(0, int(LIST_SIZE) - 1)]"
   ]
  },
  {
   "cell_type": "markdown",
   "metadata": {},
   "source": [
    "Observing the results shows that random access in Linked list is not strictly *O(N)*, but *O(N)* divided by some constant. It is about 20 times slower than random access in a standard list, which is *O(1)*. (Note that *1 µs = 1000 ns*.)"
   ]
  },
  {
   "cell_type": "code",
   "execution_count": 25,
   "metadata": {},
   "outputs": [],
   "source": [
    "from array import array\n",
    "\n",
    "arr = array(\"i\", [i for i in range(LIST_SIZE)])"
   ]
  },
  {
   "cell_type": "code",
   "execution_count": 26,
   "metadata": {},
   "outputs": [
    {
     "name": "stdout",
     "output_type": "stream",
     "text": [
      "1.25 µs ± 208 ns per loop (mean ± std. dev. of 7 runs, 1,000,000 loops each)\n"
     ]
    }
   ],
   "source": [
    "%timeit arr[random.randint(0, int(LIST_SIZE) - 1)]"
   ]
  }
 ],
 "metadata": {
  "kernelspec": {
   "display_name": "Python 3",
   "language": "python",
   "name": "python3"
  },
  "language_info": {
   "codemirror_mode": {
    "name": "ipython",
    "version": 3
   },
   "file_extension": ".py",
   "mimetype": "text/x-python",
   "name": "python",
   "nbconvert_exporter": "python",
   "pygments_lexer": "ipython3",
   "version": "3.10.11"
  }
 },
 "nbformat": 4,
 "nbformat_minor": 2
}
