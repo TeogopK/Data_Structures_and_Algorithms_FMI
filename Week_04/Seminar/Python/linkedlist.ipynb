{
 "cells": [
  {
   "cell_type": "markdown",
   "metadata": {},
   "source": [
    "Arrays (Lists)"
   ]
  },
  {
   "cell_type": "code",
   "execution_count": 59,
   "metadata": {},
   "outputs": [
    {
     "data": {
      "text/plain": [
       "6"
      ]
     },
     "execution_count": 59,
     "metadata": {},
     "output_type": "execute_result"
    }
   ],
   "source": [
    "l = [1, 2, 3, 4, 5]\n",
    "\n",
    "l[1]            # Random access\n",
    "\n",
    "l.append(6)     # Fast append at end\n",
    "\n",
    "l.pop()         # Fast remove from end"
   ]
  },
  {
   "cell_type": "code",
   "execution_count": 63,
   "metadata": {},
   "outputs": [
    {
     "name": "stdout",
     "output_type": "stream",
     "text": [
      "1 2 3 \n",
      "1 2 3 \n",
      "1 2 3 "
     ]
    }
   ],
   "source": [
    "arr = [1, 2, 3]\n",
    "\n",
    "# Iterating an array\n",
    "\n",
    "for num in arr:\n",
    "    print(num, end=\" \")\n",
    "\n",
    "print()\n",
    "\n",
    "# Is the same as\n",
    "\n",
    "for i in range(len(arr)):\n",
    "    print(arr[i], end=\" \")\n",
    "\n",
    "print()\n",
    "\n",
    "# Is the same as\n",
    "\n",
    "i = 0\n",
    "while i < len(arr):\n",
    "    print(arr[i], end=\" \")\n",
    "    i += 1"
   ]
  },
  {
   "cell_type": "markdown",
   "metadata": {},
   "source": [
    "Linked Lists"
   ]
  },
  {
   "cell_type": "code",
   "execution_count": 31,
   "metadata": {},
   "outputs": [],
   "source": [
    "class Node:\n",
    "    def __init__(self, value, next_):\n",
    "        self.value = value\n",
    "        self.next = next_\n",
    "\n",
    "    def __repr__(self):\n",
    "        return f\"Node({self.value})\""
   ]
  },
  {
   "cell_type": "code",
   "execution_count": 44,
   "metadata": {},
   "outputs": [],
   "source": [
    "n1 = Node(1, None)\n",
    "\n",
    "n2 = Node(2, None)\n",
    "n1.next = n2\n",
    "\n",
    "n3 = Node(3, None)\n",
    "n2.next = n3\n",
    "\n",
    "head = n1"
   ]
  },
  {
   "cell_type": "code",
   "execution_count": 47,
   "metadata": {},
   "outputs": [
    {
     "name": "stdout",
     "output_type": "stream",
     "text": [
      "1\n",
      "2\n",
      "3\n"
     ]
    }
   ],
   "source": [
    "node = head\n",
    "\n",
    "while node is not None:\n",
    "    print(node.value)\n",
    "    node = node.next"
   ]
  },
  {
   "cell_type": "code",
   "execution_count": 64,
   "metadata": {},
   "outputs": [
    {
     "name": "stdout",
     "output_type": "stream",
     "text": [
      "1\n",
      "2\n",
      "3\n",
      "4\n",
      "5\n"
     ]
    }
   ],
   "source": [
    "class Node:\n",
    "    def __init__(self, value, next_):\n",
    "        self.value = value\n",
    "        self.next = next_\n",
    "\n",
    "    def __repr__(self):\n",
    "        return f\"Node({self.value})\"\n",
    "\n",
    "class LinkedList:\n",
    "    def __init__(self):\n",
    "        self.head = None\n",
    "        self.tail = None\n",
    "\n",
    "    def print(self):\n",
    "        node = self.head\n",
    "\n",
    "        while node is not None:\n",
    "            print(node.value)\n",
    "            node = node.next\n",
    "\n",
    "    def to_list(self):\n",
    "        arr = []\n",
    "\n",
    "        node = self.head\n",
    "\n",
    "        while node is not None:\n",
    "            arr.append(node.value)\n",
    "            node = node.next\n",
    "\n",
    "        return arr\n",
    "\n",
    "    def push_front(self, value):\n",
    "        node = Node(value, self.head)\n",
    "        self.head = node\n",
    "\n",
    "        if self.tail is None:\n",
    "            self.tail = node\n",
    "\n",
    "    # With no self.tail, we must iterate from self.head to the end:\n",
    "    # def push_back(self, value):\n",
    "    #     if self.head is None:\n",
    "    #         self.head = Node(value, None)\n",
    "    #         return\n",
    "\n",
    "    #     node = self.head\n",
    "\n",
    "    #     while node.next is not None:\n",
    "    #         node = node.next\n",
    "\n",
    "    #     new_node = Node(value, None)\n",
    "    #     node.next = new_node\n",
    "\n",
    "    def push_back(self, value):\n",
    "        if self.head is None:\n",
    "            self.head = Node(value, None)\n",
    "            self.tail = self.head\n",
    "            return\n",
    "\n",
    "        new_node = Node(value, None)\n",
    "        self.tail.next = new_node\n",
    "        self.tail = new_node\n",
    "\n",
    "ll = LinkedList()\n",
    "ll.push_back(1)\n",
    "ll.push_back(2)\n",
    "ll.push_back(3)\n",
    "ll.push_back(4)\n",
    "ll.push_back(5)\n",
    "ll.print()"
   ]
  },
  {
   "cell_type": "markdown",
   "metadata": {},
   "source": [
    "Deque (double-ended queue) / Doubly-Linked List"
   ]
  },
  {
   "cell_type": "code",
   "execution_count": 65,
   "metadata": {},
   "outputs": [
    {
     "name": "stdout",
     "output_type": "stream",
     "text": [
      "deque([0, 1, 2])\n"
     ]
    }
   ],
   "source": [
    "from collections import deque\n",
    "\n",
    "d = deque()\n",
    "d.append(1)\n",
    "d.append(2)\n",
    "d.appendleft(0)\n",
    "\n",
    "print(d)"
   ]
  }
 ],
 "metadata": {
  "kernelspec": {
   "display_name": "Python 3",
   "language": "python",
   "name": "python3"
  },
  "language_info": {
   "codemirror_mode": {
    "name": "ipython",
    "version": 3
   },
   "file_extension": ".py",
   "mimetype": "text/x-python",
   "name": "python",
   "nbconvert_exporter": "python",
   "pygments_lexer": "ipython3",
   "version": "3.10.11"
  }
 },
 "nbformat": 4,
 "nbformat_minor": 2
}
