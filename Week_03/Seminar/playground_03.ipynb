{
 "cells": [
  {
   "cell_type": "markdown",
   "metadata": {},
   "source": [
    "## **Code playground for SDA sem 3**"
   ]
  },
  {
   "cell_type": "markdown",
   "metadata": {},
   "source": [
    "### **Linear search**"
   ]
  },
  {
   "cell_type": "markdown",
   "metadata": {},
   "source": [
    "Time complexity: *O(N)*"
   ]
  },
  {
   "cell_type": "code",
   "execution_count": 1,
   "metadata": {},
   "outputs": [
    {
     "name": "stdout",
     "output_type": "stream",
     "text": [
      "Found number 6 at index: 4\n"
     ]
    }
   ],
   "source": [
    "def linear_search(arr, X):\n",
    "    for i in range(len(arr)):\n",
    "        if arr[i] == X:\n",
    "            return i\n",
    "\n",
    "    return -1\n",
    "\n",
    "\n",
    "arr = [9, 4, 3, 2, 6, 7, 1, 8, 5]\n",
    "X = 6\n",
    "\n",
    "Xi = linear_search(arr, X)\n",
    "print(f\"Found number {X} at index: {Xi}\")"
   ]
  },
  {
   "cell_type": "markdown",
   "metadata": {},
   "source": [
    "Similar implementation using enumerate:"
   ]
  },
  {
   "cell_type": "code",
   "execution_count": 2,
   "metadata": {},
   "outputs": [
    {
     "name": "stdout",
     "output_type": "stream",
     "text": [
      "Found number 6 at index: 4\n"
     ]
    }
   ],
   "source": [
    "def linear_search(sequence, target):\n",
    "    for index, item in enumerate(sequence):\n",
    "        if item == target:\n",
    "            return index\n",
    "    return -1\n",
    "\n",
    "\n",
    "arr = [9, 4, 3, 2, 6, 7, 1, 8, 5]\n",
    "X = 6\n",
    "\n",
    "Xi = linear_search(arr, X)\n",
    "print(f\"Found number {X} at index: {Xi}\")"
   ]
  },
  {
   "cell_type": "markdown",
   "metadata": {},
   "source": [
    "### **Binary search**"
   ]
  },
  {
   "cell_type": "markdown",
   "metadata": {},
   "source": [
    "Time complexity: *O(logN)*"
   ]
  },
  {
   "cell_type": "code",
   "execution_count": 3,
   "metadata": {},
   "outputs": [
    {
     "name": "stdout",
     "output_type": "stream",
     "text": [
      "Found number 60 at index: 5\n"
     ]
    }
   ],
   "source": [
    "def binary_search(arr, X):\n",
    "    left = 0\n",
    "    right = len(arr) - 1\n",
    "\n",
    "    Xi = 0\n",
    "\n",
    "    while left <= right:\n",
    "        mid = left + (right - left) // 2\n",
    "\n",
    "        if X <= arr[mid]:\n",
    "            right = mid - 1\n",
    "            Xi = mid\n",
    "        else:\n",
    "            left = mid + 1\n",
    "\n",
    "    return Xi\n",
    "\n",
    "\n",
    "arr = [10, 20, 30, 40, 50, 60, 70, 80, 90]  # is sorted\n",
    "X = 60\n",
    "\n",
    "Xi = binary_search(arr, X)\n",
    "print(f\"Found number {X} at index: {Xi}\")"
   ]
  },
  {
   "cell_type": "markdown",
   "metadata": {},
   "source": [
    "Note that to avoid overflow (in other programming languages) the calculation for the middle index is: *mid = left + (right - left) // 2* which is equal to *mid = (left + right) // 2*"
   ]
  },
  {
   "cell_type": "markdown",
   "metadata": {},
   "source": [
    "Finding the **leftmost** element (if there are duplicates in the data):"
   ]
  },
  {
   "cell_type": "code",
   "execution_count": 4,
   "metadata": {},
   "outputs": [
    {
     "name": "stdout",
     "output_type": "stream",
     "text": [
      "Leftmost number 10 is at index: 0\n",
      "Leftmost number 20 is at index: 0\n",
      "Leftmost number 30 is at index: 2\n",
      "Leftmost number 40 is at index: 3\n",
      "Leftmost number 50 is at index: 7\n",
      "Leftmost number 60 is at index: 7\n",
      "Leftmost number 70 is at index: 9\n"
     ]
    }
   ],
   "source": [
    "def binary_search_leftmost(arr, X):\n",
    "    left = 0\n",
    "    right = len(arr) - 1\n",
    "\n",
    "    Xi = len(arr) - 1\n",
    "\n",
    "    while left <= right:\n",
    "        mid = left + (right - left) // 2\n",
    "\n",
    "        if X <= arr[mid]:\n",
    "            right = mid - 1\n",
    "            Xi = mid\n",
    "        else:\n",
    "            left = mid + 1\n",
    "\n",
    "    return Xi\n",
    "\n",
    "\n",
    "arr = [20, 20, 30, 40, 40, 40, 40, 60, 60, 60]  # is sorted\n",
    "targets = [10, 20, 30, 40, 50, 60, 70]  # 10, 50, 70 are missing in the array\n",
    "\n",
    "for X in targets:\n",
    "    Xi = binary_search_leftmost(arr, X)\n",
    "    print(f\"Leftmost number {X} is at index: {Xi}\")"
   ]
  },
  {
   "cell_type": "markdown",
   "metadata": {},
   "source": [
    "Verbose version:"
   ]
  },
  {
   "cell_type": "code",
   "execution_count": 5,
   "metadata": {},
   "outputs": [
    {
     "name": "stdout",
     "output_type": "stream",
     "text": [
      "X = 40, arr[mid=4] = 40, Xi = 9 [20, 20, 30, 40, 40, 40, 40, 60, 60, 60]\n",
      "New Xi is 4\n",
      "X = 40, arr[mid=1] = 20, Xi = 4 [20, 20, 30, 40]\n",
      "X = 40, arr[mid=2] = 30, Xi = 4 [30, 40]\n",
      "X = 40, arr[mid=3] = 40, Xi = 4 [40]\n",
      "New Xi is 3\n",
      "Leftmost number 40 is at index: 3\n"
     ]
    }
   ],
   "source": [
    "def binary_search_leftmost(arr, X):\n",
    "    left = 0\n",
    "    right = len(arr) - 1\n",
    "\n",
    "    Xi = len(arr) - 1\n",
    "\n",
    "    while left <= right:\n",
    "        mid = left + (right - left) // 2\n",
    "        print(f\"X = {X}, arr[mid={mid}] = {arr[mid]}, Xi = {Xi}\", arr[left : right + 1])\n",
    "\n",
    "        if X <= arr[mid]:\n",
    "            right = mid - 1\n",
    "            Xi = mid\n",
    "            print(\"New Xi is\", Xi)\n",
    "        else:\n",
    "            left = mid + 1\n",
    "\n",
    "    return Xi\n",
    "\n",
    "\n",
    "arr = [20, 20, 30, 40, 40, 40, 40, 60, 60, 60]\n",
    "X = 40\n",
    "\n",
    "Xi = binary_search_leftmost(arr, X)\n",
    "print(f\"Leftmost number {X} is at index: {Xi}\")"
   ]
  },
  {
   "cell_type": "markdown",
   "metadata": {},
   "source": [
    "Finding the **rightmost** element:"
   ]
  },
  {
   "cell_type": "code",
   "execution_count": 6,
   "metadata": {},
   "outputs": [
    {
     "name": "stdout",
     "output_type": "stream",
     "text": [
      "Rightmost number 10 is at index: 0\n",
      "Rightmost number 20 is at index: 1\n",
      "Rightmost number 30 is at index: 2\n",
      "Rightmost number 40 is at index: 6\n",
      "Rightmost number 50 is at index: 6\n",
      "Rightmost number 60 is at index: 9\n",
      "Rightmost number 70 is at index: 9\n"
     ]
    }
   ],
   "source": [
    "def binary_search_rightmost(arr, X):\n",
    "    left = 0\n",
    "    right = len(arr) - 1\n",
    "\n",
    "    Xi = 0\n",
    "\n",
    "    while left <= right:\n",
    "        mid = left + (right - left) // 2\n",
    "\n",
    "        if X < arr[mid]:  # If equal should drop the left (in the else).\n",
    "            right = mid - 1\n",
    "        else:\n",
    "            left = mid + 1\n",
    "            Xi = mid\n",
    "\n",
    "    return Xi\n",
    "\n",
    "\n",
    "arr = [20, 20, 30, 40, 40, 40, 40, 60, 60, 60]  # is sorted\n",
    "targets = [10, 20, 30, 40, 50, 60, 70]  # 10, 50, 70 are missing in the array\n",
    "\n",
    "for X in targets:\n",
    "    Xi = binary_search_rightmost(arr, X)\n",
    "    print(f\"Rightmost number {X} is at index: {Xi}\")"
   ]
  },
  {
   "cell_type": "markdown",
   "metadata": {},
   "source": [
    "Verbose version:"
   ]
  },
  {
   "cell_type": "code",
   "execution_count": 7,
   "metadata": {},
   "outputs": [
    {
     "name": "stdout",
     "output_type": "stream",
     "text": [
      "X = 40, arr[mid=4] = 40, Xi = 0 [20, 20, 30, 40, 40, 40, 40, 60, 60, 60]\n",
      "New Xi is 4\n",
      "X = 40, arr[mid=7] = 60, Xi = 4 [40, 40, 60, 60, 60]\n",
      "X = 40, arr[mid=5] = 40, Xi = 4 [40, 40]\n",
      "New Xi is 5\n",
      "X = 40, arr[mid=6] = 40, Xi = 5 [40]\n",
      "New Xi is 6\n",
      "Rightmost number 40 is at index: 6\n"
     ]
    }
   ],
   "source": [
    "def binary_search_rightmost(arr, X):\n",
    "    left = 0\n",
    "    right = len(arr) - 1\n",
    "\n",
    "    Xi = 0\n",
    "\n",
    "    while left <= right:\n",
    "        mid = left + (right - left) // 2\n",
    "        print(f\"X = {X}, arr[mid={mid}] = {arr[mid]}, Xi = {Xi}\", arr[left : right + 1])\n",
    "\n",
    "        if X < arr[mid]:  # If equal should drop the left (in the else).\n",
    "            right = mid - 1\n",
    "        else:\n",
    "            left = mid + 1\n",
    "            Xi = mid\n",
    "            print(\"New Xi is\", Xi)\n",
    "\n",
    "    return Xi\n",
    "\n",
    "\n",
    "arr = [20, 20, 30, 40, 40, 40, 40, 60, 60, 60]\n",
    "X = 40\n",
    "\n",
    "Xi = binary_search_rightmost(arr, X)\n",
    "print(f\"Rightmost number {X} is at index: {Xi}\")"
   ]
  },
  {
   "cell_type": "markdown",
   "metadata": {},
   "source": [
    "Recursive version:"
   ]
  },
  {
   "cell_type": "code",
   "execution_count": 8,
   "metadata": {},
   "outputs": [
    {
     "name": "stdout",
     "output_type": "stream",
     "text": [
      "Number 40 is at index: 4\n"
     ]
    }
   ],
   "source": [
    "def binary_search_recursive(arr, X, left, right):\n",
    "    if left <= right:\n",
    "        mid = left + (right - left) // 2\n",
    "\n",
    "        if X == arr[mid]:\n",
    "            return mid\n",
    "        elif X < arr[mid]:\n",
    "            return binary_search_recursive(arr, X, left, mid - 1)\n",
    "        else:\n",
    "            return binary_search_recursive(arr, X, mid + 1, right)\n",
    "    else:\n",
    "        return -1\n",
    "\n",
    "\n",
    "arr = [20, 20, 30, 40, 40, 40, 40, 60, 60, 60]\n",
    "X = 40\n",
    "\n",
    "Xi = binary_search_recursive(arr, X, 0, len(arr) - 1)\n",
    "print(f\"Number {X} is at index: {Xi}\")"
   ]
  },
  {
   "cell_type": "markdown",
   "metadata": {},
   "source": [
    "Using the *bisect* module:"
   ]
  },
  {
   "cell_type": "code",
   "execution_count": 9,
   "metadata": {},
   "outputs": [
    {
     "name": "stdout",
     "output_type": "stream",
     "text": [
      "0\n",
      "0\n",
      "\n",
      "6\n",
      "6\n",
      "\n",
      "6\n",
      "7\n",
      "\n",
      "10\n",
      "10\n",
      "\n",
      "3\n",
      "6\n",
      "\n",
      "0\n",
      "0\n",
      "\n"
     ]
    }
   ],
   "source": [
    "import bisect\n",
    "\n",
    "v = [1, 2, 3, 4, 4, 4, 6, 7, 8, 9]\n",
    "targets = [0, 5, 6, 11, 4, -1]\n",
    "\n",
    "for target in targets:\n",
    "    print(bisect.bisect_left(v, target))\n",
    "    print(bisect.bisect_right(v, target))\n",
    "    print()"
   ]
  },
  {
   "cell_type": "markdown",
   "metadata": {},
   "source": [
    "### **Ternary search**"
   ]
  },
  {
   "cell_type": "markdown",
   "metadata": {},
   "source": [
    "Time complexity: *O(logN)*"
   ]
  },
  {
   "cell_type": "code",
   "execution_count": 10,
   "metadata": {},
   "outputs": [
    {
     "name": "stdout",
     "output_type": "stream",
     "text": [
      "Number 60 is at index: 5\n"
     ]
    }
   ],
   "source": [
    "def ternarySearch(arr, key, l, r):\n",
    "    if r >= l:\n",
    "        mid1 = l + (r - l) // 3\n",
    "        mid2 = r - (r - l) // 3\n",
    "\n",
    "        if arr[mid1] == key:\n",
    "            return mid1\n",
    "\n",
    "        if arr[mid2] == key:\n",
    "            return mid2\n",
    "\n",
    "        if key < arr[mid1]:\n",
    "            return ternarySearch(arr, key, l, mid1 - 1)\n",
    "        elif key > arr[mid2]:\n",
    "            return ternarySearch(arr, key, mid2 + 1, r)\n",
    "        else:\n",
    "            return ternarySearch(arr, key, mid1 + 1, mid2 - 1)\n",
    "    return -1\n",
    "\n",
    "\n",
    "arr = [10, 20, 30, 40, 50, 60, 70, 80, 90]\n",
    "X = 60\n",
    "\n",
    "Xi = ternarySearch(arr, X, 0, len(arr) - 1)\n",
    "print(f\"Number {X} is at index: {Xi}\")"
   ]
  },
  {
   "cell_type": "markdown",
   "metadata": {},
   "source": [
    "Verbose variant:"
   ]
  },
  {
   "cell_type": "code",
   "execution_count": 11,
   "metadata": {},
   "outputs": [
    {
     "name": "stdout",
     "output_type": "stream",
     "text": [
      "arr[mid1=33] = 33, arr[mid2=66] = 66 [0, 1, 2, 3, 4, 5, 6, 7, 8, 9, 10, 11, 12, 13, 14, 15, 16, 17, 18, 19, 20, 21, 22, 23, 24, 25, 26, 27, 28, 29, 30, 31, 32, 33, 34, 35, 36, 37, 38, 39, 40, 41, 42, 43, 44, 45, 46, 47, 48, 49, 50, 51, 52, 53, 54, 55, 56, 57, 58, 59, 60, 61, 62, 63, 64, 65, 66, 67, 68, 69, 70, 71, 72, 73, 74, 75, 76, 77, 78, 79, 80, 81, 82, 83, 84, 85, 86, 87, 88, 89, 90, 91, 92, 93, 94, 95, 96, 97, 98, 99]\n",
      "arr[mid1=44] = 44, arr[mid2=55] = 55 [34, 35, 36, 37, 38, 39, 40, 41, 42, 43, 44, 45, 46, 47, 48, 49, 50, 51, 52, 53, 54, 55, 56, 57, 58, 59, 60, 61, 62, 63, 64, 65]\n",
      "arr[mid1=59] = 59, arr[mid2=62] = 62 [56, 57, 58, 59, 60, 61, 62, 63, 64, 65]\n",
      "arr[mid1=60] = 60, arr[mid2=61] = 61 [60, 61]\n",
      "Number 60 is at index: 60\n"
     ]
    }
   ],
   "source": [
    "def ternarySearch(arr, key, l, r):\n",
    "    if r >= l:\n",
    "        mid1 = l + (r - l) // 3\n",
    "        mid2 = r - (r - l) // 3\n",
    "\n",
    "        print(f\"arr[mid1={mid1}] = {arr[mid1]}, arr[mid2={mid2}] = {arr[mid2]}\", arr[l : r + 1])\n",
    "\n",
    "        if arr[mid1] == key:\n",
    "            return mid1\n",
    "\n",
    "        if arr[mid2] == key:\n",
    "            return mid2\n",
    "\n",
    "        if key < arr[mid1]:\n",
    "            return ternarySearch(arr, key, l, mid1 - 1)\n",
    "        elif key > arr[mid2]:\n",
    "            return ternarySearch(arr, key, mid2 + 1, r)\n",
    "        else:\n",
    "            return ternarySearch(arr, key, mid1 + 1, mid2 - 1)\n",
    "    return -1\n",
    "\n",
    "\n",
    "arr = [i for i in range(100)]\n",
    "# arr = [10, 20, 20, 30, 40, 40, 40, 40, 60, 60, 60, 60, 60, 60]\n",
    "\n",
    "X = 60\n",
    "\n",
    "Xi = ternarySearch(arr, X, 0, len(arr) - 1)\n",
    "print(f\"Number {X} is at index: {Xi}\")"
   ]
  },
  {
   "cell_type": "markdown",
   "metadata": {},
   "source": [
    "### **Jump search**"
   ]
  },
  {
   "cell_type": "markdown",
   "metadata": {},
   "source": [
    "Time complexity: *O(sqrt(N))*"
   ]
  },
  {
   "cell_type": "code",
   "execution_count": 12,
   "metadata": {},
   "outputs": [
    {
     "name": "stdout",
     "output_type": "stream",
     "text": [
      "Number 40 is at index: 3\n"
     ]
    }
   ],
   "source": [
    "import math\n",
    "\n",
    "\n",
    "def jumpSearch(arr, X):\n",
    "    N = len(arr)\n",
    "    block_size = int(math.sqrt(N))\n",
    "\n",
    "    step = block_size\n",
    "    prev = 0\n",
    "    while arr[min(step, N) - 1] < X:\n",
    "        prev = step\n",
    "        step += block_size\n",
    "        if prev >= N:\n",
    "            return -1\n",
    "\n",
    "    while arr[prev] < X:\n",
    "        prev += 1\n",
    "\n",
    "        if prev == min(step, N):\n",
    "            return -1\n",
    "\n",
    "    if arr[prev] == X:\n",
    "        return prev\n",
    "\n",
    "    return -1\n",
    "\n",
    "\n",
    "arr = [10, 20, 30, 40, 50, 60, 70, 80, 90]\n",
    "X = 40\n",
    "\n",
    "Xi = jumpSearch(arr, X)\n",
    "print(f\"Number {X} is at index: {Xi}\")"
   ]
  },
  {
   "cell_type": "markdown",
   "metadata": {},
   "source": [
    "Verbose version:"
   ]
  },
  {
   "cell_type": "code",
   "execution_count": 13,
   "metadata": {},
   "outputs": [
    {
     "name": "stdout",
     "output_type": "stream",
     "text": [
      "[0, 3, 6, 9, 12, 15, 18, 21, 24, 27, 30, 33, 36, 39, 42, 45, 48, 51, 54, 57, 60, 63, 66, 69, 72, 75, 78, 81, 84, 87, 90, 93, 96, 99]\n",
      "Len is 34, blocksize is: 5\n",
      "Number on step 5: 12\n",
      "Number on step 10: 27\n",
      "Number on step 15: 42\n",
      "Number on step 20: 57\n",
      "Number on last step 25: 72\n",
      "Interval is: [60, 72)\n",
      "Linear searching: 60\n",
      "Linear searching: 63\n",
      "End of linear searching on number: 66\n",
      "Number 66 is at index: 22\n"
     ]
    }
   ],
   "source": [
    "import math\n",
    "\n",
    "\n",
    "def jumpSearch(arr, X):\n",
    "    N = len(arr)\n",
    "    block_size = int(math.sqrt(N))\n",
    "    print(f\"Len is {N}, blocksize is: {block_size}\")\n",
    "\n",
    "    step = block_size\n",
    "    prev = 0\n",
    "    while arr[min(step, N) - 1] < X:\n",
    "        print(f\"Number on step {min(step, N)}: {arr[min(step, N) - 1]}\")\n",
    "\n",
    "        prev = step\n",
    "        step += block_size\n",
    "\n",
    "        if prev >= N:\n",
    "            print(f\"Number is larger than max element\")\n",
    "            return -1\n",
    "\n",
    "    print(f\"Number on last step {min(step, N)}: {arr[min(step, N) - 1]}\")\n",
    "    print(f\"Interval is: [{arr[prev]}, {arr[min(step, N) - 1]})\")\n",
    "\n",
    "    while arr[prev] < X:\n",
    "        print(f\"Linear searching:\", arr[prev])\n",
    "        prev += 1\n",
    "\n",
    "    if prev == min(step, N):\n",
    "        print(f\"End of interval reached!*\", arr[prev])\n",
    "        return -1\n",
    "\n",
    "    print(f\"End of linear searching on number:\", arr[prev])\n",
    "    if arr[prev] == X:\n",
    "        return prev\n",
    "\n",
    "    return -1\n",
    "\n",
    "\n",
    "arr = [i for i in range(0, 100, 3)]\n",
    "print(arr)\n",
    "X = 66  # Try 66, 59, 67, 120, -1\n",
    "\n",
    "Xi = jumpSearch(arr, X)\n",
    "print(f\"Number {X} is at index: {Xi}\")"
   ]
  },
  {
   "cell_type": "markdown",
   "metadata": {},
   "source": [
    "### **Exponential search**"
   ]
  },
  {
   "cell_type": "markdown",
   "metadata": {},
   "source": [
    "Time complexity: *O(logi)*"
   ]
  },
  {
   "cell_type": "code",
   "execution_count": 14,
   "metadata": {},
   "outputs": [
    {
     "name": "stdout",
     "output_type": "stream",
     "text": [
      "Number 60 is at index: 5\n"
     ]
    }
   ],
   "source": [
    "def binary_search_recursive(arr, X, left, right):\n",
    "    if left <= right:\n",
    "        mid = left + (right - left) // 2\n",
    "\n",
    "        if X == arr[mid]:\n",
    "            return mid\n",
    "        elif X < arr[mid]:\n",
    "            return binary_search_recursive(arr, X, left, mid - 1)\n",
    "        else:\n",
    "            return binary_search_recursive(arr, X, mid + 1, right)\n",
    "    else:\n",
    "        return -1\n",
    "\n",
    "\n",
    "def exponential_search(arr, X):\n",
    "    N = len(arr)\n",
    "\n",
    "    i = 1\n",
    "    while i < N and arr[i] <= X:\n",
    "        i = i * 2\n",
    "\n",
    "    left = i // 2\n",
    "    right = min(i, N - 1)\n",
    "\n",
    "    return binary_search_recursive(arr, X, left, right)\n",
    "\n",
    "\n",
    "arr = [10, 20, 30, 40, 50, 60, 70, 80, 90]\n",
    "X = 60\n",
    "\n",
    "Xi = exponential_search(arr, X)\n",
    "print(f\"Number {X} is at index: {Xi}\")"
   ]
  },
  {
   "cell_type": "markdown",
   "metadata": {},
   "source": [
    "Verbose version:"
   ]
  },
  {
   "cell_type": "code",
   "execution_count": 15,
   "metadata": {},
   "outputs": [
    {
     "name": "stdout",
     "output_type": "stream",
     "text": [
      "20 [0, 5, 10, 15, 20, 25, 30, 35, 40, 45, 50, 55, 60, 65, 70, 75, 80, 85, 90, 95]\n",
      "1 5\n",
      "2 10\n",
      "4 20\n",
      "8 40\n",
      "Last: 16 80\n",
      "Number is between indexes: 8 16\n",
      "Number is between: 40 80\n",
      "Binary searching...\n",
      "Number 60 is at index: 12\n"
     ]
    }
   ],
   "source": [
    "def exponential_search(arr, X):\n",
    "    N = len(arr)\n",
    "\n",
    "    i = 1\n",
    "    while i < N and arr[i] <= X:\n",
    "        print(i, arr[i])\n",
    "        i = i * 2\n",
    "\n",
    "    print(\"Last:\", i, arr[min(i, N - 1)])\n",
    "\n",
    "    left = i // 2\n",
    "    right = min(i, N - 1)\n",
    "\n",
    "    print(\"Number is between indexes:\", left, right)\n",
    "    print(\"Number is between:\", arr[left], arr[right])\n",
    "\n",
    "    print(\"Binary searching...\")\n",
    "\n",
    "    return binary_search_recursive(arr, X, left, right)\n",
    "\n",
    "\n",
    "arr = [10, 20, 30, 40, 50, 60, 70, 80, 90]\n",
    "arr = [i for i in range(0, 100, 5)]\n",
    "\n",
    "print(len(arr), arr)\n",
    "X = 60\n",
    "\n",
    "Xi = exponential_search(arr, X)\n",
    "print(f\"Number {X} is at index: {Xi}\")"
   ]
  },
  {
   "cell_type": "markdown",
   "metadata": {},
   "source": [
    "### **Binary search on monotonic function**"
   ]
  },
  {
   "cell_type": "markdown",
   "metadata": {},
   "source": [
    "Suppose we have the following function (the input x can only be whole a number):\n"
   ]
  },
  {
   "cell_type": "code",
   "execution_count": null,
   "metadata": {},
   "outputs": [],
   "source": [
    "def f(x):\n",
    "    return 2 * x**3 + 13 * x**2 + 3 * x + 5"
   ]
  },
  {
   "cell_type": "markdown",
   "metadata": {},
   "source": [
    "Let's plot this function and see how it looks:"
   ]
  },
  {
   "cell_type": "code",
   "execution_count": 17,
   "metadata": {},
   "outputs": [
    {
     "data": {
      "text/plain": [
       "<Axes: xlabel='x'>"
      ]
     },
     "execution_count": 17,
     "metadata": {},
     "output_type": "execute_result"
    },
    {
     "data": {
      "image/png": "[encoded data removed]",
      "text/plain": [
       "<Figure size 640x480 with 1 Axes>"
      ]
     },
     "metadata": {},
     "output_type": "display_data"
    }
   ],
   "source": [
    "import pandas as pd\n",
    "\n",
    "f_input = [i for i in range(1_000)]\n",
    "\n",
    "pd.DataFrame.from_dict({\"x\": f_input, \"y\": map(f, f_input)}).plot(x=\"x\", y=\"y\")"
   ]
  },
  {
   "cell_type": "markdown",
   "metadata": {},
   "source": [
    "Looks like it is growing fast, but it looks like it's monotonic...\n",
    "How can we know, what is the smallest x, for which f(x) >= 2000013000003000006?\n",
    "We can do a linear search:"
   ]
  },
  {
   "cell_type": "code",
   "execution_count": 18,
   "metadata": {},
   "outputs": [
    {
     "data": {
      "text/plain": [
       "1000001"
      ]
     },
     "execution_count": 18,
     "metadata": {},
     "output_type": "execute_result"
    }
   ],
   "source": [
    "def linear_search_f(f, target=2000013000003000006):\n",
    "    i = 0\n",
    "    while True:\n",
    "        if f(i) >= target:\n",
    "            return i\n",
    "        i += 1\n",
    "\n",
    "\n",
    "linear_search_f(f)"
   ]
  },
  {
   "cell_type": "markdown",
   "metadata": {},
   "source": [
    "But can't we also do a binary search? The values of the function would be corresponding to a sorted array, which we know we can search in... Let's see:"
   ]
  },
  {
   "cell_type": "code",
   "execution_count": 19,
   "metadata": {},
   "outputs": [
    {
     "data": {
      "text/plain": [
       "1000001"
      ]
     },
     "execution_count": 19,
     "metadata": {},
     "output_type": "execute_result"
    }
   ],
   "source": [
    "def binary_search_f(f, target=2000013000003000006):\n",
    "    left, right, ans = 0, int(1e16), -1\n",
    "    while left <= right:\n",
    "        mid = (left + right) // 2\n",
    "        if f(mid) >= target:\n",
    "            right = mid - 1\n",
    "            ans = mid\n",
    "        else:\n",
    "            left = mid + 1\n",
    "\n",
    "    return ans\n",
    "\n",
    "\n",
    "binary_search_f(f)"
   ]
  },
  {
   "cell_type": "code",
   "execution_count": 20,
   "metadata": {},
   "outputs": [
    {
     "name": "stdout",
     "output_type": "stream",
     "text": [
      "607 ms ± 18.2 ms per loop (mean ± std. dev. of 7 runs, 1 loop each)\n",
      "37.9 µs ± 459 ns per loop (mean ± std. dev. of 7 runs, 10,000 loops each)\n"
     ]
    }
   ],
   "source": [
    "%timeit linear_search_f(f)\n",
    "%timeit binary_search_f(f)"
   ]
  },
  {
   "cell_type": "markdown",
   "metadata": {},
   "source": [
    "*Real-life example:*"
   ]
  },
  {
   "cell_type": "markdown",
   "metadata": {},
   "source": [
    "Suppose we have 3 cooks, every one of them is cooking 1 pancake for every 2, 3, 5 minutes respectively, that have passed. How can we find what is the first moment that we have more than 1,000,000 pancakes ready? How would our function look like?"
   ]
  },
  {
   "cell_type": "code",
   "execution_count": 21,
   "metadata": {},
   "outputs": [
    {
     "data": {
      "text/plain": [
       "4"
      ]
     },
     "execution_count": 21,
     "metadata": {},
     "output_type": "execute_result"
    }
   ],
   "source": [
    "def f_pancakes(t, cooks=[2, 3, 5]):\n",
    "    return sum([t // cook for cook in cooks])\n",
    "\n",
    "\n",
    "f_pancakes(5)"
   ]
  },
  {
   "cell_type": "markdown",
   "metadata": {},
   "source": [
    "In moment 5, we have 4 pancakes, the first cook has cooked 2, the second has cooked 1, and the third has also cooked 1."
   ]
  },
  {
   "cell_type": "markdown",
   "metadata": {},
   "source": [
    "Let's plot the function and analyze it..."
   ]
  },
  {
   "cell_type": "code",
   "execution_count": 22,
   "metadata": {},
   "outputs": [
    {
     "data": {
      "text/plain": [
       "<Axes: xlabel='x'>"
      ]
     },
     "execution_count": 22,
     "metadata": {},
     "output_type": "execute_result"
    },
    {
     "data": {
      "image/png": "[encoded data removed]",
      "text/plain": [
       "<Figure size 640x480 with 1 Axes>"
      ]
     },
     "metadata": {},
     "output_type": "display_data"
    }
   ],
   "source": [
    "pancakes_input = [i for i in range(5_000)]\n",
    "\n",
    "pd.DataFrame.from_dict({\"x\": pancakes_input, \"f(x)\": map(f_pancakes, pancakes_input)}).plot(x=\"x\", y=\"f(x)\")"
   ]
  },
  {
   "cell_type": "markdown",
   "metadata": {},
   "source": [
    "Looks like it is monotonic as well, meaning that we can do a binary search over it... But let's do a linear search first to compare for correctness.\n",
    "\n",
    "Now let's do a binary search over this function, in fact, let's reuse the function that we have written above..."
   ]
  },
  {
   "cell_type": "code",
   "execution_count": 23,
   "metadata": {},
   "outputs": [
    {
     "name": "stdout",
     "output_type": "stream",
     "text": [
      "967743\n",
      "967743\n"
     ]
    }
   ],
   "source": [
    "print(linear_search_f(f_pancakes, 1_000_000))\n",
    "print(binary_search_f(f_pancakes, 1_000_000))"
   ]
  },
  {
   "cell_type": "markdown",
   "metadata": {},
   "source": [
    "Looks like they are giving the same answers... Let's time them:"
   ]
  },
  {
   "cell_type": "code",
   "execution_count": 24,
   "metadata": {},
   "outputs": [
    {
     "name": "stdout",
     "output_type": "stream",
     "text": [
      "369 ms ± 3.01 ms per loop (mean ± std. dev. of 7 runs, 1 loop each)\n",
      "26.1 µs ± 498 ns per loop (mean ± std. dev. of 7 runs, 10,000 loops each)\n"
     ]
    }
   ],
   "source": [
    "%timeit linear_search_f(f_pancakes, 1_000_000)\n",
    "%timeit binary_search_f(f_pancakes, 1_000_000)"
   ]
  }
 ],
 "metadata": {
  "kernelspec": {
   "display_name": "Python 3",
   "language": "python",
   "name": "python3"
  },
  "language_info": {
   "codemirror_mode": {
    "name": "ipython",
    "version": 3
   },
   "file_extension": ".py",
   "mimetype": "text/x-python",
   "name": "python",
   "nbconvert_exporter": "python",
   "pygments_lexer": "ipython3",
   "version": "3.10.11"
  }
 },
 "nbformat": 4,
 "nbformat_minor": 2
}
