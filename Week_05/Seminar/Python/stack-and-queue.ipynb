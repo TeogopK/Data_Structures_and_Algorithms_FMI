{
 "cells": [
  {
   "cell_type": "code",
   "execution_count": 3,
   "metadata": {},
   "outputs": [
    {
     "data": {
      "text/plain": [
       "2"
      ]
     },
     "execution_count": 3,
     "metadata": {},
     "output_type": "execute_result"
    }
   ],
   "source": [
    "# Stack 1 -> list\n",
    "stack = []\n",
    "\n",
    "# Push\n",
    "stack.append(1)\n",
    "stack.append(2)\n",
    "stack.append(3)\n",
    "\n",
    "# Peek\n",
    "stack[-1]\n",
    "\n",
    "# Pop\n",
    "stack.pop()\n",
    "\n",
    "# Peek\n",
    "stack[-1]"
   ]
  },
  {
   "cell_type": "code",
   "execution_count": 6,
   "metadata": {},
   "outputs": [
    {
     "data": {
      "text/plain": [
       "2"
      ]
     },
     "execution_count": 6,
     "metadata": {},
     "output_type": "execute_result"
    }
   ],
   "source": [
    "# Stack 2 -> deque\n",
    "from collections import deque\n",
    "\n",
    "stack = deque()\n",
    "\n",
    "stack.appendleft(1)\n",
    "stack.appendleft(2)\n",
    "stack.appendleft(3)\n",
    "\n",
    "stack[0]\n",
    "\n",
    "stack.popleft()\n",
    "\n",
    "stack[0]"
   ]
  },
  {
   "cell_type": "code",
   "execution_count": null,
   "metadata": {},
   "outputs": [
    {
     "name": "stdout",
     "output_type": "stream",
     "text": [
      "3\n",
      "3\n",
      "2\n"
     ]
    }
   ],
   "source": [
    "class Stack:\n",
    "    def __init__(self):\n",
    "        self.items = []\n",
    "\n",
    "    def push(self, el):\n",
    "        self.items.append(el)\n",
    "\n",
    "    def peek(self):\n",
    "        return self.items[-1]\n",
    "\n",
    "    def pop(self):\n",
    "        return self.items.pop()\n",
    "\n",
    "stack = Stack()\n",
    "stack.push(1)\n",
    "stack.push(2)\n",
    "stack.push(3)\n",
    "print(stack.peek())\n",
    "print(stack.pop())\n",
    "print(stack.peek())"
   ]
  },
  {
   "cell_type": "code",
   "execution_count": 10,
   "metadata": {},
   "outputs": [
    {
     "name": "stdout",
     "output_type": "stream",
     "text": [
      "3\n",
      "3\n",
      "2\n"
     ]
    }
   ],
   "source": [
    "from collections import deque\n",
    "\n",
    "class Stack:\n",
    "    def __init__(self):\n",
    "        self.items = deque()\n",
    "\n",
    "    def push(self, el):\n",
    "        self.items.appendleft(el)\n",
    "\n",
    "    def peek(self):\n",
    "        return self.items[0]\n",
    "\n",
    "    def pop(self):\n",
    "        el = self.items[0]\n",
    "        self.items.popleft()\n",
    "        return el\n",
    "\n",
    "stack = Stack()\n",
    "stack.push(1)\n",
    "stack.push(2)\n",
    "stack.push(3)\n",
    "print(stack.peek())\n",
    "print(stack.pop())\n",
    "print(stack.peek())"
   ]
  },
  {
   "cell_type": "code",
   "execution_count": null,
   "metadata": {},
   "outputs": [
    {
     "name": "stdout",
     "output_type": "stream",
     "text": [
      "1\n",
      "2\n"
     ]
    }
   ],
   "source": [
    "# Queue\n",
    "\n",
    "from collections import deque\n",
    "\n",
    "queue = deque()\n",
    "queue.append(1)\n",
    "queue.append(2)\n",
    "queue.append(3)\n",
    "print(queue[0])\n",
    "queue.popleft()\n",
    "print(queue[0])"
   ]
  }
 ],
 "metadata": {
  "kernelspec": {
   "display_name": "Python 3",
   "language": "python",
   "name": "python3"
  },
  "language_info": {
   "codemirror_mode": {
    "name": "ipython",
    "version": 3
   },
   "file_extension": ".py",
   "mimetype": "text/x-python",
   "name": "python",
   "nbconvert_exporter": "python",
   "pygments_lexer": "ipython3",
   "version": "3.10.11"
  }
 },
 "nbformat": 4,
 "nbformat_minor": 2
}
