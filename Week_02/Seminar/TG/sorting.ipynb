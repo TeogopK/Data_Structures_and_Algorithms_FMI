{
 "cells": [
  {
   "cell_type": "markdown",
   "metadata": {},
   "source": [
    "## General idea"
   ]
  },
  {
   "cell_type": "markdown",
   "metadata": {},
   "source": [
    "### Sorting 2 elements"
   ]
  },
  {
   "cell_type": "code",
   "execution_count": 72,
   "metadata": {},
   "outputs": [
    {
     "data": {
      "text/plain": [
       "(2, 5)"
      ]
     },
     "execution_count": 72,
     "metadata": {},
     "output_type": "execute_result"
    }
   ],
   "source": [
    "a = 5\n",
    "b = 2\n",
    "\n",
    "if a > b:\n",
    "    a, b = b, a\n",
    "\n",
    "a, b"
   ]
  },
  {
   "cell_type": "markdown",
   "metadata": {},
   "source": [
    "### Sorting 3 elements"
   ]
  },
  {
   "cell_type": "code",
   "execution_count": 73,
   "metadata": {},
   "outputs": [
    {
     "data": {
      "text/plain": [
       "(1, 2, 5)"
      ]
     },
     "execution_count": 73,
     "metadata": {},
     "output_type": "execute_result"
    }
   ],
   "source": [
    "a = 5\n",
    "b = 2\n",
    "c = 1\n",
    "\n",
    "if a > b:\n",
    "    a, b = b, a\n",
    "\n",
    "if b > c:\n",
    "    b, c = c, b\n",
    "\n",
    "if a > b:\n",
    "    a, b = b, a\n",
    "\n",
    "a, b, c"
   ]
  },
  {
   "cell_type": "markdown",
   "metadata": {},
   "source": [
    "## \"Slow\" sorting algorithms"
   ]
  },
  {
   "cell_type": "markdown",
   "metadata": {},
   "source": [
    "### Bubble Sort\n",
    "\n",
    "Time complexity: O(n²)\n",
    "\n",
    "Stable"
   ]
  },
  {
   "cell_type": "code",
   "execution_count": 74,
   "metadata": {},
   "outputs": [
    {
     "data": {
      "text/plain": [
       "[1, 2, 3, 4, 5, 6, 7, 8, 9]"
      ]
     },
     "execution_count": 74,
     "metadata": {},
     "output_type": "execute_result"
    }
   ],
   "source": [
    "arr = [9, 4, 3, 2, 6, 7, 1, 8, 5]\n",
    "\n",
    "for i in range(len(arr) - 1):\n",
    "    for j in range(len(arr) - 1 - i):\n",
    "        if arr[j] > arr[j + 1]:\n",
    "            arr[j], arr[j + 1] = arr[j + 1], arr[j]\n",
    "\n",
    "arr"
   ]
  },
  {
   "cell_type": "markdown",
   "metadata": {},
   "source": [
    "### Selection Sort\n",
    "\n",
    "Time complexity: O(n²)\n",
    "\n",
    "Not stable"
   ]
  },
  {
   "cell_type": "code",
   "execution_count": 75,
   "metadata": {},
   "outputs": [
    {
     "data": {
      "text/plain": [
       "[1, 2, 3, 4, 5, 6, 7, 8, 9]"
      ]
     },
     "execution_count": 75,
     "metadata": {},
     "output_type": "execute_result"
    }
   ],
   "source": [
    "arr = [9, 4, 3, 2, 6, 7, 1, 8, 5]\n",
    "\n",
    "for i in range(len(arr) - 1):\n",
    "    min_index = i\n",
    "\n",
    "    for j in range(i + 1, len(arr)):\n",
    "        if arr[j] < arr[min_index]:\n",
    "            min_index = j\n",
    "\n",
    "    arr[min_index], arr[i] = arr[i], arr[min_index]\n",
    "\n",
    "arr"
   ]
  },
  {
   "cell_type": "markdown",
   "metadata": {},
   "source": [
    "### Insertion Sort\n",
    "\n",
    "Time complexity: O(n²)\n",
    "\n",
    "Stable"
   ]
  },
  {
   "cell_type": "code",
   "execution_count": 76,
   "metadata": {},
   "outputs": [
    {
     "data": {
      "text/plain": [
       "[1, 2, 3, 4, 5, 6, 7, 8, 9]"
      ]
     },
     "execution_count": 76,
     "metadata": {},
     "output_type": "execute_result"
    }
   ],
   "source": [
    "arr = [9, 4, 3, 2, 6, 7, 1, 8, 5]\n",
    "\n",
    "for i in range(1, len(arr)):\n",
    "    key = arr[i]\n",
    "\n",
    "    j = i - 1\n",
    "    while j >= 0 and key < arr[j]:\n",
    "        arr[j + 1] = arr[j]\n",
    "        j -= 1\n",
    "    arr[j + 1] = key\n",
    "\n",
    "arr"
   ]
  },
  {
   "cell_type": "markdown",
   "metadata": {},
   "source": [
    "## \"Fast\" sorting algorithms"
   ]
  },
  {
   "cell_type": "markdown",
   "metadata": {},
   "source": [
    "### Merge sort"
   ]
  },
  {
   "cell_type": "markdown",
   "metadata": {},
   "source": [
    "#### Merge algorithm\n",
    "\n",
    "Time complexity: O(n)\n",
    "\n",
    "Merge sorted arrays"
   ]
  },
  {
   "cell_type": "code",
   "execution_count": 77,
   "metadata": {},
   "outputs": [
    {
     "data": {
      "text/plain": [
       "[1, 2, 3, 5, 6, 7]"
      ]
     },
     "execution_count": 77,
     "metadata": {},
     "output_type": "execute_result"
    }
   ],
   "source": [
    "left = [2, 5, 6]\n",
    "right = [1, 3, 7]\n",
    "arr = []\n",
    "\n",
    "left_index = 0\n",
    "right_index = 0\n",
    "\n",
    "while left_index < len(left) and right_index < len(right):\n",
    "    if left[left_index] <= right[right_index]:\n",
    "        arr.append(left[left_index])\n",
    "        left_index += 1\n",
    "    else:\n",
    "        arr.append(right[right_index])\n",
    "        right_index += 1\n",
    "\n",
    "while left_index < len(left):\n",
    "    arr.append(left[left_index])\n",
    "    left_index += 1\n",
    "\n",
    "while right_index < len(right):\n",
    "    arr.append(right[right_index])\n",
    "    right_index += 1\n",
    "\n",
    "arr"
   ]
  },
  {
   "cell_type": "markdown",
   "metadata": {},
   "source": [
    "#### Merge sort\n",
    "\n",
    "Time complexity: O(n * log n)\n",
    "\n",
    "Stable"
   ]
  },
  {
   "cell_type": "code",
   "execution_count": 78,
   "metadata": {},
   "outputs": [
    {
     "data": {
      "text/plain": [
       "[1, 2, 3, 4, 5, 6, 7, 8, 9]"
      ]
     },
     "execution_count": 78,
     "metadata": {},
     "output_type": "execute_result"
    }
   ],
   "source": [
    "def merge(arr, left, right):\n",
    "    left_index = 0\n",
    "    right_index = 0\n",
    "    index = 0\n",
    "\n",
    "    while left_index < len(left) and right_index < len(right):\n",
    "        if left[left_index] <= right[right_index]:\n",
    "            arr[index] = left[left_index]\n",
    "            index += 1\n",
    "            left_index += 1\n",
    "        else:\n",
    "            arr[index] = right[right_index]\n",
    "            index += 1\n",
    "            right_index += 1\n",
    "\n",
    "    while left_index < len(left):\n",
    "        arr[index] = left[left_index]\n",
    "        index += 1\n",
    "        left_index += 1\n",
    "\n",
    "    while right_index < len(right):\n",
    "        arr[index] = right[right_index]\n",
    "        index += 1\n",
    "        right_index += 1\n",
    "\n",
    "def merge_sort(arr):\n",
    "    if len(arr) > 1:\n",
    "        middle = len(arr) // 2\n",
    "        left = arr[:middle]\n",
    "        right = arr[middle:]\n",
    "        merge_sort(left)\n",
    "        merge_sort(right)\n",
    "        merge(arr, left, right)\n",
    "\n",
    "arr = [9, 4, 3, 2, 6, 7, 1, 8, 5]\n",
    "merge_sort(arr)\n",
    "arr"
   ]
  },
  {
   "cell_type": "markdown",
   "metadata": {},
   "source": [
    "### Quick sort\n",
    "\n",
    "Time complexity (average): O(n * log n)\n",
    "\n",
    "Time complexity (worst case): O(n²)\n",
    "\n",
    "Not stable\n",
    "\n",
    "See: https://youtu.be/aXXWXz5rF64, https://youtu.be/es2T6KY45cA"
   ]
  },
  {
   "cell_type": "code",
   "execution_count": 79,
   "metadata": {},
   "outputs": [
    {
     "data": {
      "text/plain": [
       "[1, 2, 3, 4, 5, 6, 7, 8, 9]"
      ]
     },
     "execution_count": 79,
     "metadata": {},
     "output_type": "execute_result"
    }
   ],
   "source": [
    "arr = [9, 4, 3, 2, 6, 7, 1, 8, 5]\n",
    "\n",
    "def partition(arr, low, high):\n",
    "    pivot = arr[high]\n",
    "\n",
    "    i = low\n",
    "\n",
    "    for j in range(low, high):\n",
    "        if arr[j] <= pivot:\n",
    "            arr[i], arr[j] = arr[j], arr[i]\n",
    "            i += 1\n",
    "\n",
    "    arr[i], arr[high] = arr[high], arr[i]\n",
    "\n",
    "    return i\n",
    "\n",
    "def quick_sort(arr, low, high):\n",
    "    if low < high:\n",
    "        pi = partition(arr, low, high)\n",
    "        quick_sort(arr, low, pi - 1)\n",
    "        quick_sort(arr, pi + 1, high)\n",
    "\n",
    "quick_sort(arr, 0, len(arr) - 1)\n",
    "arr"
   ]
  },
  {
   "cell_type": "code",
   "execution_count": 80,
   "metadata": {},
   "outputs": [
    {
     "name": "stdout",
     "output_type": "stream",
     "text": [
      "       Unsorted order: [9, 4, 3, 2, 6, 7, 1, 8, 5]\n",
      "Expected sorted order: [1, 2, 3, 4, 5, 6, 7, 8, 9]\n",
      "      Partition index: 4\n",
      "Order after partition: [4, 3, 2, 1, 5, 7, 9, 8, 6]\n",
      "\n",
      "Notice that the element at index pi = 4 (arr[pi] = arr[4] = 5) is in the correct place after partitioning\n"
     ]
    }
   ],
   "source": [
    "arr = [9, 4, 3, 2, 6, 7, 1, 8, 5]\n",
    "\n",
    "print(\"       Unsorted order:\", arr)\n",
    "print(\"Expected sorted order:\", sorted(arr))\n",
    "pi = partition(arr, 0, len(arr) - 1)\n",
    "print(\"      Partition index:\", pi)\n",
    "print(\"Order after partition:\", arr)\n",
    "print()\n",
    "print(f\"Notice that the element at index pi = {pi} (arr[pi] = arr[{pi}] = {arr[pi]}) is in the correct place after partitioning\")"
   ]
  },
  {
   "cell_type": "markdown",
   "metadata": {},
   "source": [
    "## Special sorting algorithms"
   ]
  },
  {
   "cell_type": "markdown",
   "metadata": {},
   "source": [
    "### Counting sort\n",
    "\n",
    "Time complexity: O(N + K)\n",
    "\n",
    "Space complexity: O(N + K)\n",
    "\n",
    "N = the number of items\n",
    "\n",
    "K = the number of possible values\n",
    "\n",
    "Only works if the items have a known, finite set of possible values (of size K)"
   ]
  },
  {
   "cell_type": "code",
   "execution_count": 81,
   "metadata": {},
   "outputs": [
    {
     "name": "stdout",
     "output_type": "stream",
     "text": [
      "[1, 2, 3, 4, 5, 6, 7, 8, 9]\n"
     ]
    }
   ],
   "source": [
    "arr = [9, 4, 3, 2, 6, 7, 1, 8, 5]\n",
    "\n",
    "N = len(arr)\n",
    "K = max(arr) + 1\n",
    "\n",
    "output = [0] * N\n",
    "count = [0] * K\n",
    "\n",
    "# (1)\n",
    "for i in range(N):\n",
    "    count[arr[i]] += 1\n",
    "\n",
    "# (2)\n",
    "for i in range(1, K):\n",
    "    count[i] += count[i - 1]\n",
    "\n",
    "# (3)\n",
    "for i in reversed(range(N)):\n",
    "    output[count[arr[i]] - 1] = arr[i]\n",
    "    count[arr[i]] -= 1\n",
    "\n",
    "for i in range(N):\n",
    "    arr[i] = output[i]\n",
    "\n",
    "print(arr)"
   ]
  },
  {
   "cell_type": "markdown",
   "metadata": {},
   "source": [
    "Given: `[3, 2, 1, 2, 1, 6, 2]` with possible values `{0, 1, 2, 3, 4, 5, 6}`\n",
    "\n",
    "The result should be: `[1, 1, 2, 2, 2, 3, 6]`\n",
    "\n",
    "Notice that the elements are simply repeated. We can produce the sorted array if we *count* how many of each possible value we should have\n",
    "\n",
    "(1) Create an array of counts, where `counts[v]` is how many times the value `v` appears\n",
    "\n",
    "For the example, this is `counts = [0, 2, 3, 1, 0, 0, 1]`\n",
    "\n",
    "`counts[0] = 0` (0 appears 0 times), `counts[1] = 2` (1 appears 2 times), `counts[2] = 3` (2 appears 3 times), etc.\n",
    "\n",
    "(2) At which index should a given value `v` be placed? Each occurence of a smaller value will \"push\" it forward.\n",
    "\n",
    "For the example: The value `0` isn't in the array. The `1`s will start at index 0 and stop at index 0 + 2 = 2 (not inclusive). Then, for the `2`s, they will be \"pushed\" forward by the `1`s, which stopped at index 2. There are 3 instances of the value `2`, so they will end at index 0 + 2 + 3 = 5 (not inclusive). Then, for the `3`s, they will be \"pushed\" forward by the `2`s, which stopped at index 5. There is 1 instance of the value `3`, so the `3`s will end at index 0 + 2 + 3 + 1 = 6, etc.\n",
    "\n",
    "So, every item in `counts` should become the sum of all previous items. This is called a \"prefix sum\".\n",
    "\n",
    "For the example, the new value is `counts = [0, 2, 5, 6, 6, 6, 7]`\n",
    "\n",
    "`counts[1] = 2` (meaning, the `1`s stop at index 2, not including index 2), etc.\n",
    "\n",
    "(3) Now, `counts` can tell us where to place a given item. If we see a `2`, we know we can place it at index `counts[2] - 1` (because `counts[2]` is not inclusive). Then, if we see another `2`, we should place it at index `counts[2] - 2`, etc. In other words, we can decrement `counts[v]` when inserting an element `v` to keep the `counts` array (which now stores target indexes, not counts) accurate.\n",
    "\n",
    "Notice that this procedure will insert the elements in reversed order: the first `2` that is inserted will end up at the last index for `2`s, the next `2` will be inserted to the left of it, etc. By iterating the original array in reverse order, we place the rightmost instance of `v` last, etc., which makes the algorithm stable.\n",
    "\n",
    "For the example:\n",
    "\n",
    "0: We have `arr = [3, 2, 1, 2, 1, 6, 2]`, `counts = [0, 2, 5, 6, 6, 6, 7]`, `result = [0, 0, 0, 0, 0, 0, 0]`\n",
    "\n",
    "1: `i = 6`, `arr[i] = 2`. So: `counts = [0, 2, 4, 6, 6, 6, 7]`, `result = [0, 0, 0, 0, 2, 0, 0]`\n",
    "\n",
    "2: `i = 5`, `arr[i] = 6`. So: `counts = [0, 2, 4, 6, 6, 6, 6]`, `result = [0, 0, 0, 0, 2, 0, 6]`\n",
    "\n",
    "3: `i = 4`, `arr[i] = 1`. So: `counts = [0, 1, 4, 6, 6, 6, 6]`, `result = [0, 1, 0, 0, 2, 0, 6]`\n",
    "\n",
    "4: `i = 3`, `arr[i] = 2`. So: `counts = [0, 1, 3, 6, 6, 6, 6]`, `result = [0, 1, 0, 2, 2, 0, 6]`\n",
    "\n",
    "5: `i = 2`, `arr[i] = 1`. So: `counts = [0, 0, 3, 6, 6, 6, 6]`, `result = [1, 1, 0, 2, 2, 0, 6]`\n",
    "\n",
    "6: `i = 1`, `arr[i] = 2`. So: `counts = [0, 0, 2, 6, 6, 6, 6]`, `result = [1, 1, 2, 2, 2, 0, 6]`\n",
    "\n",
    "7: `i = 0`, `arr[i] = 3`. So: `counts = [0, 0, 2, 5, 6, 6, 6]`, `result = [1, 1, 2, 2, 2, 3, 6]`"
   ]
  },
  {
   "cell_type": "markdown",
   "metadata": {},
   "source": [
    "### Counting sort on objects"
   ]
  },
  {
   "cell_type": "code",
   "execution_count": 82,
   "metadata": {},
   "outputs": [
    {
     "name": "stdout",
     "output_type": "stream",
     "text": [
      "[Student('Rafael', 2),\n",
      " Student('Zane', 3),\n",
      " Student('Eric', 4),\n",
      " Student('Zoe', 4),\n",
      " Student('Whitley', 5),\n",
      " Student('Etta', 6),\n",
      " Student('Rowen', 6)]\n"
     ]
    }
   ],
   "source": [
    "class Student:\n",
    "    def __init__(self, name, grade):\n",
    "        self.name = name\n",
    "        self.grade = grade\n",
    "\n",
    "    def __repr__(self):\n",
    "        return f\"Student({self.name!r}, {self.grade!r})\"\n",
    "\n",
    "arr = [\n",
    "    Student(\"Rafael\", 2),\n",
    "    Student(\"Etta\", 6),\n",
    "    Student(\"Zane\", 3),\n",
    "    Student(\"Eric\", 4),\n",
    "    Student(\"Whitley\", 5),\n",
    "    Student(\"Rowen\", 6),\n",
    "    Student(\"Zoe\", 4),\n",
    "]\n",
    "\n",
    "# Sorting by grade\n",
    "\n",
    "N = len(arr)\n",
    "K = max(student.grade for student in arr) + 1\n",
    "\n",
    "output = [0] * N\n",
    "count = [0] * K\n",
    "\n",
    "# (1)\n",
    "for i in range(N):\n",
    "    key = arr[i].grade\n",
    "\n",
    "    count[key] += 1\n",
    "\n",
    "# (2)\n",
    "for i in range(1, K):\n",
    "    count[i] += count[i - 1]\n",
    "\n",
    "# (3)\n",
    "for i in reversed(range(N)):\n",
    "    key = arr[i].grade\n",
    "\n",
    "    output[count[key] - 1] = arr[i]\n",
    "    count[key] -= 1\n",
    "\n",
    "for i in range(N):\n",
    "    arr[i] = output[i]\n",
    "\n",
    "from pprint import pprint\n",
    "pprint(arr)"
   ]
  },
  {
   "cell_type": "markdown",
   "metadata": {},
   "source": [
    "## Sorting stability"
   ]
  },
  {
   "cell_type": "markdown",
   "metadata": {},
   "source": [
    "### Unstable sort"
   ]
  },
  {
   "cell_type": "code",
   "execution_count": 83,
   "metadata": {},
   "outputs": [
    {
     "name": "stdout",
     "output_type": "stream",
     "text": [
      "[Student('Rafael', 2),\n",
      " Student('Zane', 3),\n",
      " Student('Eric', 4),\n",
      " Student('Zoe', 4),\n",
      " Student('Whitley', 5),\n",
      " Student('Rowen', 6),\n",
      " Student('Etta', 6)]\n",
      "\n",
      "Notice that Etta and Rowen are swapped\n"
     ]
    }
   ],
   "source": [
    "class Student:\n",
    "    def __init__(self, name, grade):\n",
    "        self.name = name\n",
    "        self.grade = grade\n",
    "\n",
    "    def __repr__(self):\n",
    "        return f\"Student({self.name!r}, {self.grade!r})\"\n",
    "\n",
    "arr = [\n",
    "    Student(\"Rafael\", 2),\n",
    "    Student(\"Etta\", 6),\n",
    "    Student(\"Zane\", 3),\n",
    "    Student(\"Eric\", 4),\n",
    "    Student(\"Whitley\", 5),\n",
    "    Student(\"Rowen\", 6),\n",
    "    Student(\"Zoe\", 4),\n",
    "]\n",
    "\n",
    "# Selection sort\n",
    "for i in range(len(arr) - 1):\n",
    "    min_index = i\n",
    "\n",
    "    for j in range(i + 1, len(arr)):\n",
    "        if arr[j].grade < arr[min_index].grade:\n",
    "            min_index = j\n",
    "\n",
    "    arr[min_index], arr[i] = arr[i], arr[min_index]\n",
    "\n",
    "from pprint import pprint\n",
    "pprint(arr)\n",
    "\n",
    "print()\n",
    "print(\"Notice that Etta and Rowen are swapped\")"
   ]
  },
  {
   "cell_type": "markdown",
   "metadata": {},
   "source": [
    "### Sorting by multiple columns with a stable sort"
   ]
  },
  {
   "cell_type": "code",
   "execution_count": 84,
   "metadata": {},
   "outputs": [
    {
     "name": "stdout",
     "output_type": "stream",
     "text": [
      "[Student('Eric', 'Baker'),\n",
      " Student('Eric', 'Dickson'),\n",
      " Student('Etta', 'Atkins'),\n",
      " Student('Rafael', 'Green'),\n",
      " Student('Rowen', 'Pitts'),\n",
      " Student('Whitley', 'Kelley'),\n",
      " Student('Zane', 'Waller'),\n",
      " Student('Zoe', 'Lynch')]\n"
     ]
    }
   ],
   "source": [
    "class Student:\n",
    "    def __init__(self, first_name, last_name):\n",
    "        self.first_name = first_name\n",
    "        self.last_name = last_name\n",
    "\n",
    "    def __repr__(self):\n",
    "        return f\"Student({self.first_name!r}, {self.last_name!r})\"\n",
    "\n",
    "arr = [\n",
    "    Student(\"Rafael\", \"Green\"),\n",
    "    Student(\"Eric\", \"Dickson\"),\n",
    "    Student(\"Zane\", \"Waller\"),\n",
    "    Student(\"Eric\", \"Baker\"),\n",
    "    Student(\"Etta\", \"Atkins\"),\n",
    "    Student(\"Whitley\", \"Kelley\"),\n",
    "    Student(\"Rowen\", \"Pitts\"),\n",
    "    Student(\"Zoe\", \"Lynch\"),\n",
    "]\n",
    "\n",
    "import operator\n",
    "\n",
    "# If we want to sort first by first name, then by last name (if the first name matches),\n",
    "# we can sort multiple times in the reverse order (first sort by last name, then by first name)\n",
    "# Why: we get the items sorted by last name. Then, we sort by first name and if any of the first\n",
    "# names match, the stable sorting algorithm will preserve their original order. But, we already\n",
    "# sorted by last name, so the \"original order\" is the sorted order by last name.\n",
    "arr.sort(key=operator.attrgetter(\"last_name\"))\n",
    "arr.sort(key=operator.attrgetter(\"first_name\"))\n",
    "\n",
    "from pprint import pprint\n",
    "pprint(arr)"
   ]
  }
 ],
 "metadata": {
  "kernelspec": {
   "display_name": "Python 3",
   "language": "python",
   "name": "python3"
  },
  "language_info": {
   "codemirror_mode": {
    "name": "ipython",
    "version": 3
   },
   "file_extension": ".py",
   "mimetype": "text/x-python",
   "name": "python",
   "nbconvert_exporter": "python",
   "pygments_lexer": "ipython3",
   "version": "3.10.11"
  }
 },
 "nbformat": 4,
 "nbformat_minor": 2
}
