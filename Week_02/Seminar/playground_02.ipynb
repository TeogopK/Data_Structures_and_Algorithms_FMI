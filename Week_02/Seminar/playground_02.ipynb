{
 "cells": [
  {
   "cell_type": "markdown",
   "metadata": {},
   "source": [
    "## **Python code playground for SDA sem 2**"
   ]
  },
  {
   "cell_type": "markdown",
   "metadata": {},
   "source": [
    "### **Bubble sort**"
   ]
  },
  {
   "cell_type": "markdown",
   "metadata": {},
   "source": [
    "Time complexity: *O(N<sup>2</sup>)*"
   ]
  },
  {
   "cell_type": "code",
   "execution_count": 1,
   "metadata": {},
   "outputs": [
    {
     "name": "stdout",
     "output_type": "stream",
     "text": [
      "[1, 2, 3, 4, 5, 6, 7, 8, 9]\n"
     ]
    }
   ],
   "source": [
    "arr = [9, 4, 3, 2, 6, 7, 1, 8, 5]\n",
    "N = len(arr)\n",
    "\n",
    "for i in range(N - 1):\n",
    "    for j in range(0, N - 1 - i):\n",
    "        if arr[j] > arr[j + 1]:\n",
    "            arr[j], arr[j + 1] = arr[j + 1], arr[j]\n",
    "\n",
    "print(arr)  # [1, 2, 3, 4, 5, 6, 7, 8, 9]"
   ]
  },
  {
   "cell_type": "markdown",
   "metadata": {},
   "source": [
    "After the first iteration the biggest number is in the right place. On the next iteration - the second biggest and so on...\n",
    "\n",
    "Verbose variant:"
   ]
  },
  {
   "cell_type": "code",
   "execution_count": 2,
   "metadata": {},
   "outputs": [
    {
     "name": "stdout",
     "output_type": "stream",
     "text": [
      "[9, 4, 3, 2, 6, 7, 1, 8, 5]\n",
      "[4, 9, 3, 2, 6, 7, 1, 8, 5]\n",
      "[4, 3, 9, 2, 6, 7, 1, 8, 5]\n",
      "[4, 3, 2, 9, 6, 7, 1, 8, 5]\n",
      "[4, 3, 2, 6, 9, 7, 1, 8, 5]\n",
      "[4, 3, 2, 6, 7, 9, 1, 8, 5]\n",
      "[4, 3, 2, 6, 7, 1, 9, 8, 5]\n",
      "[4, 3, 2, 6, 7, 1, 8, 9, 5]\n",
      "[4, 3, 2, 6, 7, 1, 8, 5, 9]\n",
      "End of iteration 0.\n",
      "[3, 4, 2, 6, 7, 1, 8, 5, 9]\n",
      "[3, 2, 4, 6, 7, 1, 8, 5, 9]\n",
      "[3, 2, 4, 6, 1, 7, 8, 5, 9]\n",
      "[3, 2, 4, 6, 1, 7, 5, 8, 9]\n",
      "End of iteration 1.\n",
      "[2, 3, 4, 6, 1, 7, 5, 8, 9]\n",
      "[2, 3, 4, 1, 6, 7, 5, 8, 9]\n",
      "[2, 3, 4, 1, 6, 5, 7, 8, 9]\n",
      "End of iteration 2.\n",
      "[2, 3, 1, 4, 6, 5, 7, 8, 9]\n",
      "[2, 3, 1, 4, 5, 6, 7, 8, 9]\n",
      "End of iteration 3.\n",
      "[2, 1, 3, 4, 5, 6, 7, 8, 9]\n",
      "End of iteration 4.\n",
      "[1, 2, 3, 4, 5, 6, 7, 8, 9]\n",
      "End of iteration 5.\n",
      "End of iteration 6.\n",
      "End of iteration 7.\n"
     ]
    }
   ],
   "source": [
    "arr = [9, 4, 3, 2, 6, 7, 1, 8, 5]\n",
    "N = len(arr)\n",
    "\n",
    "print(arr)\n",
    "\n",
    "for i in range(N - 1):\n",
    "    for j in range(0, N - 1 - i):\n",
    "        if arr[j] > arr[j + 1]:\n",
    "            arr[j], arr[j + 1] = arr[j + 1], arr[j]\n",
    "            print(arr)\n",
    "    print(f\"End of iteration {i}.\")"
   ]
  },
  {
   "cell_type": "markdown",
   "metadata": {},
   "source": [
    "Iterations without swaps, when the list is sorted, can be skipped using a flag. This is known as *Optimized bubble sort*:"
   ]
  },
  {
   "cell_type": "code",
   "execution_count": 3,
   "metadata": {},
   "outputs": [
    {
     "name": "stdout",
     "output_type": "stream",
     "text": [
      "[9, 4, 3, 2, 6, 7, 1, 8, 5]\n",
      "[4, 9, 3, 2, 6, 7, 1, 8, 5]\n",
      "[4, 3, 9, 2, 6, 7, 1, 8, 5]\n",
      "[4, 3, 2, 9, 6, 7, 1, 8, 5]\n",
      "[4, 3, 2, 6, 9, 7, 1, 8, 5]\n",
      "[4, 3, 2, 6, 7, 9, 1, 8, 5]\n",
      "[4, 3, 2, 6, 7, 1, 9, 8, 5]\n",
      "[4, 3, 2, 6, 7, 1, 8, 9, 5]\n",
      "[4, 3, 2, 6, 7, 1, 8, 5, 9]\n",
      "End of iteration 0.\n",
      "[3, 4, 2, 6, 7, 1, 8, 5, 9]\n",
      "[3, 2, 4, 6, 7, 1, 8, 5, 9]\n",
      "[3, 2, 4, 6, 1, 7, 8, 5, 9]\n",
      "[3, 2, 4, 6, 1, 7, 5, 8, 9]\n",
      "End of iteration 1.\n",
      "[2, 3, 4, 6, 1, 7, 5, 8, 9]\n",
      "[2, 3, 4, 1, 6, 7, 5, 8, 9]\n",
      "[2, 3, 4, 1, 6, 5, 7, 8, 9]\n",
      "End of iteration 2.\n",
      "[2, 3, 1, 4, 6, 5, 7, 8, 9]\n",
      "[2, 3, 1, 4, 5, 6, 7, 8, 9]\n",
      "End of iteration 3.\n",
      "[2, 1, 3, 4, 5, 6, 7, 8, 9]\n",
      "End of iteration 4.\n",
      "[1, 2, 3, 4, 5, 6, 7, 8, 9]\n",
      "End of iteration 5.\n"
     ]
    }
   ],
   "source": [
    "arr = [9, 4, 3, 2, 6, 7, 1, 8, 5]\n",
    "N = len(arr)\n",
    "\n",
    "print(arr)\n",
    "\n",
    "for i in range(N - 1):\n",
    "    swapped = False\n",
    "\n",
    "    for j in range(0, N - 1 - i):\n",
    "        if arr[j] > arr[j + 1]:\n",
    "            arr[j], arr[j + 1] = arr[j + 1], arr[j]\n",
    "            swapped = True\n",
    "            print(arr)\n",
    "\n",
    "    if not swapped:\n",
    "        break\n",
    "\n",
    "    print(f\"End of iteration {i}.\")"
   ]
  },
  {
   "cell_type": "markdown",
   "metadata": {},
   "source": [
    "The worst case number of swaps is *N * (N - 1) / 2*:"
   ]
  },
  {
   "cell_type": "code",
   "execution_count": 4,
   "metadata": {},
   "outputs": [
    {
     "name": "stdout",
     "output_type": "stream",
     "text": [
      "[50, 49, 48, 47, 46, 45, 44, 43, 42, 41, 40, 39, 38, 37, 36, 35, 34, 33, 32, 31, 30, 29, 28, 27, 26, 25, 24, 23, 22, 21, 20, 19, 18, 17, 16, 15, 14, 13, 12, 11, 10, 9, 8, 7, 6, 5, 4, 3, 2, 1]\n",
      "[1, 2, 3, 4, 5, 6, 7, 8, 9, 10, 11, 12, 13, 14, 15, 16, 17, 18, 19, 20, 21, 22, 23, 24, 25, 26, 27, 28, 29, 30, 31, 32, 33, 34, 35, 36, 37, 38, 39, 40, 41, 42, 43, 44, 45, 46, 47, 48, 49, 50]\n",
      "50 1225\n",
      "True\n"
     ]
    }
   ],
   "source": [
    "N = 50\n",
    "arr = [i for i in range(N, 0, -1)]\n",
    "\n",
    "print(arr)\n",
    "swaps = 0\n",
    "\n",
    "for i in range(N - 1):\n",
    "    for j in range(0, N - 1 - i):\n",
    "        if arr[j] > arr[j + 1]:\n",
    "            arr[j], arr[j + 1] = arr[j + 1], arr[j]\n",
    "            swaps += 1\n",
    "\n",
    "print(arr)\n",
    "print(N, swaps)\n",
    "print(N * (N - 1) / 2 == swaps)"
   ]
  },
  {
   "cell_type": "markdown",
   "metadata": {},
   "source": [
    "Bubble sort **is a** stable sorting algorithm. Elements that are equal keep their relative positions after the sort."
   ]
  },
  {
   "cell_type": "code",
   "execution_count": 5,
   "metadata": {},
   "outputs": [
    {
     "name": "stdout",
     "output_type": "stream",
     "text": [
      "[(2, 'woman'), (1, 'a'), (1, 'b'), (2, 'man'), (1, 'c')]\n",
      "[(1, 'a'), (1, 'b'), (1, 'c'), (2, 'woman'), (2, 'man')]\n"
     ]
    }
   ],
   "source": [
    "arr = [(2, \"woman\"), (1, \"a\"), (1, \"b\"), (2, \"man\"), (1, \"c\")]\n",
    "N = len(arr)\n",
    "\n",
    "print(arr)\n",
    "\n",
    "for i in range(N - 1):\n",
    "    for j in range(0, N - 1 - i):\n",
    "        if arr[j][0] > arr[j + 1][0]:  # only compare the int values\n",
    "            arr[j], arr[j + 1] = arr[j + 1], arr[j]\n",
    "\n",
    "print(arr)"
   ]
  },
  {
   "cell_type": "markdown",
   "metadata": {},
   "source": [
    "## **Selection sort**"
   ]
  },
  {
   "cell_type": "markdown",
   "metadata": {},
   "source": [
    "Time complexity: *O(N<sup>2</sup>)*"
   ]
  },
  {
   "cell_type": "code",
   "execution_count": 6,
   "metadata": {},
   "outputs": [
    {
     "name": "stdout",
     "output_type": "stream",
     "text": [
      "[1, 2, 3, 4, 5, 6, 7, 8, 9]\n"
     ]
    }
   ],
   "source": [
    "arr = [9, 4, 3, 2, 6, 7, 1, 8, 5]\n",
    "N = len(arr)\n",
    "\n",
    "for i in range(N - 1):\n",
    "    min_index = i\n",
    "\n",
    "    for j in range(i + 1, N):\n",
    "        if arr[j] < arr[min_index]:\n",
    "            min_index = j\n",
    "\n",
    "    arr[min_index], arr[i] = arr[i], arr[min_index]\n",
    "\n",
    "print(arr)  # [1, 2, 3, 4, 5, 6, 7, 8, 9]"
   ]
  },
  {
   "cell_type": "markdown",
   "metadata": {},
   "source": [
    "After each iteration the smallest element is in the right place.\n",
    "\n",
    "Verbose variant:"
   ]
  },
  {
   "cell_type": "code",
   "execution_count": 7,
   "metadata": {},
   "outputs": [
    {
     "name": "stdout",
     "output_type": "stream",
     "text": [
      "[9, 4, 3, 2, 6, 7, 1, 8, 5]\n",
      "[1, 4, 3, 2, 6, 7, 9, 8, 5]\n",
      "[1, 2, 3, 4, 6, 7, 9, 8, 5]\n",
      "[1, 2, 3, 4, 6, 7, 9, 8, 5]\n",
      "[1, 2, 3, 4, 6, 7, 9, 8, 5]\n",
      "[1, 2, 3, 4, 5, 7, 9, 8, 6]\n",
      "[1, 2, 3, 4, 5, 6, 9, 8, 7]\n",
      "[1, 2, 3, 4, 5, 6, 7, 8, 9]\n",
      "[1, 2, 3, 4, 5, 6, 7, 8, 9]\n"
     ]
    }
   ],
   "source": [
    "arr = [9, 4, 3, 2, 6, 7, 1, 8, 5]\n",
    "N = len(arr)\n",
    "\n",
    "print(arr)\n",
    "\n",
    "for i in range(N - 1):\n",
    "    min_index = i\n",
    "\n",
    "    for j in range(i + 1, N):\n",
    "        if arr[j] < arr[min_index]:\n",
    "            min_index = j\n",
    "\n",
    "    arr[min_index], arr[i] = arr[i], arr[min_index]\n",
    "    print(arr)"
   ]
  },
  {
   "cell_type": "markdown",
   "metadata": {},
   "source": [
    "Note that the algorithm always does *N - 1* swaps. If check is added to avoid swapping when the first element was the smallest, then only in the worst case there will be *N - 1* swaps."
   ]
  },
  {
   "cell_type": "code",
   "execution_count": 8,
   "metadata": {},
   "outputs": [
    {
     "name": "stdout",
     "output_type": "stream",
     "text": [
      "[10, 1, 2, 3, 4, 5, 6, 7, 8, 9]\n",
      "[1, 2, 3, 4, 5, 6, 7, 8, 9, 10]\n",
      "10 9\n",
      "True\n"
     ]
    }
   ],
   "source": [
    "N = 10\n",
    "# Note how the worst case for swaps looks like :)\n",
    "arr = [N] + [i for i in range(1, N)]\n",
    "\n",
    "print(arr)\n",
    "swaps = 0\n",
    "\n",
    "for i in range(N - 1):\n",
    "    min_index = i\n",
    "\n",
    "    for j in range(i + 1, N):\n",
    "        if arr[j] < arr[min_index]:\n",
    "            min_index = j\n",
    "\n",
    "    if min_index != i:\n",
    "        arr[min_index], arr[i] = arr[i], arr[min_index]\n",
    "        swaps += 1\n",
    "\n",
    "print(arr)\n",
    "print(N, swaps)\n",
    "print(N - 1 == swaps)"
   ]
  },
  {
   "cell_type": "markdown",
   "metadata": {},
   "source": [
    "Selection sort **is not** stable - it swaps non-adjacent elements:"
   ]
  },
  {
   "cell_type": "code",
   "execution_count": 9,
   "metadata": {},
   "outputs": [
    {
     "name": "stdout",
     "output_type": "stream",
     "text": [
      "[(2, 'woman'), (1, 'a'), (1, 'b'), (2, 'man'), (1, 'c')]\n",
      "[(2, 'woman'), (1, 'a'), (1, 'b'), (2, 'man'), (1, 'c')]\n",
      "[(1, 'a'), (2, 'woman'), (1, 'b'), (2, 'man'), (1, 'c')]\n",
      "[(1, 'a'), (1, 'b'), (2, 'woman'), (2, 'man'), (1, 'c')]\n",
      "[(1, 'a'), (1, 'b'), (1, 'c'), (2, 'man'), (2, 'woman')]\n",
      "[(1, 'a'), (1, 'b'), (1, 'c'), (2, 'man'), (2, 'woman')]\n"
     ]
    }
   ],
   "source": [
    "arr = [(2, \"woman\"), (1, \"a\"), (1, \"b\"), (2, \"man\"), (1, \"c\")]\n",
    "N = len(arr)\n",
    "\n",
    "print(arr)\n",
    "\n",
    "for i in range(N - 1):\n",
    "    min_index = i\n",
    "\n",
    "    for j in range(i + 1, N):\n",
    "        if arr[j][0] < arr[min_index][0]:  # only compare the int values\n",
    "            min_index = j\n",
    "\n",
    "    print(arr)\n",
    "    arr[min_index], arr[i] = arr[i], arr[min_index]\n",
    "\n",
    "print(arr)"
   ]
  },
  {
   "cell_type": "markdown",
   "metadata": {},
   "source": [
    "## **Insertion sort**"
   ]
  },
  {
   "cell_type": "markdown",
   "metadata": {},
   "source": [
    "Time complexity: *O(N<sup>2</sup>)*"
   ]
  },
  {
   "cell_type": "code",
   "execution_count": 10,
   "metadata": {},
   "outputs": [
    {
     "name": "stdout",
     "output_type": "stream",
     "text": [
      "[1, 2, 3, 4, 5, 6, 7, 8, 9]\n"
     ]
    }
   ],
   "source": [
    "arr = [9, 4, 3, 2, 6, 7, 1, 8, 5]\n",
    "N = len(arr)\n",
    "\n",
    "for i in range(1, N):\n",
    "    key = arr[i]\n",
    "\n",
    "    j = i - 1\n",
    "    while j >= 0 and key < arr[j]:\n",
    "        arr[j + 1] = arr[j]\n",
    "        j -= 1\n",
    "\n",
    "    arr[j + 1] = key\n",
    "\n",
    "print(arr)  # [1, 2, 3, 4, 5, 6, 7, 8, 9]"
   ]
  },
  {
   "cell_type": "markdown",
   "metadata": {},
   "source": [
    "Verbose version:"
   ]
  },
  {
   "cell_type": "code",
   "execution_count": 11,
   "metadata": {},
   "outputs": [
    {
     "name": "stdout",
     "output_type": "stream",
     "text": [
      "2 - key [1, 2, 3, 4, 5, 6, 7, 8, 9]\n",
      "put key [1, 2, 3, 4, 5, 6, 7, 8, 9] \n",
      "\n",
      "3 - key [1, 2, 3, 4, 5, 6, 7, 8, 9]\n",
      "put key [1, 2, 3, 4, 5, 6, 7, 8, 9] \n",
      "\n",
      "4 - key [1, 2, 3, 4, 5, 6, 7, 8, 9]\n",
      "put key [1, 2, 3, 4, 5, 6, 7, 8, 9] \n",
      "\n",
      "5 - key [1, 2, 3, 4, 5, 6, 7, 8, 9]\n",
      "put key [1, 2, 3, 4, 5, 6, 7, 8, 9] \n",
      "\n",
      "6 - key [1, 2, 3, 4, 5, 6, 7, 8, 9]\n",
      "put key [1, 2, 3, 4, 5, 6, 7, 8, 9] \n",
      "\n",
      "7 - key [1, 2, 3, 4, 5, 6, 7, 8, 9]\n",
      "put key [1, 2, 3, 4, 5, 6, 7, 8, 9] \n",
      "\n",
      "8 - key [1, 2, 3, 4, 5, 6, 7, 8, 9]\n",
      "put key [1, 2, 3, 4, 5, 6, 7, 8, 9] \n",
      "\n",
      "9 - key [1, 2, 3, 4, 5, 6, 7, 8, 9]\n",
      "put key [1, 2, 3, 4, 5, 6, 7, 8, 9] \n",
      "\n",
      "[1, 2, 3, 4, 5, 6, 7, 8, 9]\n"
     ]
    }
   ],
   "source": [
    "arr = [i for i in range(1, 10)]\n",
    "N = len(arr)\n",
    "\n",
    "for i in range(1, N):\n",
    "    key = arr[i]\n",
    "    j = i - 1\n",
    "\n",
    "    print(f\"{key} - key\", arr)\n",
    "\n",
    "    while j >= 0 and key < arr[j]:\n",
    "        arr[j + 1] = arr[j]\n",
    "        j -= 1\n",
    "\n",
    "        print(\"   ->  \", arr)\n",
    "\n",
    "    arr[j + 1] = key\n",
    "    print(\"put key\", arr, \"\\n\")\n",
    "\n",
    "print(arr)  # [1, 2, 3, 4, 5, 6, 7, 8, 9]"
   ]
  },
  {
   "cell_type": "markdown",
   "metadata": {},
   "source": [
    "Insertion sort **is a** stable searching algorithm."
   ]
  },
  {
   "cell_type": "code",
   "execution_count": 12,
   "metadata": {},
   "outputs": [
    {
     "name": "stdout",
     "output_type": "stream",
     "text": [
      "[(2, 'woman'), (1, 'a'), (1, 'b'), (2, 'man'), (1, 'c')]\n",
      "[(1, 'a'), (2, 'woman'), (1, 'b'), (2, 'man'), (1, 'c')]\n",
      "[(1, 'b'), (1, 'a'), (2, 'woman'), (2, 'man'), (1, 'c')]\n",
      "[(1, 'b'), (1, 'a'), (2, 'man'), (2, 'woman'), (1, 'c')]\n",
      "[(1, 'c'), (1, 'b'), (1, 'a'), (2, 'man'), (2, 'woman')]\n",
      "[(1, 'c'), (1, 'b'), (1, 'a'), (2, 'man'), (2, 'woman')]\n"
     ]
    }
   ],
   "source": [
    "arr = [(2, \"woman\"), (1, \"a\"), (1, \"b\"), (2, \"man\"), (1, \"c\")]\n",
    "N = len(arr)\n",
    "\n",
    "print(arr)\n",
    "\n",
    "for i in range(1, N):\n",
    "    key = arr[i]\n",
    "\n",
    "    j = i - 1\n",
    "    while j >= 0 and key[0] <= arr[j][0]:  # only compare the int values\n",
    "        arr[j + 1] = arr[j]\n",
    "        j -= 1\n",
    "\n",
    "    arr[j + 1] = key\n",
    "    print(arr)\n",
    "\n",
    "print(arr)"
   ]
  },
  {
   "cell_type": "markdown",
   "metadata": {},
   "source": [
    "## **Merge sort**"
   ]
  },
  {
   "cell_type": "markdown",
   "metadata": {},
   "source": [
    "Time complexity: *O(NlogN)*"
   ]
  },
  {
   "cell_type": "code",
   "execution_count": 13,
   "metadata": {},
   "outputs": [
    {
     "name": "stdout",
     "output_type": "stream",
     "text": [
      "[1, 2, 3, 4, 5, 6, 7, 8, 9]\n"
     ]
    }
   ],
   "source": [
    "def merge(arr, left_arr, right_arr):\n",
    "    index = left = right = 0\n",
    "    left_size = len(left_arr)\n",
    "    right_size = len(right_arr)\n",
    "\n",
    "    while left < left_size and right < right_size:\n",
    "        if left_arr[left] <= right_arr[right]:\n",
    "            arr[index] = left_arr[left]\n",
    "            left += 1\n",
    "        else:\n",
    "            arr[index] = right_arr[right]\n",
    "            right += 1\n",
    "        index += 1\n",
    "\n",
    "    while left < left_size:\n",
    "        arr[index] = left_arr[left]\n",
    "        index += 1\n",
    "        left += 1\n",
    "\n",
    "    while right < right_size:\n",
    "        arr[index] = right_arr[right]\n",
    "        index += 1\n",
    "        right += 1\n",
    "\n",
    "\n",
    "def merge_sort(arr):\n",
    "    if len(arr) > 1:\n",
    "        middle = len(arr) // 2\n",
    "\n",
    "        left_arr = arr[:middle]\n",
    "        right_arr = arr[middle:]\n",
    "\n",
    "        merge_sort(left_arr)\n",
    "        merge_sort(right_arr)\n",
    "\n",
    "        merge(arr, left_arr, right_arr)\n",
    "\n",
    "\n",
    "arr = [9, 4, 3, 2, 6, 7, 1, 8, 5]\n",
    "\n",
    "merge_sort(arr)\n",
    "print(arr)  # [1, 2, 3, 4, 5, 6, 7, 8, 9]"
   ]
  },
  {
   "cell_type": "markdown",
   "metadata": {},
   "source": [
    "Verbose merge_sort function without the \"merge\" part - the *Divide and conquer* paradigm:"
   ]
  },
  {
   "cell_type": "code",
   "execution_count": 14,
   "metadata": {},
   "outputs": [
    {
     "name": "stdout",
     "output_type": "stream",
     "text": [
      "4 [9, 4, 3, 2] [6, 7, 1, 8, 5]\n",
      "2 [9, 4] [3, 2]\n",
      "1 [9] [4]\n",
      "1 [3] [2]\n",
      "2 [6, 7] [1, 8, 5]\n",
      "1 [6] [7]\n",
      "1 [1] [8, 5]\n",
      "1 [8] [5]\n",
      "[9, 4, 3, 2, 6, 7, 1, 8, 5]\n"
     ]
    }
   ],
   "source": [
    "def merge_sort(arr):\n",
    "    if len(arr) > 1:\n",
    "        middle = len(arr) // 2\n",
    "\n",
    "        left_arr = arr[:middle]\n",
    "        right_arr = arr[middle:]\n",
    "\n",
    "        print(middle, left_arr, right_arr)\n",
    "\n",
    "        merge_sort(left_arr)\n",
    "        merge_sort(right_arr)\n",
    "\n",
    "        pass\n",
    "\n",
    "\n",
    "arr = [9, 4, 3, 2, 6, 7, 1, 8, 5]\n",
    "\n",
    "merge_sort(arr)\n",
    "print(arr)"
   ]
  },
  {
   "cell_type": "markdown",
   "metadata": {},
   "source": [
    "Full verbose variant:"
   ]
  },
  {
   "cell_type": "code",
   "execution_count": 15,
   "metadata": {},
   "outputs": [
    {
     "name": "stdout",
     "output_type": "stream",
     "text": [
      "4 [9, 4, 3, 2] [6, 7, 1, 8, 5]\n",
      "2 [9, 4] [3, 2]\n",
      "1 [9] [4]\n",
      "Start of merging:  [9, 4] [9] [4]\n",
      "End of merging:  [4, 9] [9] [4]\n",
      "1 [3] [2]\n",
      "Start of merging:  [3, 2] [3] [2]\n",
      "End of merging:  [2, 3] [3] [2]\n",
      "Start of merging:  [9, 4, 3, 2] [4, 9] [2, 3]\n",
      "End of merging:  [2, 3, 4, 9] [4, 9] [2, 3]\n",
      "2 [6, 7] [1, 8, 5]\n",
      "1 [6] [7]\n",
      "Start of merging:  [6, 7] [6] [7]\n",
      "End of merging:  [6, 7] [6] [7]\n",
      "1 [1] [8, 5]\n",
      "1 [8] [5]\n",
      "Start of merging:  [8, 5] [8] [5]\n",
      "End of merging:  [5, 8] [8] [5]\n",
      "Start of merging:  [1, 8, 5] [1] [5, 8]\n",
      "End of merging:  [1, 5, 8] [1] [5, 8]\n",
      "Start of merging:  [6, 7, 1, 8, 5] [6, 7] [1, 5, 8]\n",
      "End of merging:  [1, 5, 6, 7, 8] [6, 7] [1, 5, 8]\n",
      "Start of merging:  [9, 4, 3, 2, 6, 7, 1, 8, 5] [2, 3, 4, 9] [1, 5, 6, 7, 8]\n",
      "End of merging:  [1, 2, 3, 4, 5, 6, 7, 8, 9] [2, 3, 4, 9] [1, 5, 6, 7, 8]\n",
      "[1, 2, 3, 4, 5, 6, 7, 8, 9]\n"
     ]
    }
   ],
   "source": [
    "def merge(arr, left_arr, right_arr):\n",
    "    print(\"Start of merging: \", arr, left_arr, right_arr)\n",
    "\n",
    "    index = left = right = 0\n",
    "    left_size = len(left_arr)\n",
    "    right_size = len(right_arr)\n",
    "\n",
    "    while left < left_size and right < right_size:\n",
    "        if left_arr[left] <= right_arr[right]:\n",
    "            arr[index] = left_arr[left]\n",
    "            left += 1\n",
    "        else:\n",
    "            arr[index] = right_arr[right]\n",
    "            right += 1\n",
    "        index += 1\n",
    "\n",
    "    while left < left_size:\n",
    "        arr[index] = left_arr[left]\n",
    "        index += 1\n",
    "        left += 1\n",
    "\n",
    "    while right < right_size:\n",
    "        arr[index] = right_arr[right]\n",
    "        index += 1\n",
    "        right += 1\n",
    "\n",
    "    print(\"End of merging: \", arr, left_arr, right_arr)\n",
    "\n",
    "\n",
    "def merge_sort(arr):\n",
    "    if len(arr) > 1:\n",
    "        middle = len(arr) // 2\n",
    "\n",
    "        left_arr = arr[:middle]\n",
    "        right_arr = arr[middle:]\n",
    "\n",
    "        print(middle, left_arr, right_arr)\n",
    "\n",
    "        merge_sort(left_arr)\n",
    "        merge_sort(right_arr)\n",
    "\n",
    "        merge(arr, left_arr, right_arr)\n",
    "\n",
    "\n",
    "arr = [9, 4, 3, 2, 6, 7, 1, 8, 5]\n",
    "\n",
    "merge_sort(arr)\n",
    "print(arr)  # [1, 2, 3, 4, 5, 6, 7, 8, 9]"
   ]
  },
  {
   "cell_type": "markdown",
   "metadata": {},
   "source": [
    "Number of stages for merging -> *logN*. All merges on each level cost in total *N* steps:"
   ]
  },
  {
   "cell_type": "code",
   "execution_count": 16,
   "metadata": {},
   "outputs": [
    {
     "name": "stdout",
     "output_type": "stream",
     "text": [
      "Size of array: 1024 Number of levels:  10\n"
     ]
    }
   ],
   "source": [
    "levels = 0\n",
    "\n",
    "\n",
    "def merge_sort_straight(arr):\n",
    "    global levels\n",
    "\n",
    "    if len(arr) > 1:\n",
    "        levels += 1\n",
    "\n",
    "        middle = len(arr) // 2\n",
    "\n",
    "        left_arr = arr[:middle]\n",
    "        right_arr = arr[middle:]\n",
    "\n",
    "        merge_sort_straight(left_arr)\n",
    "\n",
    "\n",
    "N = 1024\n",
    "arr = [i for i in range(N)]\n",
    "\n",
    "merge_sort_straight(arr)\n",
    "print(\"Size of array:\", N, \"Number of levels: \", levels)"
   ]
  },
  {
   "cell_type": "markdown",
   "metadata": {},
   "source": [
    "Merge sort **is a** stable sorting algorithm.\n",
    "\n",
    "Note that the equal sign in the if statement is the reason for it.\n"
   ]
  },
  {
   "cell_type": "code",
   "execution_count": 17,
   "metadata": {},
   "outputs": [
    {
     "name": "stdout",
     "output_type": "stream",
     "text": [
      "[(1, 'a'), (1, 'b'), (1, 'c'), (2, 'woman'), (2, 'man')]\n"
     ]
    }
   ],
   "source": [
    "def merge(arr, left_arr, right_arr):\n",
    "    index = left = right = 0\n",
    "    left_size = len(left_arr)\n",
    "    right_size = len(right_arr)\n",
    "\n",
    "    while left < left_size and right < right_size:\n",
    "        # Note the equal sign:\n",
    "        if left_arr[left][0] <= right_arr[right][0]:  # Comparing only the int\n",
    "            arr[index] = left_arr[left]\n",
    "            left += 1\n",
    "        else:\n",
    "            arr[index] = right_arr[right]\n",
    "            right += 1\n",
    "        index += 1\n",
    "\n",
    "    while left < left_size:\n",
    "        arr[index] = left_arr[left]\n",
    "        index += 1\n",
    "        left += 1\n",
    "\n",
    "    while right < right_size:\n",
    "        arr[index] = right_arr[right]\n",
    "        index += 1\n",
    "        right += 1\n",
    "\n",
    "\n",
    "def merge_sort(arr):\n",
    "    if len(arr) > 1:\n",
    "        middle = len(arr) // 2\n",
    "\n",
    "        left_arr = arr[:middle]\n",
    "        right_arr = arr[middle:]\n",
    "\n",
    "        merge_sort(left_arr)\n",
    "        merge_sort(right_arr)\n",
    "\n",
    "        merge(arr, left_arr, right_arr)\n",
    "\n",
    "\n",
    "arr = [(2, \"woman\"), (1, \"a\"), (1, \"b\"), (2, \"man\"), (1, \"c\")]\n",
    "merge_sort(arr)\n",
    "print(arr)"
   ]
  },
  {
   "cell_type": "markdown",
   "metadata": {},
   "source": [
    "## **Quick sort**"
   ]
  },
  {
   "cell_type": "markdown",
   "metadata": {},
   "source": [
    "Average time complexity: *O(NlogN)*\n",
    "\n",
    "Worst time complexity: *O(N<sup>2</sup>)*"
   ]
  },
  {
   "cell_type": "code",
   "execution_count": 18,
   "metadata": {},
   "outputs": [
    {
     "name": "stdout",
     "output_type": "stream",
     "text": [
      "[1, 2, 3, 4, 5, 6, 7, 8, 9]\n"
     ]
    }
   ],
   "source": [
    "def partition(arr, low, high):\n",
    "    pivot = arr[high]\n",
    "    i = low\n",
    "\n",
    "    for j in range(low, high):\n",
    "        if arr[j] <= pivot:\n",
    "            arr[i], arr[j] = arr[j], arr[i]\n",
    "            i += 1\n",
    "\n",
    "    arr[i], arr[high] = arr[high], arr[i]\n",
    "\n",
    "    return i\n",
    "\n",
    "\n",
    "def quick_sort(arr, low, high):\n",
    "    if low < high:\n",
    "        pi = partition(arr, low, high)\n",
    "\n",
    "        quick_sort(arr, low, pi - 1)\n",
    "        quick_sort(arr, pi + 1, high)\n",
    "\n",
    "\n",
    "arr = [9, 4, 3, 2, 6, 7, 1, 8, 5]\n",
    "N = len(arr)\n",
    "\n",
    "quick_sort(arr, 0, N - 1)\n",
    "print(arr)  # [1, 2, 3, 4, 5, 6, 7, 8, 9]"
   ]
  },
  {
   "cell_type": "markdown",
   "metadata": {},
   "source": [
    "Verbose variant:"
   ]
  },
  {
   "cell_type": "code",
   "execution_count": 19,
   "metadata": {},
   "outputs": [
    {
     "name": "stdout",
     "output_type": "stream",
     "text": [
      "New pivot number: 100, low: 0, high: 10\n",
      "Before:  [9, 99, 4, 3, 2, 6, 7, 1, 8, 5, 100]\n",
      "Swap: 9 9 [9, 99, 4, 3, 2, 6, 7, 1, 8, 5, 100]\n",
      "Swap: 99 99 [9, 99, 4, 3, 2, 6, 7, 1, 8, 5, 100]\n",
      "Swap: 4 4 [9, 99, 4, 3, 2, 6, 7, 1, 8, 5, 100]\n",
      "Swap: 3 3 [9, 99, 4, 3, 2, 6, 7, 1, 8, 5, 100]\n",
      "Swap: 2 2 [9, 99, 4, 3, 2, 6, 7, 1, 8, 5, 100]\n",
      "Swap: 6 6 [9, 99, 4, 3, 2, 6, 7, 1, 8, 5, 100]\n",
      "Swap: 7 7 [9, 99, 4, 3, 2, 6, 7, 1, 8, 5, 100]\n",
      "Swap: 1 1 [9, 99, 4, 3, 2, 6, 7, 1, 8, 5, 100]\n",
      "Swap: 8 8 [9, 99, 4, 3, 2, 6, 7, 1, 8, 5, 100]\n",
      "Swap: 5 5 [9, 99, 4, 3, 2, 6, 7, 1, 8, 5, 100]\n",
      "Last Swap: 100 100 [9, 99, 4, 3, 2, 6, 7, 1, 8, 5, 100]\n",
      "After: [9, 99, 4, 3, 2, 6, 7, 1, 8, 5, 100] \n",
      "\n",
      "New pivot number: 5, low: 0, high: 9\n",
      "Before:  [9, 99, 4, 3, 2, 6, 7, 1, 8, 5]\n",
      "Swap: 4 9 [4, 99, 9, 3, 2, 6, 7, 1, 8, 5]\n",
      "Swap: 3 99 [4, 3, 9, 99, 2, 6, 7, 1, 8, 5]\n",
      "Swap: 2 9 [4, 3, 2, 99, 9, 6, 7, 1, 8, 5]\n",
      "Swap: 1 99 [4, 3, 2, 1, 9, 6, 7, 99, 8, 5]\n",
      "Last Swap: 5 9 [4, 3, 2, 1, 5, 6, 7, 99, 8, 9]\n",
      "After: [4, 3, 2, 1, 5, 6, 7, 99, 8, 9] \n",
      "\n",
      "New pivot number: 1, low: 0, high: 3\n",
      "Before:  [4, 3, 2, 1]\n",
      "Last Swap: 1 4 [1, 3, 2, 4]\n",
      "After: [1, 3, 2, 4] \n",
      "\n",
      "New pivot number: 4, low: 1, high: 3\n",
      "Before:  [3, 2, 4]\n",
      "Swap: 3 3 [3, 2, 4]\n",
      "Swap: 2 2 [3, 2, 4]\n",
      "Last Swap: 4 4 [3, 2, 4]\n",
      "After: [3, 2, 4] \n",
      "\n",
      "New pivot number: 2, low: 1, high: 2\n",
      "Before:  [3, 2]\n",
      "Last Swap: 2 3 [2, 3]\n",
      "After: [2, 3] \n",
      "\n",
      "New pivot number: 9, low: 5, high: 9\n",
      "Before:  [6, 7, 99, 8, 9]\n",
      "Swap: 6 6 [6, 7, 99, 8, 9]\n",
      "Swap: 7 7 [6, 7, 99, 8, 9]\n",
      "Swap: 8 99 [6, 7, 8, 99, 9]\n",
      "Last Swap: 9 99 [6, 7, 8, 9, 99]\n",
      "After: [6, 7, 8, 9, 99] \n",
      "\n",
      "New pivot number: 8, low: 5, high: 7\n",
      "Before:  [6, 7, 8]\n",
      "Swap: 6 6 [6, 7, 8]\n",
      "Swap: 7 7 [6, 7, 8]\n",
      "Last Swap: 8 8 [6, 7, 8]\n",
      "After: [6, 7, 8] \n",
      "\n",
      "New pivot number: 7, low: 5, high: 6\n",
      "Before:  [6, 7]\n",
      "Swap: 6 6 [6, 7]\n",
      "Last Swap: 7 7 [6, 7]\n",
      "After: [6, 7] \n",
      "\n",
      "[1, 2, 3, 4, 5, 6, 7, 8, 9, 99, 100]\n"
     ]
    }
   ],
   "source": [
    "def partition(arr, low, high):\n",
    "    pivot = arr[high]\n",
    "    i = low\n",
    "\n",
    "    print(f\"New pivot number: {pivot}, low: {low}, high: {high}\")\n",
    "    print(\"Before: \", arr[low : high + 1])\n",
    "\n",
    "    for j in range(low, high):\n",
    "        if arr[j] <= pivot:\n",
    "            arr[i], arr[j] = arr[j], arr[i]\n",
    "            print(\"Swap:\", arr[i], arr[j], arr[low : high + 1])\n",
    "            i += 1\n",
    "\n",
    "    arr[i], arr[high] = arr[high], arr[i]\n",
    "    print(\"Last Swap:\", arr[i], arr[high], arr[low : high + 1])\n",
    "\n",
    "    print(\"After:\", arr[low : high + 1], \"\\n\")\n",
    "\n",
    "    return i\n",
    "\n",
    "\n",
    "def quick_sort(arr, low, high):\n",
    "    if low < high:\n",
    "        pi = partition(arr, low, high)\n",
    "\n",
    "        quick_sort(arr, low, pi - 1)\n",
    "        quick_sort(arr, pi + 1, high)\n",
    "\n",
    "\n",
    "arr = [9, 99, 4, 3, 2, 6, 7, 1, 8, 5, 100]\n",
    "N = len(arr)\n",
    "\n",
    "quick_sort(arr, 0, N - 1)\n",
    "print(arr)"
   ]
  },
  {
   "cell_type": "markdown",
   "metadata": {},
   "source": [
    "Quick sort **is not** a stable sorting algorithm."
   ]
  },
  {
   "cell_type": "code",
   "execution_count": 20,
   "metadata": {},
   "outputs": [
    {
     "name": "stdout",
     "output_type": "stream",
     "text": [
      "[(1, 'a'), (1, 'b'), (1, 'c'), (2, 'man'), (2, 'woman')]\n"
     ]
    }
   ],
   "source": [
    "def partition(arr, low, high):\n",
    "    pivot = arr[high]\n",
    "    i = low\n",
    "\n",
    "    for j in range(low, high):\n",
    "        if arr[j][0] <= pivot[0]:  # Comparing the integers\n",
    "            arr[i], arr[j] = arr[j], arr[i]\n",
    "            i += 1\n",
    "\n",
    "    arr[i], arr[high] = arr[high], arr[i]\n",
    "\n",
    "    return i\n",
    "\n",
    "\n",
    "def quick_sort(arr, low, high):\n",
    "    if low < high:\n",
    "        pi = partition(arr, low, high)\n",
    "\n",
    "        quick_sort(arr, low, pi - 1)\n",
    "        quick_sort(arr, pi + 1, high)\n",
    "\n",
    "\n",
    "arr = [(2, \"woman\"), (1, \"a\"), (1, \"b\"), (2, \"man\"), (1, \"c\")]\n",
    "N = len(arr)\n",
    "\n",
    "quick_sort(arr, 0, N - 1)\n",
    "print(arr)"
   ]
  },
  {
   "cell_type": "markdown",
   "metadata": {},
   "source": [
    "## **Counting sort**"
   ]
  },
  {
   "cell_type": "markdown",
   "metadata": {},
   "source": [
    "Average time complexity: *O(N + K)*\n",
    "\n",
    "*N* = the number of items\n",
    "\n",
    "*K* = the number of possible values"
   ]
  },
  {
   "cell_type": "code",
   "execution_count": 21,
   "metadata": {},
   "outputs": [
    {
     "name": "stdout",
     "output_type": "stream",
     "text": [
      "[1, 2, 3, 4, 5, 6, 7, 8, 9]\n"
     ]
    }
   ],
   "source": [
    "arr = [9, 4, 3, 2, 6, 7, 1, 8, 5]\n",
    "\n",
    "N = len(arr)\n",
    "K = max(arr) + 1\n",
    "\n",
    "output = [0] * N\n",
    "count = [0] * K\n",
    "\n",
    "for i in range(N):\n",
    "    count[arr[i]] += 1\n",
    "\n",
    "for i in range(1, K):\n",
    "    count[i] += count[i - 1]\n",
    "\n",
    "for i in reversed(range(N)):\n",
    "    output[count[arr[i]] - 1] = arr[i]\n",
    "    count[arr[i]] -= 1\n",
    "\n",
    "for i in range(N):\n",
    "    arr[i] = output[i]\n",
    "\n",
    "print(arr)  # [1, 2, 3, 4, 5, 6, 7, 8, 9]"
   ]
  },
  {
   "cell_type": "markdown",
   "metadata": {},
   "source": [
    "Verbose version:"
   ]
  },
  {
   "cell_type": "code",
   "execution_count": 22,
   "metadata": {},
   "outputs": [
    {
     "name": "stdout",
     "output_type": "stream",
     "text": [
      "[5, 3, 2, 2, 5, 2, 3, 5, 6, 2]\n",
      "N = 10 K = 7\n",
      "The counts of each group: [0, 0, 4, 2, 0, 3, 1]\n",
      "The last index of each group: [0, 0, 4, 6, 6, 9, 10]\n",
      "Num = 2 -> to 3 pos. Output: [0, 0, 0, 2, 0, 0, 0, 0, 0, 0] Count: [0, 0, 3, 6, 6, 9, 10]\n",
      "Num = 6 -> to 9 pos. Output: [0, 0, 0, 2, 0, 0, 0, 0, 0, 6] Count: [0, 0, 3, 6, 6, 9, 9]\n",
      "Num = 5 -> to 8 pos. Output: [0, 0, 0, 2, 0, 0, 0, 0, 5, 6] Count: [0, 0, 3, 6, 6, 8, 9]\n",
      "Num = 3 -> to 5 pos. Output: [0, 0, 0, 2, 0, 3, 0, 0, 5, 6] Count: [0, 0, 3, 5, 6, 8, 9]\n",
      "Num = 2 -> to 2 pos. Output: [0, 0, 2, 2, 0, 3, 0, 0, 5, 6] Count: [0, 0, 2, 5, 6, 8, 9]\n",
      "Num = 5 -> to 7 pos. Output: [0, 0, 2, 2, 0, 3, 0, 5, 5, 6] Count: [0, 0, 2, 5, 6, 7, 9]\n",
      "Num = 2 -> to 1 pos. Output: [0, 2, 2, 2, 0, 3, 0, 5, 5, 6] Count: [0, 0, 1, 5, 6, 7, 9]\n",
      "Num = 2 -> to 0 pos. Output: [2, 2, 2, 2, 0, 3, 0, 5, 5, 6] Count: [0, 0, 0, 5, 6, 7, 9]\n",
      "Num = 3 -> to 4 pos. Output: [2, 2, 2, 2, 3, 3, 0, 5, 5, 6] Count: [0, 0, 0, 4, 6, 7, 9]\n",
      "Num = 5 -> to 6 pos. Output: [2, 2, 2, 2, 3, 3, 5, 5, 5, 6] Count: [0, 0, 0, 4, 6, 6, 9]\n",
      "[2, 2, 2, 2, 3, 3, 5, 5, 5, 6]\n"
     ]
    }
   ],
   "source": [
    "# arr = [9, 4, 3, 2, 6, 7, 1, 8, 5]\n",
    "arr = [5, 3, 2, 2, 5, 2, 3, 5, 6, 2]  # Cooler variant\n",
    "print(arr)\n",
    "\n",
    "N = len(arr)\n",
    "K = max(arr) + 1\n",
    "print(\"N =\", N, \"K =\", K)\n",
    "\n",
    "output = [0] * N\n",
    "count = [0] * K\n",
    "\n",
    "for i in range(N):\n",
    "    count[arr[i]] += 1\n",
    "\n",
    "print(\"The counts of each group:\", count)\n",
    "\n",
    "for i in range(1, K):\n",
    "    count[i] += count[i - 1]\n",
    "\n",
    "print(\"The last index of each group:\", count)\n",
    "\n",
    "for i in reversed(range(N)):\n",
    "    print(f\"Num = {arr[i]} -> to {count[arr[i]] - 1} pos.\", end=\" \")\n",
    "\n",
    "    output[count[arr[i]] - 1] = arr[i]\n",
    "    count[arr[i]] -= 1\n",
    "\n",
    "    print(\"Output:\", output, \"Count:\", count)\n",
    "\n",
    "for i in range(N):\n",
    "    arr[i] = output[i]\n",
    "\n",
    "print(arr)  # [1, 2, 3, 4, 5, 6, 7, 8, 9]"
   ]
  },
  {
   "cell_type": "markdown",
   "metadata": {},
   "source": [
    "Counting sort version that dynamically handles the minimal value (values are not limited from 0 to K)."
   ]
  },
  {
   "cell_type": "code",
   "execution_count": 23,
   "metadata": {},
   "outputs": [
    {
     "name": "stdout",
     "output_type": "stream",
     "text": [
      "10\n",
      "[-3, -2, -1, 0, 1, 2, 4, 5, 6]\n"
     ]
    }
   ],
   "source": [
    "arr = [0, 4, -3, -2, 1, 2, -1, 6, 5]\n",
    "\n",
    "N = len(arr)\n",
    "max_value = max(arr)\n",
    "min_value = min(arr)\n",
    "\n",
    "K = max_value - min_value + 1\n",
    "\n",
    "print(K)  # 10\n",
    "\n",
    "output = [0] * N\n",
    "count = [0] * K\n",
    "\n",
    "for i in range(N):\n",
    "    count[arr[i] - min_value] += 1\n",
    "\n",
    "for i in range(1, K):\n",
    "    count[i] += count[i - 1]\n",
    "\n",
    "for i in reversed(range(N)):\n",
    "    output[count[arr[i] - min_value] - 1] = arr[i]\n",
    "    count[arr[i] - min_value] -= 1\n",
    "\n",
    "for i in range(N):\n",
    "    arr[i] = output[i]\n",
    "\n",
    "print(arr)  # [-3, -2, -1, 0, 1, 2, 4, 5, 6]"
   ]
  },
  {
   "cell_type": "markdown",
   "metadata": {},
   "source": [
    "Counting sort **is a** stable algorithm."
   ]
  },
  {
   "cell_type": "code",
   "execution_count": 24,
   "metadata": {},
   "outputs": [
    {
     "name": "stdout",
     "output_type": "stream",
     "text": [
      "[(5, 'Bailey'), (5, 'Luna'), (6, 'Bella'), (6, 'Charlie'), (6, 'Daisy')]\n"
     ]
    }
   ],
   "source": [
    "arr = [(6, \"Bella\"), (5, \"Bailey\"), (6, \"Charlie\"), (6, \"Daisy\"), (5, \"Luna\")]\n",
    "\n",
    "N = len(arr)\n",
    "K = max(el[0] for el in arr) + 1\n",
    "\n",
    "output = [0] * N\n",
    "count = [0] * K\n",
    "\n",
    "for i in range(N):\n",
    "    count[arr[i][0]] += 1\n",
    "\n",
    "for i in range(1, K):\n",
    "    count[i] += count[i - 1]\n",
    "\n",
    "for i in reversed(range(N)):\n",
    "    output[count[arr[i][0]] - 1] = arr[i]\n",
    "    count[arr[i][0]] -= 1\n",
    "\n",
    "for i in range(N):\n",
    "    arr[i] = output[i]\n",
    "\n",
    "print(arr)"
   ]
  },
  {
   "cell_type": "code",
   "execution_count": null,
   "metadata": {},
   "outputs": [],
   "source": []
  }
 ],
 "metadata": {
  "kernelspec": {
   "display_name": "Python 3",
   "language": "python",
   "name": "python3"
  },
  "language_info": {
   "codemirror_mode": {
    "name": "ipython",
    "version": 3
   },
   "file_extension": ".py",
   "mimetype": "text/x-python",
   "name": "python",
   "nbconvert_exporter": "python",
   "pygments_lexer": "ipython3",
   "version": "3.8.10"
  }
 },
 "nbformat": 4,
 "nbformat_minor": 2
}
